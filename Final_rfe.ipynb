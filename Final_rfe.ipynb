{
  "nbformat": 4,
  "nbformat_minor": 0,
  "metadata": {
    "colab": {
      "name": "Final_rfe.ipynb",
      "provenance": [],
      "collapsed_sections": []
    },
    "kernelspec": {
      "name": "python3",
      "display_name": "Python 3"
    }
  },
  "cells": [
    {
      "cell_type": "code",
      "metadata": {
        "id": "bxb7AgIPbTaw",
        "colab_type": "code",
        "outputId": "410d54c7-423b-4bcc-c13c-d0e38eb48cc5",
        "colab": {
          "base_uri": "https://localhost:8080/",
          "height": 124
        }
      },
      "source": [
        "from google.colab import drive\n",
        "drive.mount('/content/drive')"
      ],
      "execution_count": 1,
      "outputs": [
        {
          "output_type": "stream",
          "text": [
            "Go to this URL in a browser: https://accounts.google.com/o/oauth2/auth?client_id=947318989803-6bn6qk8qdgf4n4g3pfee6491hc0brc4i.apps.googleusercontent.com&redirect_uri=urn%3aietf%3awg%3aoauth%3a2.0%3aoob&response_type=code&scope=email%20https%3a%2f%2fwww.googleapis.com%2fauth%2fdocs.test%20https%3a%2f%2fwww.googleapis.com%2fauth%2fdrive%20https%3a%2f%2fwww.googleapis.com%2fauth%2fdrive.photos.readonly%20https%3a%2f%2fwww.googleapis.com%2fauth%2fpeopleapi.readonly\n",
            "\n",
            "Enter your authorization code:\n",
            "··········\n",
            "Mounted at /content/drive\n"
          ],
          "name": "stdout"
        }
      ]
    },
    {
      "cell_type": "code",
      "metadata": {
        "id": "5pPh2LmnyuFV",
        "colab_type": "code",
        "outputId": "ff60a2e2-b6b5-45b9-fcfd-90c08bf8a809",
        "colab": {
          "base_uri": "https://localhost:8080/",
          "height": 107
        }
      },
      "source": [
        "pip install squarify"
      ],
      "execution_count": 2,
      "outputs": [
        {
          "output_type": "stream",
          "text": [
            "Collecting squarify\n",
            "  Downloading https://files.pythonhosted.org/packages/0b/2b/2e77c35326efec19819cd1d729540d4d235e6c2a3f37658288a363a67da5/squarify-0.4.3-py3-none-any.whl\n",
            "Installing collected packages: squarify\n",
            "Successfully installed squarify-0.4.3\n"
          ],
          "name": "stdout"
        }
      ]
    },
    {
      "cell_type": "code",
      "metadata": {
        "id": "rkUMMmZbbZSG",
        "colab_type": "code",
        "colab": {}
      },
      "source": [
        "# import libraries\n",
        "import datetime as dt\n",
        "import pandas as pd\n",
        "import numpy as np\n",
        "#import librarys for plotting\n",
        "%matplotlib inline\n",
        "import matplotlib.pyplot as plt\n",
        "import squarify\n",
        "from plotly.offline import iplot, init_notebook_mode\n",
        "import plotly.graph_objects as go\n",
        "import plotly.offline as pyoff\n",
        "import plotly.express as px"
      ],
      "execution_count": 0,
      "outputs": []
    },
    {
      "cell_type": "markdown",
      "metadata": {
        "id": "Ik1SwYnobfcp",
        "colab_type": "text"
      },
      "source": [
        "#Exploratory Data Analysis"
      ]
    },
    {
      "cell_type": "code",
      "metadata": {
        "id": "XEd0E6zVbgXe",
        "colab_type": "code",
        "colab": {}
      },
      "source": [
        "#loading data from csv\n",
        "df = pd.read_csv(r'/content/drive/My Drive/ADM/Project/rfm/twitch_ds.csv')"
      ],
      "execution_count": 0,
      "outputs": []
    },
    {
      "cell_type": "code",
      "metadata": {
        "id": "xNW-eZcMbk6T",
        "colab_type": "code",
        "outputId": "0cd3df98-e5cb-42f8-b1b5-984d60a5fdb9",
        "colab": {
          "base_uri": "https://localhost:8080/",
          "height": 202
        }
      },
      "source": [
        "df.head()"
      ],
      "execution_count": 5,
      "outputs": [
        {
          "output_type": "execute_result",
          "data": {
            "text/html": [
              "<div>\n",
              "<style scoped>\n",
              "    .dataframe tbody tr th:only-of-type {\n",
              "        vertical-align: middle;\n",
              "    }\n",
              "\n",
              "    .dataframe tbody tr th {\n",
              "        vertical-align: top;\n",
              "    }\n",
              "\n",
              "    .dataframe thead th {\n",
              "        text-align: right;\n",
              "    }\n",
              "</style>\n",
              "<table border=\"1\" class=\"dataframe\">\n",
              "  <thead>\n",
              "    <tr style=\"text-align: right;\">\n",
              "      <th></th>\n",
              "      <th>Unnamed: 0</th>\n",
              "      <th>visit_id</th>\n",
              "      <th>start_time</th>\n",
              "      <th>viewer_id</th>\n",
              "      <th>duration</th>\n",
              "      <th>country</th>\n",
              "      <th>gender</th>\n",
              "      <th>age</th>\n",
              "    </tr>\n",
              "  </thead>\n",
              "  <tbody>\n",
              "    <tr>\n",
              "      <th>0</th>\n",
              "      <td>0</td>\n",
              "      <td>536365</td>\n",
              "      <td>12/1/2018 8:26</td>\n",
              "      <td>17850.0</td>\n",
              "      <td>15.30</td>\n",
              "      <td>Russia</td>\n",
              "      <td>male</td>\n",
              "      <td>27</td>\n",
              "    </tr>\n",
              "    <tr>\n",
              "      <th>1</th>\n",
              "      <td>1</td>\n",
              "      <td>536365</td>\n",
              "      <td>12/1/2018 8:26</td>\n",
              "      <td>17850.0</td>\n",
              "      <td>20.34</td>\n",
              "      <td>Russia</td>\n",
              "      <td>male</td>\n",
              "      <td>27</td>\n",
              "    </tr>\n",
              "    <tr>\n",
              "      <th>2</th>\n",
              "      <td>2</td>\n",
              "      <td>536365</td>\n",
              "      <td>12/1/2018 8:26</td>\n",
              "      <td>17850.0</td>\n",
              "      <td>22.00</td>\n",
              "      <td>Russia</td>\n",
              "      <td>male</td>\n",
              "      <td>27</td>\n",
              "    </tr>\n",
              "    <tr>\n",
              "      <th>3</th>\n",
              "      <td>3</td>\n",
              "      <td>536365</td>\n",
              "      <td>12/1/2018 8:26</td>\n",
              "      <td>17850.0</td>\n",
              "      <td>20.34</td>\n",
              "      <td>Russia</td>\n",
              "      <td>male</td>\n",
              "      <td>27</td>\n",
              "    </tr>\n",
              "    <tr>\n",
              "      <th>4</th>\n",
              "      <td>4</td>\n",
              "      <td>536365</td>\n",
              "      <td>12/1/2018 8:26</td>\n",
              "      <td>17850.0</td>\n",
              "      <td>20.34</td>\n",
              "      <td>Russia</td>\n",
              "      <td>male</td>\n",
              "      <td>27</td>\n",
              "    </tr>\n",
              "  </tbody>\n",
              "</table>\n",
              "</div>"
            ],
            "text/plain": [
              "   Unnamed: 0  visit_id      start_time  ...  country  gender age\n",
              "0           0    536365  12/1/2018 8:26  ...   Russia    male  27\n",
              "1           1    536365  12/1/2018 8:26  ...   Russia    male  27\n",
              "2           2    536365  12/1/2018 8:26  ...   Russia    male  27\n",
              "3           3    536365  12/1/2018 8:26  ...   Russia    male  27\n",
              "4           4    536365  12/1/2018 8:26  ...   Russia    male  27\n",
              "\n",
              "[5 rows x 8 columns]"
            ]
          },
          "metadata": {
            "tags": []
          },
          "execution_count": 5
        }
      ]
    },
    {
      "cell_type": "code",
      "metadata": {
        "id": "jsnaQ5v0bnVk",
        "colab_type": "code",
        "outputId": "223b4f9e-c181-474c-b067-66d68e9dbb99",
        "colab": {
          "base_uri": "https://localhost:8080/",
          "height": 173
        }
      },
      "source": [
        "df.dtypes"
      ],
      "execution_count": 6,
      "outputs": [
        {
          "output_type": "execute_result",
          "data": {
            "text/plain": [
              "Unnamed: 0      int64\n",
              "visit_id        int64\n",
              "start_time     object\n",
              "viewer_id     float64\n",
              "duration      float64\n",
              "country        object\n",
              "gender         object\n",
              "age             int64\n",
              "dtype: object"
            ]
          },
          "metadata": {
            "tags": []
          },
          "execution_count": 6
        }
      ]
    },
    {
      "cell_type": "code",
      "metadata": {
        "id": "8xlFSL7O5yF_",
        "colab_type": "code",
        "colab": {}
      },
      "source": [
        "df=df.drop(['Unnamed: 0'], axis=1)"
      ],
      "execution_count": 0,
      "outputs": []
    },
    {
      "cell_type": "code",
      "metadata": {
        "id": "sqp_Bl6DbnTE",
        "colab_type": "code",
        "colab": {}
      },
      "source": [
        "#taking only the dates and leaving out the timestamps\n",
        "df['start_time'] = pd.to_datetime(df['start_time']).dt.date"
      ],
      "execution_count": 0,
      "outputs": []
    },
    {
      "cell_type": "code",
      "metadata": {
        "id": "YfJ6hN6bbnQk",
        "colab_type": "code",
        "outputId": "a09cc8ab-571c-4046-86f9-de35fd0c5397",
        "colab": {
          "base_uri": "https://localhost:8080/",
          "height": 156
        }
      },
      "source": [
        "df.dtypes"
      ],
      "execution_count": 9,
      "outputs": [
        {
          "output_type": "execute_result",
          "data": {
            "text/plain": [
              "visit_id        int64\n",
              "start_time     object\n",
              "viewer_id     float64\n",
              "duration      float64\n",
              "country        object\n",
              "gender         object\n",
              "age             int64\n",
              "dtype: object"
            ]
          },
          "metadata": {
            "tags": []
          },
          "execution_count": 9
        }
      ]
    },
    {
      "cell_type": "code",
      "metadata": {
        "id": "CCevCKcJbnOz",
        "colab_type": "code",
        "outputId": "0e95e9af-7afa-4652-c3ee-51002393e5ff",
        "colab": {
          "base_uri": "https://localhost:8080/",
          "height": 35
        }
      },
      "source": [
        "#checking for number of unique users in the dataset\n",
        "df.viewer_id.nunique()"
      ],
      "execution_count": 10,
      "outputs": [
        {
          "output_type": "execute_result",
          "data": {
            "text/plain": [
              "4338"
            ]
          },
          "metadata": {
            "tags": []
          },
          "execution_count": 10
        }
      ]
    },
    {
      "cell_type": "code",
      "metadata": {
        "id": "7H7DpWApbnMm",
        "colab_type": "code",
        "outputId": "55fb9d37-ec05-4f44-bb22-5008990db470",
        "colab": {
          "base_uri": "https://localhost:8080/",
          "height": 364
        }
      },
      "source": [
        "#checking for the distribution of users in various countries\n",
        "df_countries = df['country'].value_counts()\n",
        "print(df_countries)"
      ],
      "execution_count": 11,
      "outputs": [
        {
          "output_type": "stream",
          "text": [
            "United States         347640\n",
            "Germany                22385\n",
            "Russia                 12399\n",
            "United Kingdom          4284\n",
            "Brazil                  4098\n",
            "Switzerland             1841\n",
            "Portugal                1462\n",
            "Italy                    758\n",
            "Channel Islands          748\n",
            "Finland                  685\n",
            "Poland                   330\n",
            "Japan                    321\n",
            "Israel                   248\n",
            "Singapore                222\n",
            "Iceland                  182\n",
            "Canada                   151\n",
            "European Community        60\n",
            "Lebanon                   45\n",
            "Czech Republic            25\n",
            "Name: country, dtype: int64\n"
          ],
          "name": "stdout"
        }
      ]
    },
    {
      "cell_type": "code",
      "metadata": {
        "id": "1GUjhosRbnJu",
        "colab_type": "code",
        "outputId": "1cc5dd62-9ddd-4673-f94c-2b0d797a9dc4",
        "colab": {
          "base_uri": "https://localhost:8080/",
          "height": 417
        }
      },
      "source": [
        "#Visualization of visitors in top 5 countries\n",
        "source_counts = df['country'].value_counts()[:5].to_frame(\"Count\").reset_index()\n",
        "\n",
        "px.bar(\n",
        "    source_counts, x=\"index\", y=\"Count\", template=\"plotly_white\",\n",
        "    labels=dict(Count=\"Number of Visits\", index=\"Country\"), \n",
        "    width=800, height=400, title=\"Visitors by country\"\n",
        ")"
      ],
      "execution_count": 12,
      "outputs": [
        {
          "output_type": "display_data",
          "data": {
            "text/html": [
              "<html>\n",
              "<head><meta charset=\"utf-8\" /></head>\n",
              "<body>\n",
              "    <div>\n",
              "            <script src=\"https://cdnjs.cloudflare.com/ajax/libs/mathjax/2.7.5/MathJax.js?config=TeX-AMS-MML_SVG\"></script><script type=\"text/javascript\">if (window.MathJax) {MathJax.Hub.Config({SVG: {font: \"STIX-Web\"}});}</script>\n",
              "                <script type=\"text/javascript\">window.PlotlyConfig = {MathJaxConfig: 'local'};</script>\n",
              "        <script src=\"https://cdn.plot.ly/plotly-latest.min.js\"></script>    \n",
              "            <div id=\"77d6d4e5-fb86-41e8-999b-e51c1c062933\" class=\"plotly-graph-div\" style=\"height:400px; width:800px;\"></div>\n",
              "            <script type=\"text/javascript\">\n",
              "                \n",
              "                    window.PLOTLYENV=window.PLOTLYENV || {};\n",
              "                    \n",
              "                if (document.getElementById(\"77d6d4e5-fb86-41e8-999b-e51c1c062933\")) {\n",
              "                    Plotly.newPlot(\n",
              "                        '77d6d4e5-fb86-41e8-999b-e51c1c062933',\n",
              "                        [{\"alignmentgroup\": \"True\", \"hoverlabel\": {\"namelength\": 0}, \"hovertemplate\": \"Country=%{x}<br>Number of Visits=%{y}\", \"legendgroup\": \"\", \"marker\": {\"color\": \"#636efa\"}, \"name\": \"\", \"offsetgroup\": \"\", \"orientation\": \"v\", \"showlegend\": false, \"textposition\": \"auto\", \"type\": \"bar\", \"x\": [\"United States\", \"Germany\", \"Russia\", \"United Kingdom\", \"Brazil\"], \"xaxis\": \"x\", \"y\": [347640, 22385, 12399, 4284, 4098], \"yaxis\": \"y\"}],\n",
              "                        {\"barmode\": \"relative\", \"height\": 400, \"legend\": {\"tracegroupgap\": 0}, \"template\": {\"data\": {\"bar\": [{\"error_x\": {\"color\": \"#2a3f5f\"}, \"error_y\": {\"color\": \"#2a3f5f\"}, \"marker\": {\"line\": {\"color\": \"white\", \"width\": 0.5}}, \"type\": \"bar\"}], \"barpolar\": [{\"marker\": {\"line\": {\"color\": \"white\", \"width\": 0.5}}, \"type\": \"barpolar\"}], \"carpet\": [{\"aaxis\": {\"endlinecolor\": \"#2a3f5f\", \"gridcolor\": \"#C8D4E3\", \"linecolor\": \"#C8D4E3\", \"minorgridcolor\": \"#C8D4E3\", \"startlinecolor\": \"#2a3f5f\"}, \"baxis\": {\"endlinecolor\": \"#2a3f5f\", \"gridcolor\": \"#C8D4E3\", \"linecolor\": \"#C8D4E3\", \"minorgridcolor\": \"#C8D4E3\", \"startlinecolor\": \"#2a3f5f\"}, \"type\": \"carpet\"}], \"choropleth\": [{\"colorbar\": {\"outlinewidth\": 0, \"ticks\": \"\"}, \"type\": \"choropleth\"}], \"contour\": [{\"colorbar\": {\"outlinewidth\": 0, \"ticks\": \"\"}, \"colorscale\": [[0.0, \"#0d0887\"], [0.1111111111111111, \"#46039f\"], [0.2222222222222222, \"#7201a8\"], [0.3333333333333333, \"#9c179e\"], [0.4444444444444444, \"#bd3786\"], [0.5555555555555556, \"#d8576b\"], [0.6666666666666666, \"#ed7953\"], [0.7777777777777778, \"#fb9f3a\"], [0.8888888888888888, \"#fdca26\"], [1.0, \"#f0f921\"]], \"type\": \"contour\"}], \"contourcarpet\": [{\"colorbar\": {\"outlinewidth\": 0, \"ticks\": \"\"}, \"type\": \"contourcarpet\"}], \"heatmap\": [{\"colorbar\": {\"outlinewidth\": 0, \"ticks\": \"\"}, \"colorscale\": [[0.0, \"#0d0887\"], [0.1111111111111111, \"#46039f\"], [0.2222222222222222, \"#7201a8\"], [0.3333333333333333, \"#9c179e\"], [0.4444444444444444, \"#bd3786\"], [0.5555555555555556, \"#d8576b\"], [0.6666666666666666, \"#ed7953\"], [0.7777777777777778, \"#fb9f3a\"], [0.8888888888888888, \"#fdca26\"], [1.0, \"#f0f921\"]], \"type\": \"heatmap\"}], \"heatmapgl\": [{\"colorbar\": {\"outlinewidth\": 0, \"ticks\": \"\"}, \"colorscale\": [[0.0, \"#0d0887\"], [0.1111111111111111, \"#46039f\"], [0.2222222222222222, \"#7201a8\"], [0.3333333333333333, \"#9c179e\"], [0.4444444444444444, \"#bd3786\"], [0.5555555555555556, \"#d8576b\"], [0.6666666666666666, \"#ed7953\"], [0.7777777777777778, \"#fb9f3a\"], [0.8888888888888888, \"#fdca26\"], [1.0, \"#f0f921\"]], \"type\": \"heatmapgl\"}], \"histogram\": [{\"marker\": {\"colorbar\": {\"outlinewidth\": 0, \"ticks\": \"\"}}, \"type\": \"histogram\"}], \"histogram2d\": [{\"colorbar\": {\"outlinewidth\": 0, \"ticks\": \"\"}, \"colorscale\": [[0.0, \"#0d0887\"], [0.1111111111111111, \"#46039f\"], [0.2222222222222222, \"#7201a8\"], [0.3333333333333333, \"#9c179e\"], [0.4444444444444444, \"#bd3786\"], [0.5555555555555556, \"#d8576b\"], [0.6666666666666666, \"#ed7953\"], [0.7777777777777778, \"#fb9f3a\"], [0.8888888888888888, \"#fdca26\"], [1.0, \"#f0f921\"]], \"type\": \"histogram2d\"}], \"histogram2dcontour\": [{\"colorbar\": {\"outlinewidth\": 0, \"ticks\": \"\"}, \"colorscale\": [[0.0, \"#0d0887\"], [0.1111111111111111, \"#46039f\"], [0.2222222222222222, \"#7201a8\"], [0.3333333333333333, \"#9c179e\"], [0.4444444444444444, \"#bd3786\"], [0.5555555555555556, \"#d8576b\"], [0.6666666666666666, \"#ed7953\"], [0.7777777777777778, \"#fb9f3a\"], [0.8888888888888888, \"#fdca26\"], [1.0, \"#f0f921\"]], \"type\": \"histogram2dcontour\"}], \"mesh3d\": [{\"colorbar\": {\"outlinewidth\": 0, \"ticks\": \"\"}, \"type\": \"mesh3d\"}], \"parcoords\": [{\"line\": {\"colorbar\": {\"outlinewidth\": 0, \"ticks\": \"\"}}, \"type\": \"parcoords\"}], \"pie\": [{\"automargin\": true, \"type\": \"pie\"}], \"scatter\": [{\"marker\": {\"colorbar\": {\"outlinewidth\": 0, \"ticks\": \"\"}}, \"type\": \"scatter\"}], \"scatter3d\": [{\"line\": {\"colorbar\": {\"outlinewidth\": 0, \"ticks\": \"\"}}, \"marker\": {\"colorbar\": {\"outlinewidth\": 0, \"ticks\": \"\"}}, \"type\": \"scatter3d\"}], \"scattercarpet\": [{\"marker\": {\"colorbar\": {\"outlinewidth\": 0, \"ticks\": \"\"}}, \"type\": \"scattercarpet\"}], \"scattergeo\": [{\"marker\": {\"colorbar\": {\"outlinewidth\": 0, \"ticks\": \"\"}}, \"type\": \"scattergeo\"}], \"scattergl\": [{\"marker\": {\"colorbar\": {\"outlinewidth\": 0, \"ticks\": \"\"}}, \"type\": \"scattergl\"}], \"scattermapbox\": [{\"marker\": {\"colorbar\": {\"outlinewidth\": 0, \"ticks\": \"\"}}, \"type\": \"scattermapbox\"}], \"scatterpolar\": [{\"marker\": {\"colorbar\": {\"outlinewidth\": 0, \"ticks\": \"\"}}, \"type\": \"scatterpolar\"}], \"scatterpolargl\": [{\"marker\": {\"colorbar\": {\"outlinewidth\": 0, \"ticks\": \"\"}}, \"type\": \"scatterpolargl\"}], \"scatterternary\": [{\"marker\": {\"colorbar\": {\"outlinewidth\": 0, \"ticks\": \"\"}}, \"type\": \"scatterternary\"}], \"surface\": [{\"colorbar\": {\"outlinewidth\": 0, \"ticks\": \"\"}, \"colorscale\": [[0.0, \"#0d0887\"], [0.1111111111111111, \"#46039f\"], [0.2222222222222222, \"#7201a8\"], [0.3333333333333333, \"#9c179e\"], [0.4444444444444444, \"#bd3786\"], [0.5555555555555556, \"#d8576b\"], [0.6666666666666666, \"#ed7953\"], [0.7777777777777778, \"#fb9f3a\"], [0.8888888888888888, \"#fdca26\"], [1.0, \"#f0f921\"]], \"type\": \"surface\"}], \"table\": [{\"cells\": {\"fill\": {\"color\": \"#EBF0F8\"}, \"line\": {\"color\": \"white\"}}, \"header\": {\"fill\": {\"color\": \"#C8D4E3\"}, \"line\": {\"color\": \"white\"}}, \"type\": \"table\"}]}, \"layout\": {\"annotationdefaults\": {\"arrowcolor\": \"#2a3f5f\", \"arrowhead\": 0, \"arrowwidth\": 1}, \"coloraxis\": {\"colorbar\": {\"outlinewidth\": 0, \"ticks\": \"\"}}, \"colorscale\": {\"diverging\": [[0, \"#8e0152\"], [0.1, \"#c51b7d\"], [0.2, \"#de77ae\"], [0.3, \"#f1b6da\"], [0.4, \"#fde0ef\"], [0.5, \"#f7f7f7\"], [0.6, \"#e6f5d0\"], [0.7, \"#b8e186\"], [0.8, \"#7fbc41\"], [0.9, \"#4d9221\"], [1, \"#276419\"]], \"sequential\": [[0.0, \"#0d0887\"], [0.1111111111111111, \"#46039f\"], [0.2222222222222222, \"#7201a8\"], [0.3333333333333333, \"#9c179e\"], [0.4444444444444444, \"#bd3786\"], [0.5555555555555556, \"#d8576b\"], [0.6666666666666666, \"#ed7953\"], [0.7777777777777778, \"#fb9f3a\"], [0.8888888888888888, \"#fdca26\"], [1.0, \"#f0f921\"]], \"sequentialminus\": [[0.0, \"#0d0887\"], [0.1111111111111111, \"#46039f\"], [0.2222222222222222, \"#7201a8\"], [0.3333333333333333, \"#9c179e\"], [0.4444444444444444, \"#bd3786\"], [0.5555555555555556, \"#d8576b\"], [0.6666666666666666, \"#ed7953\"], [0.7777777777777778, \"#fb9f3a\"], [0.8888888888888888, \"#fdca26\"], [1.0, \"#f0f921\"]]}, \"colorway\": [\"#636efa\", \"#EF553B\", \"#00cc96\", \"#ab63fa\", \"#FFA15A\", \"#19d3f3\", \"#FF6692\", \"#B6E880\", \"#FF97FF\", \"#FECB52\"], \"font\": {\"color\": \"#2a3f5f\"}, \"geo\": {\"bgcolor\": \"white\", \"lakecolor\": \"white\", \"landcolor\": \"white\", \"showlakes\": true, \"showland\": true, \"subunitcolor\": \"#C8D4E3\"}, \"hoverlabel\": {\"align\": \"left\"}, \"hovermode\": \"closest\", \"mapbox\": {\"style\": \"light\"}, \"paper_bgcolor\": \"white\", \"plot_bgcolor\": \"white\", \"polar\": {\"angularaxis\": {\"gridcolor\": \"#EBF0F8\", \"linecolor\": \"#EBF0F8\", \"ticks\": \"\"}, \"bgcolor\": \"white\", \"radialaxis\": {\"gridcolor\": \"#EBF0F8\", \"linecolor\": \"#EBF0F8\", \"ticks\": \"\"}}, \"scene\": {\"xaxis\": {\"backgroundcolor\": \"white\", \"gridcolor\": \"#DFE8F3\", \"gridwidth\": 2, \"linecolor\": \"#EBF0F8\", \"showbackground\": true, \"ticks\": \"\", \"zerolinecolor\": \"#EBF0F8\"}, \"yaxis\": {\"backgroundcolor\": \"white\", \"gridcolor\": \"#DFE8F3\", \"gridwidth\": 2, \"linecolor\": \"#EBF0F8\", \"showbackground\": true, \"ticks\": \"\", \"zerolinecolor\": \"#EBF0F8\"}, \"zaxis\": {\"backgroundcolor\": \"white\", \"gridcolor\": \"#DFE8F3\", \"gridwidth\": 2, \"linecolor\": \"#EBF0F8\", \"showbackground\": true, \"ticks\": \"\", \"zerolinecolor\": \"#EBF0F8\"}}, \"shapedefaults\": {\"line\": {\"color\": \"#2a3f5f\"}}, \"ternary\": {\"aaxis\": {\"gridcolor\": \"#DFE8F3\", \"linecolor\": \"#A2B1C6\", \"ticks\": \"\"}, \"baxis\": {\"gridcolor\": \"#DFE8F3\", \"linecolor\": \"#A2B1C6\", \"ticks\": \"\"}, \"bgcolor\": \"white\", \"caxis\": {\"gridcolor\": \"#DFE8F3\", \"linecolor\": \"#A2B1C6\", \"ticks\": \"\"}}, \"title\": {\"x\": 0.05}, \"xaxis\": {\"automargin\": true, \"gridcolor\": \"#EBF0F8\", \"linecolor\": \"#EBF0F8\", \"ticks\": \"\", \"title\": {\"standoff\": 15}, \"zerolinecolor\": \"#EBF0F8\", \"zerolinewidth\": 2}, \"yaxis\": {\"automargin\": true, \"gridcolor\": \"#EBF0F8\", \"linecolor\": \"#EBF0F8\", \"ticks\": \"\", \"title\": {\"standoff\": 15}, \"zerolinecolor\": \"#EBF0F8\", \"zerolinewidth\": 2}}}, \"title\": {\"text\": \"Visitors by country\"}, \"width\": 800, \"xaxis\": {\"anchor\": \"y\", \"domain\": [0.0, 1.0], \"title\": {\"text\": \"Country\"}}, \"yaxis\": {\"anchor\": \"x\", \"domain\": [0.0, 1.0], \"title\": {\"text\": \"Number of Visits\"}}},\n",
              "                        {\"responsive\": true}\n",
              "                    ).then(function(){\n",
              "                            \n",
              "var gd = document.getElementById('77d6d4e5-fb86-41e8-999b-e51c1c062933');\n",
              "var x = new MutationObserver(function (mutations, observer) {{\n",
              "        var display = window.getComputedStyle(gd).display;\n",
              "        if (!display || display === 'none') {{\n",
              "            console.log([gd, 'removed!']);\n",
              "            Plotly.purge(gd);\n",
              "            observer.disconnect();\n",
              "        }}\n",
              "}});\n",
              "\n",
              "// Listen for the removal of the full notebook cells\n",
              "var notebookContainer = gd.closest('#notebook-container');\n",
              "if (notebookContainer) {{\n",
              "    x.observe(notebookContainer, {childList: true});\n",
              "}}\n",
              "\n",
              "// Listen for the clearing of the current output cell\n",
              "var outputEl = gd.closest('.output');\n",
              "if (outputEl) {{\n",
              "    x.observe(outputEl, {childList: true});\n",
              "}}\n",
              "\n",
              "                        })\n",
              "                };\n",
              "                \n",
              "            </script>\n",
              "        </div>\n",
              "</body>\n",
              "</html>"
            ]
          },
          "metadata": {
            "tags": []
          }
        }
      ]
    },
    {
      "cell_type": "markdown",
      "metadata": {
        "id": "xUgi_xCTvvr3",
        "colab_type": "text"
      },
      "source": [
        "Since a majority of Twitch's userbase is in located in the US we have only considered users in this region"
      ]
    },
    {
      "cell_type": "code",
      "metadata": {
        "id": "zKZL-P3YvsNP",
        "colab_type": "code",
        "colab": {}
      },
      "source": [
        "df_us = df.query(\"country=='United States'\").reset_index(drop=True)"
      ],
      "execution_count": 0,
      "outputs": []
    },
    {
      "cell_type": "code",
      "metadata": {
        "id": "Axqdf88gvsER",
        "colab_type": "code",
        "colab": {}
      },
      "source": [
        "#create a generic user dataframe for keeping viewer_id's and new segmentation scores\n",
        "df_user = pd.DataFrame(df['viewer_id'].unique())\n",
        "df_user.columns = ['viewer_id']"
      ],
      "execution_count": 0,
      "outputs": []
    },
    {
      "cell_type": "code",
      "metadata": {
        "id": "Swi6nORxvsAd",
        "colab_type": "code",
        "outputId": "3093ec70-a943-4b66-f009-53f0acf5f0c5",
        "colab": {
          "base_uri": "https://localhost:8080/",
          "height": 202
        }
      },
      "source": [
        "df_user.head()"
      ],
      "execution_count": 15,
      "outputs": [
        {
          "output_type": "execute_result",
          "data": {
            "text/html": [
              "<div>\n",
              "<style scoped>\n",
              "    .dataframe tbody tr th:only-of-type {\n",
              "        vertical-align: middle;\n",
              "    }\n",
              "\n",
              "    .dataframe tbody tr th {\n",
              "        vertical-align: top;\n",
              "    }\n",
              "\n",
              "    .dataframe thead th {\n",
              "        text-align: right;\n",
              "    }\n",
              "</style>\n",
              "<table border=\"1\" class=\"dataframe\">\n",
              "  <thead>\n",
              "    <tr style=\"text-align: right;\">\n",
              "      <th></th>\n",
              "      <th>viewer_id</th>\n",
              "    </tr>\n",
              "  </thead>\n",
              "  <tbody>\n",
              "    <tr>\n",
              "      <th>0</th>\n",
              "      <td>17850.0</td>\n",
              "    </tr>\n",
              "    <tr>\n",
              "      <th>1</th>\n",
              "      <td>13047.0</td>\n",
              "    </tr>\n",
              "    <tr>\n",
              "      <th>2</th>\n",
              "      <td>12583.0</td>\n",
              "    </tr>\n",
              "    <tr>\n",
              "      <th>3</th>\n",
              "      <td>13748.0</td>\n",
              "    </tr>\n",
              "    <tr>\n",
              "      <th>4</th>\n",
              "      <td>15100.0</td>\n",
              "    </tr>\n",
              "  </tbody>\n",
              "</table>\n",
              "</div>"
            ],
            "text/plain": [
              "   viewer_id\n",
              "0    17850.0\n",
              "1    13047.0\n",
              "2    12583.0\n",
              "3    13748.0\n",
              "4    15100.0"
            ]
          },
          "metadata": {
            "tags": []
          },
          "execution_count": 15
        }
      ]
    },
    {
      "cell_type": "markdown",
      "metadata": {
        "id": "vOclXw0lwAPN",
        "colab_type": "text"
      },
      "source": [
        "#Recency"
      ]
    },
    {
      "cell_type": "code",
      "metadata": {
        "id": "fNofcJlWv6sn",
        "colab_type": "code",
        "colab": {}
      },
      "source": [
        "#get the most recent visit date (max visit) for each customer and create a dataframe with it\n",
        "df_max_visit = df_us.groupby('viewer_id').start_time.max().reset_index()\n",
        "df_max_visit.columns = ['viewer_id','MaxViewDate']"
      ],
      "execution_count": 0,
      "outputs": []
    },
    {
      "cell_type": "code",
      "metadata": {
        "id": "Z-H6V8nWv6rA",
        "colab_type": "code",
        "outputId": "d48ed7f5-d115-49ba-a32a-6413e36386e2",
        "colab": {
          "base_uri": "https://localhost:8080/",
          "height": 202
        }
      },
      "source": [
        "df_max_visit.head()"
      ],
      "execution_count": 17,
      "outputs": [
        {
          "output_type": "execute_result",
          "data": {
            "text/html": [
              "<div>\n",
              "<style scoped>\n",
              "    .dataframe tbody tr th:only-of-type {\n",
              "        vertical-align: middle;\n",
              "    }\n",
              "\n",
              "    .dataframe tbody tr th {\n",
              "        vertical-align: top;\n",
              "    }\n",
              "\n",
              "    .dataframe thead th {\n",
              "        text-align: right;\n",
              "    }\n",
              "</style>\n",
              "<table border=\"1\" class=\"dataframe\">\n",
              "  <thead>\n",
              "    <tr style=\"text-align: right;\">\n",
              "      <th></th>\n",
              "      <th>viewer_id</th>\n",
              "      <th>MaxViewDate</th>\n",
              "    </tr>\n",
              "  </thead>\n",
              "  <tbody>\n",
              "    <tr>\n",
              "      <th>0</th>\n",
              "      <td>12346.0</td>\n",
              "      <td>2019-01-18</td>\n",
              "    </tr>\n",
              "    <tr>\n",
              "      <th>1</th>\n",
              "      <td>12747.0</td>\n",
              "      <td>2019-12-07</td>\n",
              "    </tr>\n",
              "    <tr>\n",
              "      <th>2</th>\n",
              "      <td>12748.0</td>\n",
              "      <td>2019-12-09</td>\n",
              "    </tr>\n",
              "    <tr>\n",
              "      <th>3</th>\n",
              "      <td>12749.0</td>\n",
              "      <td>2019-12-06</td>\n",
              "    </tr>\n",
              "    <tr>\n",
              "      <th>4</th>\n",
              "      <td>12820.0</td>\n",
              "      <td>2019-12-06</td>\n",
              "    </tr>\n",
              "  </tbody>\n",
              "</table>\n",
              "</div>"
            ],
            "text/plain": [
              "   viewer_id MaxViewDate\n",
              "0    12346.0  2019-01-18\n",
              "1    12747.0  2019-12-07\n",
              "2    12748.0  2019-12-09\n",
              "3    12749.0  2019-12-06\n",
              "4    12820.0  2019-12-06"
            ]
          },
          "metadata": {
            "tags": []
          },
          "execution_count": 17
        }
      ]
    },
    {
      "cell_type": "code",
      "metadata": {
        "id": "-26kvaRov6oS",
        "colab_type": "code",
        "colab": {}
      },
      "source": [
        "#we take our observation point as the max visit date in our dataset\n",
        "df_max_visit['Recency'] = (df_max_visit['MaxViewDate'].max() - df_max_visit['MaxViewDate']).dt.days"
      ],
      "execution_count": 0,
      "outputs": []
    },
    {
      "cell_type": "code",
      "metadata": {
        "id": "hACh93w3v6lm",
        "colab_type": "code",
        "outputId": "40b534a4-fa4d-4779-96ae-583f8d19d44d",
        "colab": {
          "base_uri": "https://localhost:8080/",
          "height": 415
        }
      },
      "source": [
        "df_max_visit"
      ],
      "execution_count": 19,
      "outputs": [
        {
          "output_type": "execute_result",
          "data": {
            "text/html": [
              "<div>\n",
              "<style scoped>\n",
              "    .dataframe tbody tr th:only-of-type {\n",
              "        vertical-align: middle;\n",
              "    }\n",
              "\n",
              "    .dataframe tbody tr th {\n",
              "        vertical-align: top;\n",
              "    }\n",
              "\n",
              "    .dataframe thead th {\n",
              "        text-align: right;\n",
              "    }\n",
              "</style>\n",
              "<table border=\"1\" class=\"dataframe\">\n",
              "  <thead>\n",
              "    <tr style=\"text-align: right;\">\n",
              "      <th></th>\n",
              "      <th>viewer_id</th>\n",
              "      <th>MaxViewDate</th>\n",
              "      <th>Recency</th>\n",
              "    </tr>\n",
              "  </thead>\n",
              "  <tbody>\n",
              "    <tr>\n",
              "      <th>0</th>\n",
              "      <td>12346.0</td>\n",
              "      <td>2019-01-18</td>\n",
              "      <td>325</td>\n",
              "    </tr>\n",
              "    <tr>\n",
              "      <th>1</th>\n",
              "      <td>12747.0</td>\n",
              "      <td>2019-12-07</td>\n",
              "      <td>2</td>\n",
              "    </tr>\n",
              "    <tr>\n",
              "      <th>2</th>\n",
              "      <td>12748.0</td>\n",
              "      <td>2019-12-09</td>\n",
              "      <td>0</td>\n",
              "    </tr>\n",
              "    <tr>\n",
              "      <th>3</th>\n",
              "      <td>12749.0</td>\n",
              "      <td>2019-12-06</td>\n",
              "      <td>3</td>\n",
              "    </tr>\n",
              "    <tr>\n",
              "      <th>4</th>\n",
              "      <td>12820.0</td>\n",
              "      <td>2019-12-06</td>\n",
              "      <td>3</td>\n",
              "    </tr>\n",
              "    <tr>\n",
              "      <th>...</th>\n",
              "      <td>...</td>\n",
              "      <td>...</td>\n",
              "      <td>...</td>\n",
              "    </tr>\n",
              "    <tr>\n",
              "      <th>3869</th>\n",
              "      <td>18280.0</td>\n",
              "      <td>2019-03-07</td>\n",
              "      <td>277</td>\n",
              "    </tr>\n",
              "    <tr>\n",
              "      <th>3870</th>\n",
              "      <td>18281.0</td>\n",
              "      <td>2019-06-12</td>\n",
              "      <td>180</td>\n",
              "    </tr>\n",
              "    <tr>\n",
              "      <th>3871</th>\n",
              "      <td>18282.0</td>\n",
              "      <td>2019-12-02</td>\n",
              "      <td>7</td>\n",
              "    </tr>\n",
              "    <tr>\n",
              "      <th>3872</th>\n",
              "      <td>18283.0</td>\n",
              "      <td>2019-12-06</td>\n",
              "      <td>3</td>\n",
              "    </tr>\n",
              "    <tr>\n",
              "      <th>3873</th>\n",
              "      <td>18287.0</td>\n",
              "      <td>2019-10-28</td>\n",
              "      <td>42</td>\n",
              "    </tr>\n",
              "  </tbody>\n",
              "</table>\n",
              "<p>3874 rows × 3 columns</p>\n",
              "</div>"
            ],
            "text/plain": [
              "      viewer_id MaxViewDate  Recency\n",
              "0       12346.0  2019-01-18      325\n",
              "1       12747.0  2019-12-07        2\n",
              "2       12748.0  2019-12-09        0\n",
              "3       12749.0  2019-12-06        3\n",
              "4       12820.0  2019-12-06        3\n",
              "...         ...         ...      ...\n",
              "3869    18280.0  2019-03-07      277\n",
              "3870    18281.0  2019-06-12      180\n",
              "3871    18282.0  2019-12-02        7\n",
              "3872    18283.0  2019-12-06        3\n",
              "3873    18287.0  2019-10-28       42\n",
              "\n",
              "[3874 rows x 3 columns]"
            ]
          },
          "metadata": {
            "tags": []
          },
          "execution_count": 19
        }
      ]
    },
    {
      "cell_type": "code",
      "metadata": {
        "id": "YC_cwGjEv6jZ",
        "colab_type": "code",
        "colab": {}
      },
      "source": [
        "#merge this dataframe to our new user dataframe\n",
        "df_user = pd.merge(df_user, df_max_visit[['viewer_id','Recency']], on='viewer_id')"
      ],
      "execution_count": 0,
      "outputs": []
    },
    {
      "cell_type": "code",
      "metadata": {
        "id": "gfEWyEBlv6hO",
        "colab_type": "code",
        "outputId": "a0b58263-7c11-4da6-e06c-2ecfc6b71f17",
        "colab": {
          "base_uri": "https://localhost:8080/",
          "height": 415
        }
      },
      "source": [
        "df_user"
      ],
      "execution_count": 21,
      "outputs": [
        {
          "output_type": "execute_result",
          "data": {
            "text/html": [
              "<div>\n",
              "<style scoped>\n",
              "    .dataframe tbody tr th:only-of-type {\n",
              "        vertical-align: middle;\n",
              "    }\n",
              "\n",
              "    .dataframe tbody tr th {\n",
              "        vertical-align: top;\n",
              "    }\n",
              "\n",
              "    .dataframe thead th {\n",
              "        text-align: right;\n",
              "    }\n",
              "</style>\n",
              "<table border=\"1\" class=\"dataframe\">\n",
              "  <thead>\n",
              "    <tr style=\"text-align: right;\">\n",
              "      <th></th>\n",
              "      <th>viewer_id</th>\n",
              "      <th>Recency</th>\n",
              "    </tr>\n",
              "  </thead>\n",
              "  <tbody>\n",
              "    <tr>\n",
              "      <th>0</th>\n",
              "      <td>13047.0</td>\n",
              "      <td>31</td>\n",
              "    </tr>\n",
              "    <tr>\n",
              "      <th>1</th>\n",
              "      <td>13748.0</td>\n",
              "      <td>95</td>\n",
              "    </tr>\n",
              "    <tr>\n",
              "      <th>2</th>\n",
              "      <td>15100.0</td>\n",
              "      <td>333</td>\n",
              "    </tr>\n",
              "    <tr>\n",
              "      <th>3</th>\n",
              "      <td>15291.0</td>\n",
              "      <td>25</td>\n",
              "    </tr>\n",
              "    <tr>\n",
              "      <th>4</th>\n",
              "      <td>14688.0</td>\n",
              "      <td>7</td>\n",
              "    </tr>\n",
              "    <tr>\n",
              "      <th>...</th>\n",
              "      <td>...</td>\n",
              "      <td>...</td>\n",
              "    </tr>\n",
              "    <tr>\n",
              "      <th>3869</th>\n",
              "      <td>15471.0</td>\n",
              "      <td>2</td>\n",
              "    </tr>\n",
              "    <tr>\n",
              "      <th>3870</th>\n",
              "      <td>13436.0</td>\n",
              "      <td>1</td>\n",
              "    </tr>\n",
              "    <tr>\n",
              "      <th>3871</th>\n",
              "      <td>15520.0</td>\n",
              "      <td>1</td>\n",
              "    </tr>\n",
              "    <tr>\n",
              "      <th>3872</th>\n",
              "      <td>13298.0</td>\n",
              "      <td>1</td>\n",
              "    </tr>\n",
              "    <tr>\n",
              "      <th>3873</th>\n",
              "      <td>14569.0</td>\n",
              "      <td>1</td>\n",
              "    </tr>\n",
              "  </tbody>\n",
              "</table>\n",
              "<p>3874 rows × 2 columns</p>\n",
              "</div>"
            ],
            "text/plain": [
              "      viewer_id  Recency\n",
              "0       13047.0       31\n",
              "1       13748.0       95\n",
              "2       15100.0      333\n",
              "3       15291.0       25\n",
              "4       14688.0        7\n",
              "...         ...      ...\n",
              "3869    15471.0        2\n",
              "3870    13436.0        1\n",
              "3871    15520.0        1\n",
              "3872    13298.0        1\n",
              "3873    14569.0        1\n",
              "\n",
              "[3874 rows x 2 columns]"
            ]
          },
          "metadata": {
            "tags": []
          },
          "execution_count": 21
        }
      ]
    },
    {
      "cell_type": "code",
      "metadata": {
        "id": "n8ZwzHqkv6e8",
        "colab_type": "code",
        "outputId": "a298ed44-f7e5-4839-9e44-a3b8ce86b304",
        "colab": {
          "base_uri": "https://localhost:8080/",
          "height": 542
        }
      },
      "source": [
        "#plotting a recency histogram\n",
        "import plotly.express as px\n",
        "fig = px.histogram(df_user, x=\"Recency\")\n",
        "fig.show()"
      ],
      "execution_count": 22,
      "outputs": [
        {
          "output_type": "display_data",
          "data": {
            "text/html": [
              "<html>\n",
              "<head><meta charset=\"utf-8\" /></head>\n",
              "<body>\n",
              "    <div>\n",
              "            <script src=\"https://cdnjs.cloudflare.com/ajax/libs/mathjax/2.7.5/MathJax.js?config=TeX-AMS-MML_SVG\"></script><script type=\"text/javascript\">if (window.MathJax) {MathJax.Hub.Config({SVG: {font: \"STIX-Web\"}});}</script>\n",
              "                <script type=\"text/javascript\">window.PlotlyConfig = {MathJaxConfig: 'local'};</script>\n",
              "        <script src=\"https://cdn.plot.ly/plotly-latest.min.js\"></script>    \n",
              "            <div id=\"b66a9143-c228-4527-b606-5890e4c08cf8\" class=\"plotly-graph-div\" style=\"height:525px; width:100%;\"></div>\n",
              "            <script type=\"text/javascript\">\n",
              "                \n",
              "                    window.PLOTLYENV=window.PLOTLYENV || {};\n",
              "                    \n",
              "                if (document.getElementById(\"b66a9143-c228-4527-b606-5890e4c08cf8\")) {\n",
              "                    Plotly.newPlot(\n",
              "                        'b66a9143-c228-4527-b606-5890e4c08cf8',\n",
              "                        [{\"alignmentgroup\": \"True\", \"bingroup\": \"x\", \"hoverlabel\": {\"namelength\": 0}, \"hovertemplate\": \"Recency=%{x}<br>count=%{y}\", \"legendgroup\": \"\", \"marker\": {\"color\": \"#636efa\"}, \"name\": \"\", \"offsetgroup\": \"\", \"orientation\": \"v\", \"showlegend\": false, \"type\": \"histogram\", \"x\": [31, 95, 333, 25, 7, 16, 0, 87, 50, 38, 261, 2, 7, 1, 2, 11, 16, 8, 33, 29, 109, 88, 4, 33, 9, 330, 11, 3, 22, 21, 1, 172, 23, 242, 57, 39, 0, 53, 185, 71, 101, 45, 2, 71, 30, 184, 36, 7, 7, 99, 3, 1, 80, 275, 9, 1, 21, 80, 311, 4, 2, 60, 0, 30, 143, 94, 11, 28, 1, 128, 217, 10, 8, 0, 11, 281, 39, 8, 21, 2, 1, 11, 11, 190, 10, 11, 11, 43, 211, 29, 10, 290, 100, 4, 175, 4, 26, 148, 9, 18, 8, 73, 10, 21, 23, 31, 29, 82, 311, 18, 51, 22, 16, 0, 212, 22, 7, 3, 58, 4, 177, 57, 26, 15, 29, 2, 7, 58, 3, 17, 67, 157, 127, 1, 1, 222, 218, 39, 176, 2, 7, 18, 42, 60, 80, 21, 179, 16, 39, 358, 187, 4, 5, 1, 71, 3, 4, 1, 105, 63, 3, 1, 371, 152, 10, 5, 71, 8, 65, 23, 2, 7, 65, 23, 302, 63, 11, 54, 1, 19, 2, 5, 5, 7, 58, 1, 0, 9, 47, 40, 8, 10, 5, 14, 12, 1, 369, 313, 40, 3, 10, 16, 316, 40, 145, 12, 12, 29, 14, 26, 185, 7, 369, 369, 306, 5, 2, 2, 215, 59, 19, 264, 3, 4, 19, 253, 5, 17, 12, 54, 156, 15, 3, 17, 2, 15, 302, 37, 33, 14, 16, 12, 1, 45, 0, 368, 1, 2, 3, 29, 22, 74, 21, 368, 1, 53, 358, 18, 9, 19, 282, 40, 2, 60, 127, 14, 65, 50, 2, 26, 3, 368, 23, 7, 2, 368, 33, 8, 156, 148, 11, 17, 198, 10, 19, 2, 26, 10, 368, 108, 12, 31, 310, 2, 11, 28, 3, 71, 141, 7, 17, 4, 12, 11, 8, 100, 4, 107, 144, 308, 8, 2, 44, 173, 336, 3, 2, 65, 26, 38, 11, 16, 2, 297, 254, 367, 1, 3, 17, 3, 17, 36, 115, 17, 9, 1, 2, 4, 59, 367, 21, 4, 15, 367, 4, 21, 11, 10, 213, 56, 73, 2, 367, 367, 22, 0, 17, 2, 366, 31, 3, 2, 14, 4, 2, 1, 31, 8, 16, 333, 2, 29, 58, 1, 3, 2, 4, 56, 2, 15, 73, 4, 366, 0, 366, 8, 22, 2, 206, 3, 96, 17, 156, 0, 71, 60, 256, 18, 40, 21, 16, 366, 366, 0, 1, 52, 85, 4, 366, 366, 2, 33, 15, 120, 9, 256, 71, 366, 10, 1, 205, 92, 108, 143, 37, 366, 8, 29, 26, 88, 18, 15, 8, 8, 10, 23, 8, 8, 212, 365, 131, 85, 2, 4, 5, 8, 257, 8, 10, 365, 4, 15, 365, 4, 204, 8, 96, 253, 365, 32, 186, 365, 4, 1, 7, 39, 43, 365, 365, 365, 36, 16, 15, 219, 326, 94, 119, 8, 72, 2, 365, 22, 38, 3, 60, 100, 232, 29, 8, 9, 1, 4, 7, 1, 23, 38, 36, 5, 9, 364, 106, 360, 26, 10, 364, 310, 364, 22, 176, 260, 28, 9, 67, 46, 128, 5, 59, 29, 3, 51, 312, 364, 12, 75, 30, 46, 364, 4, 9, 32, 9, 362, 362, 12, 19, 12, 152, 12, 40, 37, 143, 45, 245, 123, 358, 2, 25, 11, 7, 36, 362, 362, 79, 362, 362, 19, 8, 4, 5, 17, 154, 10, 3, 361, 119, 11, 30, 10, 42, 4, 8, 115, 236, 24, 17, 22, 95, 26, 361, 52, 7, 12, 178, 361, 8, 322, 199, 17, 166, 196, 1, 10, 241, 19, 36, 360, 360, 1, 23, 31, 10, 26, 2, 100, 273, 23, 3, 26, 4, 360, 2, 8, 32, 7, 22, 1, 66, 173, 106, 163, 11, 17, 336, 32, 4, 242, 26, 4, 8, 5, 35, 10, 89, 0, 192, 2, 359, 264, 169, 31, 155, 359, 7, 29, 70, 0, 8, 86, 240, 60, 127, 3, 21, 359, 359, 35, 105, 89, 60, 283, 71, 35, 16, 165, 4, 359, 10, 106, 358, 17, 66, 1, 0, 238, 15, 4, 269, 53, 16, 17, 0, 91, 22, 157, 4, 51, 12, 29, 105, 3, 9, 1, 169, 8, 9, 15, 3, 3, 64, 56, 358, 26, 2, 252, 218, 358, 358, 7, 75, 3, 2, 4, 25, 103, 4, 16, 21, 170, 10, 247, 358, 172, 81, 306, 198, 11, 7, 21, 59, 2, 183, 1, 3, 357, 21, 50, 357, 357, 123, 8, 15, 58, 103, 303, 47, 7, 355, 49, 35, 354, 16, 3, 3, 113, 75, 21, 4, 18, 7, 354, 15, 1, 30, 10, 3, 30, 353, 57, 126, 3, 7, 60, 236, 351, 50, 351, 46, 351, 22, 67, 339, 9, 66, 72, 1, 68, 126, 8, 42, 19, 156, 72, 143, 23, 4, 317, 17, 338, 1, 33, 109, 9, 126, 338, 44, 173, 23, 9, 9, 32, 256, 36, 33, 3, 70, 164, 46, 122, 17, 337, 194, 196, 95, 194, 164, 53, 336, 239, 185, 4, 9, 60, 74, 336, 234, 108, 185, 122, 7, 22, 64, 9, 5, 40, 5, 334, 58, 19, 78, 1, 37, 17, 9, 10, 19, 75, 334, 26, 2, 21, 58, 4, 333, 10, 333, 218, 51, 44, 49, 25, 58, 60, 206, 113, 332, 332, 332, 40, 196, 12, 1, 241, 312, 235, 64, 10, 22, 103, 301, 332, 9, 18, 29, 40, 331, 17, 7, 42, 89, 18, 94, 331, 40, 61, 331, 39, 0, 117, 0, 330, 4, 8, 44, 192, 42, 273, 330, 330, 72, 60, 330, 24, 18, 8, 79, 329, 74, 318, 59, 329, 4, 17, 1, 54, 12, 88, 50, 173, 26, 12, 14, 33, 26, 42, 58, 40, 88, 57, 33, 33, 326, 50, 11, 3, 4, 73, 326, 3, 169, 17, 326, 326, 325, 40, 234, 325, 325, 138, 288, 325, 1, 7, 187, 324, 61, 28, 58, 70, 2, 3, 16, 26, 112, 42, 280, 323, 323, 56, 323, 323, 232, 28, 322, 206, 322, 31, 227, 10, 322, 137, 7, 212, 320, 138, 12, 180, 23, 205, 320, 1, 110, 16, 1, 320, 10, 319, 17, 301, 183, 319, 3, 15, 319, 63, 16, 29, 18, 2, 52, 58, 319, 113, 319, 319, 318, 318, 72, 94, 64, 10, 23, 23, 318, 70, 2, 318, 66, 78, 318, 45, 36, 211, 31, 33, 318, 318, 3, 64, 150, 74, 37, 16, 107, 211, 317, 242, 49, 17, 218, 1, 78, 85, 317, 36, 151, 36, 22, 49, 66, 8, 78, 0, 3, 68, 10, 30, 42, 316, 43, 29, 316, 77, 22, 28, 56, 275, 92, 66, 134, 43, 114, 129, 1, 8, 84, 25, 267, 3, 14, 15, 299, 68, 19, 313, 313, 313, 16, 19, 312, 23, 312, 28, 40, 12, 17, 176, 8, 51, 312, 12, 312, 107, 217, 115, 312, 25, 44, 22, 3, 15, 32, 311, 59, 311, 23, 86, 29, 311, 138, 311, 112, 245, 25, 52, 199, 311, 77, 45, 70, 31, 266, 311, 17, 60, 310, 255, 310, 94, 310, 110, 8, 36, 122, 247, 23, 32, 310, 15, 30, 81, 58, 176, 52, 31, 151, 302, 28, 119, 239, 1, 7, 309, 26, 309, 50, 309, 9, 85, 92, 309, 261, 58, 302, 22, 8, 11, 127, 308, 308, 10, 49, 7, 70, 218, 308, 308, 59, 57, 4, 43, 306, 159, 306, 306, 25, 92, 305, 14, 22, 82, 154, 28, 96, 33, 151, 28, 305, 71, 304, 304, 3, 134, 149, 273, 304, 303, 109, 303, 11, 29, 303, 302, 49, 7, 302, 36, 246, 93, 91, 210, 9, 302, 100, 1, 57, 30, 127, 3, 204, 28, 4, 301, 53, 31, 130, 29, 96, 21, 191, 40, 299, 66, 50, 31, 298, 191, 32, 49, 67, 23, 50, 3, 297, 114, 53, 14, 297, 28, 30, 120, 213, 119, 297, 19, 297, 7, 78, 296, 296, 25, 296, 29, 72, 133, 74, 29, 296, 64, 296, 16, 44, 39, 16, 246, 14, 44, 295, 157, 9, 32, 295, 44, 53, 295, 108, 294, 66, 9, 72, 105, 37, 10, 294, 116, 176, 294, 15, 185, 33, 9, 173, 103, 162, 95, 292, 15, 81, 50, 49, 75, 70, 37, 37, 255, 164, 24, 291, 67, 37, 1, 98, 121, 80, 85, 35, 290, 290, 36, 7, 290, 290, 267, 15, 119, 84, 40, 95, 23, 14, 134, 30, 289, 289, 98, 165, 14, 56, 10, 58, 52, 8, 44, 21, 14, 289, 4, 256, 289, 192, 43, 15, 100, 39, 1, 183, 30, 77, 19, 50, 288, 288, 288, 288, 197, 288, 288, 38, 95, 287, 2, 16, 4, 9, 9, 11, 77, 36, 287, 60, 164, 66, 25, 287, 44, 285, 268, 285, 78, 8, 18, 15, 5, 19, 36, 12, 112, 284, 16, 10, 201, 151, 26, 15, 68, 8, 63, 31, 284, 284, 38, 263, 1, 45, 61, 284, 60, 205, 197, 73, 283, 9, 18, 283, 66, 24, 215, 283, 19, 283, 169, 7, 31, 283, 53, 7, 64, 282, 2, 282, 131, 78, 17, 198, 43, 74, 196, 191, 282, 4, 89, 282, 282, 235, 19, 8, 239, 26, 281, 281, 84, 1, 4, 211, 281, 281, 218, 281, 29, 25, 178, 16, 16, 10, 95, 280, 51, 280, 18, 28, 197, 280, 38, 21, 28, 280, 81, 280, 92, 21, 26, 25, 47, 4, 33, 278, 277, 91, 59, 277, 67, 51, 44, 30, 277, 197, 277, 80, 277, 200, 50, 8, 277, 4, 70, 276, 88, 46, 49, 276, 276, 45, 276, 107, 79, 31, 1, 8, 60, 9, 276, 2, 3, 16, 23, 2, 10, 110, 156, 93, 22, 1, 275, 12, 275, 127, 275, 57, 1, 15, 17, 16, 274, 227, 274, 86, 78, 274, 29, 274, 274, 274, 81, 274, 74, 40, 99, 88, 53, 273, 50, 43, 58, 273, 163, 32, 273, 273, 157, 36, 47, 68, 5, 271, 190, 18, 270, 142, 25, 22, 8, 259, 32, 12, 23, 17, 269, 67, 269, 66, 22, 269, 17, 170, 269, 17, 28, 269, 268, 4, 268, 36, 65, 14, 268, 31, 154, 268, 74, 213, 71, 1, 77, 79, 22, 267, 267, 267, 16, 182, 17, 213, 15, 267, 267, 267, 1, 99, 0, 204, 16, 12, 266, 266, 3, 266, 2, 21, 266, 64, 266, 161, 0, 266, 38, 44, 64, 266, 266, 46, 15, 236, 266, 32, 30, 266, 16, 264, 3, 106, 179, 264, 46, 42, 264, 46, 264, 4, 35, 52, 65, 10, 264, 264, 16, 29, 92, 263, 263, 263, 40, 89, 263, 263, 263, 136, 175, 87, 263, 263, 194, 262, 183, 107, 18, 42, 262, 262, 262, 10, 191, 66, 11, 23, 262, 262, 38, 261, 84, 261, 26, 261, 144, 15, 261, 148, 261, 144, 134, 12, 261, 37, 15, 92, 166, 4, 3, 37, 1, 36, 73, 1, 260, 260, 3, 260, 162, 5, 260, 75, 260, 0, 260, 260, 260, 63, 31, 35, 16, 144, 259, 85, 233, 2, 217, 100, 2, 151, 18, 257, 80, 257, 45, 23, 11, 158, 256, 256, 31, 54, 116, 178, 46, 64, 23, 155, 138, 31, 60, 185, 37, 0, 134, 255, 114, 19, 66, 255, 214, 15, 40, 116, 73, 85, 254, 19, 9, 254, 37, 123, 80, 95, 254, 73, 88, 254, 114, 254, 154, 28, 253, 253, 16, 253, 28, 73, 12, 39, 226, 72, 50, 10, 253, 49, 253, 159, 252, 252, 15, 100, 252, 25, 38, 252, 252, 30, 58, 63, 252, 252, 201, 250, 19, 7, 42, 249, 60, 249, 57, 225, 31, 189, 29, 249, 249, 61, 249, 1, 53, 248, 248, 248, 81, 5, 60, 50, 65, 135, 4, 248, 14, 184, 72, 247, 72, 247, 156, 113, 247, 87, 247, 92, 130, 2, 64, 247, 2, 246, 219, 21, 11, 124, 26, 0, 88, 51, 246, 107, 23, 173, 246, 45, 17, 3, 245, 15, 245, 110, 19, 31, 245, 46, 245, 245, 245, 196, 21, 32, 147, 154, 81, 245, 28, 107, 96, 243, 243, 12, 243, 24, 168, 197, 243, 23, 44, 1, 242, 14, 18, 242, 242, 242, 51, 25, 9, 9, 91, 242, 239, 114, 23, 25, 9, 14, 31, 95, 241, 63, 241, 241, 38, 170, 241, 241, 29, 240, 239, 14, 106, 39, 8, 85, 60, 240, 94, 8, 240, 94, 17, 32, 240, 51, 207, 81, 168, 33, 1, 52, 18, 65, 35, 239, 239, 18, 87, 239, 239, 239, 239, 103, 217, 238, 21, 114, 45, 32, 30, 238, 236, 110, 78, 123, 236, 8, 213, 19, 236, 236, 236, 31, 235, 95, 235, 151, 203, 235, 19, 32, 103, 133, 189, 29, 9, 15, 200, 99, 234, 24, 15, 17, 234, 234, 75, 12, 234, 53, 157, 233, 233, 7, 23, 3, 23, 233, 233, 8, 233, 178, 100, 4, 16, 11, 1, 73, 232, 169, 200, 157, 29, 232, 44, 232, 187, 227, 227, 12, 59, 227, 1, 185, 226, 1, 226, 143, 226, 226, 52, 225, 44, 50, 115, 32, 30, 225, 225, 107, 225, 33, 225, 225, 225, 225, 82, 222, 40, 8, 130, 220, 220, 220, 1, 18, 100, 189, 140, 165, 67, 44, 40, 198, 60, 219, 219, 11, 10, 45, 23, 19, 218, 218, 218, 128, 218, 17, 218, 53, 218, 119, 218, 218, 1, 31, 14, 218, 218, 26, 46, 9, 217, 217, 65, 217, 33, 217, 46, 71, 71, 184, 168, 217, 33, 217, 9, 11, 57, 157, 215, 14, 215, 140, 47, 43, 16, 25, 19, 215, 105, 214, 7, 214, 127, 214, 214, 78, 78, 33, 72, 40, 213, 2, 112, 213, 213, 15, 213, 3, 30, 87, 212, 58, 1, 212, 56, 177, 47, 1, 212, 212, 18, 4, 212, 18, 211, 71, 57, 211, 211, 22, 108, 211, 64, 29, 22, 24, 25, 50, 67, 211, 45, 211, 56, 3, 21, 210, 208, 54, 3, 208, 5, 208, 12, 4, 84, 78, 207, 207, 58, 17, 85, 206, 18, 65, 73, 7, 30, 161, 0, 205, 5, 10, 205, 198, 11, 98, 95, 3, 4, 85, 17, 16, 169, 45, 204, 23, 204, 78, 26, 8, 12, 21, 43, 9, 204, 18, 38, 133, 203, 203, 22, 168, 203, 103, 203, 42, 32, 72, 73, 7, 70, 201, 10, 201, 89, 187, 30, 85, 201, 201, 201, 200, 189, 12, 200, 57, 8, 114, 200, 56, 108, 199, 29, 199, 154, 0, 21, 8, 198, 198, 71, 198, 169, 197, 73, 197, 186, 80, 81, 114, 18, 196, 196, 15, 196, 161, 148, 196, 60, 180, 194, 194, 194, 25, 192, 192, 192, 64, 18, 71, 192, 22, 39, 11, 49, 191, 191, 173, 65, 29, 29, 190, 190, 14, 190, 190, 56, 88, 189, 124, 189, 189, 189, 30, 5, 23, 148, 4, 1, 187, 187, 9, 94, 158, 186, 9, 22, 122, 186, 186, 116, 185, 38, 185, 31, 2, 59, 28, 185, 185, 185, 185, 16, 43, 184, 184, 75, 77, 1, 29, 11, 184, 17, 1, 1, 183, 2, 9, 57, 36, 79, 183, 17, 65, 24, 182, 182, 22, 182, 22, 182, 26, 8, 182, 180, 19, 138, 40, 108, 31, 39, 11, 1, 50, 59, 179, 75, 86, 30, 72, 14, 4, 179, 179, 179, 179, 3, 67, 30, 10, 46, 17, 177, 177, 177, 177, 128, 11, 177, 176, 0, 176, 176, 35, 176, 21, 21, 119, 176, 23, 7, 10, 176, 43, 29, 22, 173, 173, 173, 173, 14, 156, 173, 21, 11, 172, 11, 173, 172, 172, 12, 58, 172, 39, 18, 172, 172, 172, 21, 39, 37, 171, 50, 171, 171, 78, 8, 171, 171, 51, 170, 149, 7, 170, 170, 170, 169, 8, 169, 72, 169, 16, 169, 17, 169, 19, 14, 127, 166, 8, 12, 7, 154, 165, 165, 28, 164, 28, 164, 163, 15, 5, 4, 74, 38, 38, 163, 163, 163, 42, 162, 23, 162, 161, 162, 161, 140, 135, 71, 161, 22, 124, 159, 138, 159, 159, 159, 158, 72, 59, 158, 157, 45, 22, 157, 15, 157, 157, 59, 156, 122, 134, 156, 155, 155, 3, 56, 52, 155, 155, 17, 155, 7, 78, 155, 35, 11, 149, 16, 115, 154, 129, 152, 9, 126, 151, 44, 58, 151, 60, 7, 15, 8, 1, 4, 23, 149, 149, 50, 149, 149, 149, 148, 25, 33, 148, 43, 109, 59, 64, 33, 3, 1, 22, 2, 147, 147, 147, 3, 145, 145, 145, 7, 145, 19, 17, 63, 143, 18, 21, 12, 11, 57, 3, 4, 142, 142, 96, 5, 19, 142, 4, 141, 116, 138, 33, 141, 141, 30, 141, 99, 113, 4, 140, 84, 22, 138, 138, 71, 35, 138, 46, 138, 138, 137, 137, 137, 137, 11, 137, 137, 32, 57, 26, 135, 135, 71, 124, 135, 18, 119, 92, 2, 134, 134, 134, 134, 133, 133, 133, 133, 15, 19, 133, 36, 11, 133, 29, 133, 10, 131, 131, 131, 5, 130, 72, 130, 29, 56, 2, 88, 64, 129, 129, 129, 73, 129, 129, 52, 129, 39, 128, 73, 42, 10, 128, 128, 128, 17, 7, 127, 127, 85, 127, 127, 126, 126, 5, 7, 19, 124, 101, 121, 16, 92, 63, 123, 73, 23, 122, 122, 32, 121, 19, 50, 21, 28, 120, 36, 31, 120, 50, 120, 119, 119, 117, 117, 5, 116, 116, 116, 39, 116, 116, 63, 64, 92, 8, 18, 31, 99, 46, 114, 52, 37, 114, 7, 113, 9, 113, 113, 112, 112, 93, 29, 23, 112, 112, 17, 2, 60, 110, 110, 46, 3, 35, 109, 32, 17, 45, 108, 3, 4, 91, 107, 107, 106, 106, 106, 106, 106, 106, 31, 106, 106, 106, 106, 23, 16, 1, 105, 2, 105, 7, 103, 103, 8, 4, 30, 101, 86, 38, 4, 39, 100, 63, 10, 99, 99, 99, 98, 98, 32, 54, 15, 98, 74, 96, 63, 5, 46, 96, 96, 2, 73, 43, 95, 95, 95, 2, 31, 94, 94, 94, 93, 3, 29, 10, 92, 92, 92, 92, 46, 91, 18, 44, 74, 10, 4, 91, 32, 89, 22, 31, 46, 89, 89, 89, 7, 89, 9, 9, 89, 89, 19, 89, 9, 88, 67, 88, 88, 88, 88, 4, 88, 5, 16, 19, 87, 54, 87, 32, 87, 70, 87, 87, 87, 87, 52, 42, 86, 1, 12, 3, 21, 30, 86, 31, 35, 18, 72, 86, 57, 85, 85, 85, 51, 52, 65, 31, 85, 2, 85, 11, 85, 15, 85, 85, 85, 84, 1, 21, 84, 3, 84, 84, 84, 84, 82, 17, 40, 82, 75, 5, 82, 28, 81, 81, 81, 8, 14, 81, 79, 43, 81, 81, 80, 80, 70, 80, 44, 80, 56, 79, 16, 79, 79, 79, 54, 79, 1, 10, 4, 78, 10, 78, 78, 50, 11, 1, 17, 78, 23, 78, 16, 11, 78, 10, 21, 5, 78, 78, 78, 77, 77, 11, 77, 31, 77, 77, 77, 24, 77, 77, 50, 65, 77, 77, 77, 4, 8, 75, 75, 4, 75, 5, 1, 26, 75, 75, 40, 75, 75, 75, 75, 75, 10, 75, 74, 4, 74, 36, 74, 74, 74, 28, 74, 74, 0, 74, 23, 73, 1, 73, 73, 73, 73, 2, 63, 42, 8, 72, 15, 72, 72, 1, 21, 72, 72, 72, 71, 71, 40, 71, 71, 21, 1, 9, 71, 71, 71, 71, 16, 71, 33, 14, 16, 71, 71, 70, 70, 50, 29, 1, 70, 70, 22, 70, 70, 70, 70, 68, 68, 5, 26, 19, 23, 67, 37, 67, 67, 22, 8, 36, 67, 21, 67, 67, 7, 66, 66, 8, 66, 66, 66, 66, 66, 66, 65, 65, 3, 65, 64, 65, 16, 65, 65, 65, 65, 65, 65, 65, 64, 64, 64, 64, 9, 64, 64, 28, 64, 64, 64, 64, 64, 2, 64, 64, 44, 17, 64, 64, 64, 35, 63, 50, 63, 63, 1, 10, 63, 7, 63, 11, 63, 7, 63, 57, 16, 63, 63, 3, 61, 61, 61, 36, 26, 61, 61, 44, 61, 61, 61, 19, 61, 61, 61, 60, 60, 60, 14, 19, 60, 60, 1, 60, 32, 46, 2, 60, 60, 60, 60, 60, 35, 43, 5, 3, 3, 59, 59, 14, 59, 57, 59, 59, 51, 58, 58, 9, 58, 58, 57, 57, 1, 22, 57, 57, 57, 57, 57, 15, 57, 57, 36, 56, 40, 56, 26, 56, 56, 2, 33, 54, 54, 54, 3, 54, 9, 53, 53, 53, 53, 53, 53, 53, 53, 53, 53, 53, 53, 53, 53, 53, 53, 53, 53, 29, 53, 52, 52, 52, 52, 52, 52, 52, 10, 40, 52, 52, 52, 51, 4, 51, 23, 51, 51, 51, 51, 1, 51, 51, 51, 51, 51, 8, 51, 16, 50, 50, 50, 50, 50, 50, 50, 50, 31, 50, 50, 50, 50, 50, 50, 3, 29, 49, 49, 49, 3, 17, 49, 49, 49, 47, 47, 1, 47, 3, 33, 11, 47, 47, 4, 46, 46, 46, 44, 46, 46, 46, 46, 46, 25, 46, 46, 46, 46, 45, 45, 19, 45, 45, 45, 22, 14, 45, 44, 15, 10, 44, 5, 44, 44, 44, 5, 44, 8, 44, 8, 43, 3, 17, 43, 43, 43, 43, 43, 35, 43, 43, 4, 43, 23, 43, 35, 42, 17, 42, 42, 4, 22, 42, 40, 2, 40, 40, 40, 16, 2, 12, 40, 40, 19, 40, 5, 40, 40, 9, 40, 39, 39, 39, 35, 39, 17, 38, 38, 2, 38, 7, 38, 7, 38, 1, 38, 17, 37, 37, 3, 37, 3, 37, 37, 37, 37, 37, 1, 37, 37, 12, 37, 18, 36, 36, 36, 11, 36, 1, 36, 36, 36, 11, 10, 7, 36, 23, 35, 35, 35, 35, 35, 35, 35, 35, 35, 26, 33, 9, 19, 28, 33, 33, 1, 33, 33, 33, 33, 8, 2, 19, 33, 33, 33, 32, 32, 32, 32, 18, 32, 22, 32, 32, 31, 31, 3, 31, 31, 31, 24, 31, 31, 31, 31, 31, 7, 30, 30, 10, 30, 30, 30, 30, 30, 30, 30, 5, 29, 30, 30, 30, 8, 17, 29, 29, 22, 29, 29, 29, 29, 29, 9, 29, 28, 28, 0, 28, 28, 28, 28, 2, 28, 28, 28, 26, 26, 9, 26, 7, 26, 26, 26, 2, 25, 25, 25, 25, 25, 25, 25, 25, 25, 8, 25, 25, 25, 25, 25, 12, 2, 24, 24, 24, 24, 24, 23, 23, 9, 23, 23, 23, 23, 23, 2, 23, 23, 22, 11, 22, 22, 22, 22, 22, 22, 22, 21, 4, 21, 21, 21, 21, 21, 21, 21, 19, 19, 19, 19, 19, 19, 11, 19, 19, 19, 19, 19, 19, 18, 18, 18, 18, 18, 18, 18, 18, 18, 17, 4, 18, 18, 18, 17, 17, 17, 17, 1, 17, 17, 17, 17, 17, 17, 17, 8, 4, 16, 16, 16, 3, 16, 15, 15, 15, 10, 4, 15, 15, 15, 15, 15, 15, 15, 14, 14, 14, 14, 14, 2, 10, 14, 14, 5, 12, 12, 12, 12, 9, 11, 11, 11, 11, 11, 11, 11, 11, 11, 11, 10, 10, 10, 10, 10, 10, 7, 10, 10, 10, 1, 10, 9, 9, 9, 8, 9, 8, 8, 8, 7, 7, 7, 7, 7, 5, 5, 5, 5, 5, 4, 4, 4, 4, 4, 4, 3, 3, 3, 3, 3, 3, 2, 2, 2, 2, 2, 1, 1, 1, 1], \"xaxis\": \"x\", \"yaxis\": \"y\"}],\n",
              "                        {\"barmode\": \"relative\", \"legend\": {\"tracegroupgap\": 0}, \"margin\": {\"t\": 60}, \"template\": {\"data\": {\"bar\": [{\"error_x\": {\"color\": \"#2a3f5f\"}, \"error_y\": {\"color\": \"#2a3f5f\"}, \"marker\": {\"line\": {\"color\": \"#E5ECF6\", \"width\": 0.5}}, \"type\": \"bar\"}], \"barpolar\": [{\"marker\": {\"line\": {\"color\": \"#E5ECF6\", \"width\": 0.5}}, \"type\": \"barpolar\"}], \"carpet\": [{\"aaxis\": {\"endlinecolor\": \"#2a3f5f\", \"gridcolor\": \"white\", \"linecolor\": \"white\", \"minorgridcolor\": \"white\", \"startlinecolor\": \"#2a3f5f\"}, \"baxis\": {\"endlinecolor\": \"#2a3f5f\", \"gridcolor\": \"white\", \"linecolor\": \"white\", \"minorgridcolor\": \"white\", \"startlinecolor\": \"#2a3f5f\"}, \"type\": \"carpet\"}], \"choropleth\": [{\"colorbar\": {\"outlinewidth\": 0, \"ticks\": \"\"}, \"type\": \"choropleth\"}], \"contour\": [{\"colorbar\": {\"outlinewidth\": 0, \"ticks\": \"\"}, \"colorscale\": [[0.0, \"#0d0887\"], [0.1111111111111111, \"#46039f\"], [0.2222222222222222, \"#7201a8\"], [0.3333333333333333, \"#9c179e\"], [0.4444444444444444, \"#bd3786\"], [0.5555555555555556, \"#d8576b\"], [0.6666666666666666, \"#ed7953\"], [0.7777777777777778, \"#fb9f3a\"], [0.8888888888888888, \"#fdca26\"], [1.0, \"#f0f921\"]], \"type\": \"contour\"}], \"contourcarpet\": [{\"colorbar\": {\"outlinewidth\": 0, \"ticks\": \"\"}, \"type\": \"contourcarpet\"}], \"heatmap\": [{\"colorbar\": {\"outlinewidth\": 0, \"ticks\": \"\"}, \"colorscale\": [[0.0, \"#0d0887\"], [0.1111111111111111, \"#46039f\"], [0.2222222222222222, \"#7201a8\"], [0.3333333333333333, \"#9c179e\"], [0.4444444444444444, \"#bd3786\"], [0.5555555555555556, \"#d8576b\"], [0.6666666666666666, \"#ed7953\"], [0.7777777777777778, \"#fb9f3a\"], [0.8888888888888888, \"#fdca26\"], [1.0, \"#f0f921\"]], \"type\": \"heatmap\"}], \"heatmapgl\": [{\"colorbar\": {\"outlinewidth\": 0, \"ticks\": \"\"}, \"colorscale\": [[0.0, \"#0d0887\"], [0.1111111111111111, \"#46039f\"], [0.2222222222222222, \"#7201a8\"], [0.3333333333333333, \"#9c179e\"], [0.4444444444444444, \"#bd3786\"], [0.5555555555555556, \"#d8576b\"], [0.6666666666666666, \"#ed7953\"], [0.7777777777777778, \"#fb9f3a\"], [0.8888888888888888, \"#fdca26\"], [1.0, \"#f0f921\"]], \"type\": \"heatmapgl\"}], \"histogram\": [{\"marker\": {\"colorbar\": {\"outlinewidth\": 0, \"ticks\": \"\"}}, \"type\": \"histogram\"}], \"histogram2d\": [{\"colorbar\": {\"outlinewidth\": 0, \"ticks\": \"\"}, \"colorscale\": [[0.0, \"#0d0887\"], [0.1111111111111111, \"#46039f\"], [0.2222222222222222, \"#7201a8\"], [0.3333333333333333, \"#9c179e\"], [0.4444444444444444, \"#bd3786\"], [0.5555555555555556, \"#d8576b\"], [0.6666666666666666, \"#ed7953\"], [0.7777777777777778, \"#fb9f3a\"], [0.8888888888888888, \"#fdca26\"], [1.0, \"#f0f921\"]], \"type\": \"histogram2d\"}], \"histogram2dcontour\": [{\"colorbar\": {\"outlinewidth\": 0, \"ticks\": \"\"}, \"colorscale\": [[0.0, \"#0d0887\"], [0.1111111111111111, \"#46039f\"], [0.2222222222222222, \"#7201a8\"], [0.3333333333333333, \"#9c179e\"], [0.4444444444444444, \"#bd3786\"], [0.5555555555555556, \"#d8576b\"], [0.6666666666666666, \"#ed7953\"], [0.7777777777777778, \"#fb9f3a\"], [0.8888888888888888, \"#fdca26\"], [1.0, \"#f0f921\"]], \"type\": \"histogram2dcontour\"}], \"mesh3d\": [{\"colorbar\": {\"outlinewidth\": 0, \"ticks\": \"\"}, \"type\": \"mesh3d\"}], \"parcoords\": [{\"line\": {\"colorbar\": {\"outlinewidth\": 0, \"ticks\": \"\"}}, \"type\": \"parcoords\"}], \"pie\": [{\"automargin\": true, \"type\": \"pie\"}], \"scatter\": [{\"marker\": {\"colorbar\": {\"outlinewidth\": 0, \"ticks\": \"\"}}, \"type\": \"scatter\"}], \"scatter3d\": [{\"line\": {\"colorbar\": {\"outlinewidth\": 0, \"ticks\": \"\"}}, \"marker\": {\"colorbar\": {\"outlinewidth\": 0, \"ticks\": \"\"}}, \"type\": \"scatter3d\"}], \"scattercarpet\": [{\"marker\": {\"colorbar\": {\"outlinewidth\": 0, \"ticks\": \"\"}}, \"type\": \"scattercarpet\"}], \"scattergeo\": [{\"marker\": {\"colorbar\": {\"outlinewidth\": 0, \"ticks\": \"\"}}, \"type\": \"scattergeo\"}], \"scattergl\": [{\"marker\": {\"colorbar\": {\"outlinewidth\": 0, \"ticks\": \"\"}}, \"type\": \"scattergl\"}], \"scattermapbox\": [{\"marker\": {\"colorbar\": {\"outlinewidth\": 0, \"ticks\": \"\"}}, \"type\": \"scattermapbox\"}], \"scatterpolar\": [{\"marker\": {\"colorbar\": {\"outlinewidth\": 0, \"ticks\": \"\"}}, \"type\": \"scatterpolar\"}], \"scatterpolargl\": [{\"marker\": {\"colorbar\": {\"outlinewidth\": 0, \"ticks\": \"\"}}, \"type\": \"scatterpolargl\"}], \"scatterternary\": [{\"marker\": {\"colorbar\": {\"outlinewidth\": 0, \"ticks\": \"\"}}, \"type\": \"scatterternary\"}], \"surface\": [{\"colorbar\": {\"outlinewidth\": 0, \"ticks\": \"\"}, \"colorscale\": [[0.0, \"#0d0887\"], [0.1111111111111111, \"#46039f\"], [0.2222222222222222, \"#7201a8\"], [0.3333333333333333, \"#9c179e\"], [0.4444444444444444, \"#bd3786\"], [0.5555555555555556, \"#d8576b\"], [0.6666666666666666, \"#ed7953\"], [0.7777777777777778, \"#fb9f3a\"], [0.8888888888888888, \"#fdca26\"], [1.0, \"#f0f921\"]], \"type\": \"surface\"}], \"table\": [{\"cells\": {\"fill\": {\"color\": \"#EBF0F8\"}, \"line\": {\"color\": \"white\"}}, \"header\": {\"fill\": {\"color\": \"#C8D4E3\"}, \"line\": {\"color\": \"white\"}}, \"type\": \"table\"}]}, \"layout\": {\"annotationdefaults\": {\"arrowcolor\": \"#2a3f5f\", \"arrowhead\": 0, \"arrowwidth\": 1}, \"coloraxis\": {\"colorbar\": {\"outlinewidth\": 0, \"ticks\": \"\"}}, \"colorscale\": {\"diverging\": [[0, \"#8e0152\"], [0.1, \"#c51b7d\"], [0.2, \"#de77ae\"], [0.3, \"#f1b6da\"], [0.4, \"#fde0ef\"], [0.5, \"#f7f7f7\"], [0.6, \"#e6f5d0\"], [0.7, \"#b8e186\"], [0.8, \"#7fbc41\"], [0.9, \"#4d9221\"], [1, \"#276419\"]], \"sequential\": [[0.0, \"#0d0887\"], [0.1111111111111111, \"#46039f\"], [0.2222222222222222, \"#7201a8\"], [0.3333333333333333, \"#9c179e\"], [0.4444444444444444, \"#bd3786\"], [0.5555555555555556, \"#d8576b\"], [0.6666666666666666, \"#ed7953\"], [0.7777777777777778, \"#fb9f3a\"], [0.8888888888888888, \"#fdca26\"], [1.0, \"#f0f921\"]], \"sequentialminus\": [[0.0, \"#0d0887\"], [0.1111111111111111, \"#46039f\"], [0.2222222222222222, \"#7201a8\"], [0.3333333333333333, \"#9c179e\"], [0.4444444444444444, \"#bd3786\"], [0.5555555555555556, \"#d8576b\"], [0.6666666666666666, \"#ed7953\"], [0.7777777777777778, \"#fb9f3a\"], [0.8888888888888888, \"#fdca26\"], [1.0, \"#f0f921\"]]}, \"colorway\": [\"#636efa\", \"#EF553B\", \"#00cc96\", \"#ab63fa\", \"#FFA15A\", \"#19d3f3\", \"#FF6692\", \"#B6E880\", \"#FF97FF\", \"#FECB52\"], \"font\": {\"color\": \"#2a3f5f\"}, \"geo\": {\"bgcolor\": \"white\", \"lakecolor\": \"white\", \"landcolor\": \"#E5ECF6\", \"showlakes\": true, \"showland\": true, \"subunitcolor\": \"white\"}, \"hoverlabel\": {\"align\": \"left\"}, \"hovermode\": \"closest\", \"mapbox\": {\"style\": \"light\"}, \"paper_bgcolor\": \"white\", \"plot_bgcolor\": \"#E5ECF6\", \"polar\": {\"angularaxis\": {\"gridcolor\": \"white\", \"linecolor\": \"white\", \"ticks\": \"\"}, \"bgcolor\": \"#E5ECF6\", \"radialaxis\": {\"gridcolor\": \"white\", \"linecolor\": \"white\", \"ticks\": \"\"}}, \"scene\": {\"xaxis\": {\"backgroundcolor\": \"#E5ECF6\", \"gridcolor\": \"white\", \"gridwidth\": 2, \"linecolor\": \"white\", \"showbackground\": true, \"ticks\": \"\", \"zerolinecolor\": \"white\"}, \"yaxis\": {\"backgroundcolor\": \"#E5ECF6\", \"gridcolor\": \"white\", \"gridwidth\": 2, \"linecolor\": \"white\", \"showbackground\": true, \"ticks\": \"\", \"zerolinecolor\": \"white\"}, \"zaxis\": {\"backgroundcolor\": \"#E5ECF6\", \"gridcolor\": \"white\", \"gridwidth\": 2, \"linecolor\": \"white\", \"showbackground\": true, \"ticks\": \"\", \"zerolinecolor\": \"white\"}}, \"shapedefaults\": {\"line\": {\"color\": \"#2a3f5f\"}}, \"ternary\": {\"aaxis\": {\"gridcolor\": \"white\", \"linecolor\": \"white\", \"ticks\": \"\"}, \"baxis\": {\"gridcolor\": \"white\", \"linecolor\": \"white\", \"ticks\": \"\"}, \"bgcolor\": \"#E5ECF6\", \"caxis\": {\"gridcolor\": \"white\", \"linecolor\": \"white\", \"ticks\": \"\"}}, \"title\": {\"x\": 0.05}, \"xaxis\": {\"automargin\": true, \"gridcolor\": \"white\", \"linecolor\": \"white\", \"ticks\": \"\", \"title\": {\"standoff\": 15}, \"zerolinecolor\": \"white\", \"zerolinewidth\": 2}, \"yaxis\": {\"automargin\": true, \"gridcolor\": \"white\", \"linecolor\": \"white\", \"ticks\": \"\", \"title\": {\"standoff\": 15}, \"zerolinecolor\": \"white\", \"zerolinewidth\": 2}}}, \"xaxis\": {\"anchor\": \"y\", \"domain\": [0.0, 1.0], \"title\": {\"text\": \"Recency\"}}, \"yaxis\": {\"anchor\": \"x\", \"domain\": [0.0, 1.0], \"title\": {\"text\": \"count\"}}},\n",
              "                        {\"responsive\": true}\n",
              "                    ).then(function(){\n",
              "                            \n",
              "var gd = document.getElementById('b66a9143-c228-4527-b606-5890e4c08cf8');\n",
              "var x = new MutationObserver(function (mutations, observer) {{\n",
              "        var display = window.getComputedStyle(gd).display;\n",
              "        if (!display || display === 'none') {{\n",
              "            console.log([gd, 'removed!']);\n",
              "            Plotly.purge(gd);\n",
              "            observer.disconnect();\n",
              "        }}\n",
              "}});\n",
              "\n",
              "// Listen for the removal of the full notebook cells\n",
              "var notebookContainer = gd.closest('#notebook-container');\n",
              "if (notebookContainer) {{\n",
              "    x.observe(notebookContainer, {childList: true});\n",
              "}}\n",
              "\n",
              "// Listen for the clearing of the current output cell\n",
              "var outputEl = gd.closest('.output');\n",
              "if (outputEl) {{\n",
              "    x.observe(outputEl, {childList: true});\n",
              "}}\n",
              "\n",
              "                        })\n",
              "                };\n",
              "                \n",
              "            </script>\n",
              "        </div>\n",
              "</body>\n",
              "</html>"
            ]
          },
          "metadata": {
            "tags": []
          }
        }
      ]
    },
    {
      "cell_type": "code",
      "metadata": {
        "id": "y2W4enS8v6bl",
        "colab_type": "code",
        "outputId": "369e1a7e-2627-4bef-ba37-70d20f4d27ca",
        "colab": {
          "base_uri": "https://localhost:8080/",
          "height": 295
        }
      },
      "source": [
        "from sklearn.cluster import KMeans\n",
        "sse={}\n",
        "df_recency = df_user[['Recency']]\n",
        "for k in range(1, 10):\n",
        "    kmeans = KMeans(n_clusters=k, max_iter=1000).fit(df_recency)\n",
        "    df_recency[\"clusters\"] = kmeans.labels_\n",
        "    sse[k] = kmeans.inertia_ \n",
        "plt.figure()\n",
        "plt.plot(list(sse.keys()), list(sse.values()))\n",
        "plt.ylabel(\"Inertia\")\n",
        "plt.xlabel(\"Number of clusters\")\n",
        "plt.title('Elbow Method For Optimal k')\n",
        "plt.show()"
      ],
      "execution_count": 23,
      "outputs": [
        {
          "output_type": "display_data",
          "data": {
            "image/png": "[encoded data removed]",
            "text/plain": [
              "<Figure size 432x288 with 1 Axes>"
            ]
          },
          "metadata": {
            "tags": [],
            "needs_background": "light"
          }
        }
      ]
    },
    {
      "cell_type": "code",
      "metadata": {
        "id": "K_EAX1dFv6Zd",
        "colab_type": "code",
        "colab": {}
      },
      "source": [
        "#build 4 clusters for recency and add it to dataframe\n",
        "kmeans = KMeans(n_clusters=4)\n",
        "kmeans.fit(df_user[['Recency']])\n",
        "df_user['RecencyCluster'] = kmeans.predict(df_user[['Recency']])"
      ],
      "execution_count": 0,
      "outputs": []
    },
    {
      "cell_type": "code",
      "metadata": {
        "id": "C4CJfGGzv6Wj",
        "colab_type": "code",
        "outputId": "90e75a46-dc85-4979-e54c-ce7533fc0608",
        "colab": {
          "base_uri": "https://localhost:8080/",
          "height": 202
        }
      },
      "source": [
        "df_user.head()"
      ],
      "execution_count": 25,
      "outputs": [
        {
          "output_type": "execute_result",
          "data": {
            "text/html": [
              "<div>\n",
              "<style scoped>\n",
              "    .dataframe tbody tr th:only-of-type {\n",
              "        vertical-align: middle;\n",
              "    }\n",
              "\n",
              "    .dataframe tbody tr th {\n",
              "        vertical-align: top;\n",
              "    }\n",
              "\n",
              "    .dataframe thead th {\n",
              "        text-align: right;\n",
              "    }\n",
              "</style>\n",
              "<table border=\"1\" class=\"dataframe\">\n",
              "  <thead>\n",
              "    <tr style=\"text-align: right;\">\n",
              "      <th></th>\n",
              "      <th>viewer_id</th>\n",
              "      <th>Recency</th>\n",
              "      <th>RecencyCluster</th>\n",
              "    </tr>\n",
              "  </thead>\n",
              "  <tbody>\n",
              "    <tr>\n",
              "      <th>0</th>\n",
              "      <td>13047.0</td>\n",
              "      <td>31</td>\n",
              "      <td>2</td>\n",
              "    </tr>\n",
              "    <tr>\n",
              "      <th>1</th>\n",
              "      <td>13748.0</td>\n",
              "      <td>95</td>\n",
              "      <td>0</td>\n",
              "    </tr>\n",
              "    <tr>\n",
              "      <th>2</th>\n",
              "      <td>15100.0</td>\n",
              "      <td>333</td>\n",
              "      <td>1</td>\n",
              "    </tr>\n",
              "    <tr>\n",
              "      <th>3</th>\n",
              "      <td>15291.0</td>\n",
              "      <td>25</td>\n",
              "      <td>2</td>\n",
              "    </tr>\n",
              "    <tr>\n",
              "      <th>4</th>\n",
              "      <td>14688.0</td>\n",
              "      <td>7</td>\n",
              "      <td>2</td>\n",
              "    </tr>\n",
              "  </tbody>\n",
              "</table>\n",
              "</div>"
            ],
            "text/plain": [
              "   viewer_id  Recency  RecencyCluster\n",
              "0    13047.0       31               2\n",
              "1    13748.0       95               0\n",
              "2    15100.0      333               1\n",
              "3    15291.0       25               2\n",
              "4    14688.0        7               2"
            ]
          },
          "metadata": {
            "tags": []
          },
          "execution_count": 25
        }
      ]
    },
    {
      "cell_type": "code",
      "metadata": {
        "id": "f8e1Su-4wYnP",
        "colab_type": "code",
        "outputId": "0eab148f-291a-431f-8e98-f3208cb2caa8",
        "colab": {
          "base_uri": "https://localhost:8080/",
          "height": 294
        }
      },
      "source": [
        "df_user.describe()"
      ],
      "execution_count": 26,
      "outputs": [
        {
          "output_type": "execute_result",
          "data": {
            "text/html": [
              "<div>\n",
              "<style scoped>\n",
              "    .dataframe tbody tr th:only-of-type {\n",
              "        vertical-align: middle;\n",
              "    }\n",
              "\n",
              "    .dataframe tbody tr th {\n",
              "        vertical-align: top;\n",
              "    }\n",
              "\n",
              "    .dataframe thead th {\n",
              "        text-align: right;\n",
              "    }\n",
              "</style>\n",
              "<table border=\"1\" class=\"dataframe\">\n",
              "  <thead>\n",
              "    <tr style=\"text-align: right;\">\n",
              "      <th></th>\n",
              "      <th>viewer_id</th>\n",
              "      <th>Recency</th>\n",
              "      <th>RecencyCluster</th>\n",
              "    </tr>\n",
              "  </thead>\n",
              "  <tbody>\n",
              "    <tr>\n",
              "      <th>count</th>\n",
              "      <td>3874.000000</td>\n",
              "      <td>3874.000000</td>\n",
              "      <td>3874.000000</td>\n",
              "    </tr>\n",
              "    <tr>\n",
              "      <th>mean</th>\n",
              "      <td>15557.948116</td>\n",
              "      <td>90.001291</td>\n",
              "      <td>1.528653</td>\n",
              "    </tr>\n",
              "    <tr>\n",
              "      <th>std</th>\n",
              "      <td>1576.054435</td>\n",
              "      <td>96.539386</td>\n",
              "      <td>1.011848</td>\n",
              "    </tr>\n",
              "    <tr>\n",
              "      <th>min</th>\n",
              "      <td>12346.000000</td>\n",
              "      <td>0.000000</td>\n",
              "      <td>0.000000</td>\n",
              "    </tr>\n",
              "    <tr>\n",
              "      <th>25%</th>\n",
              "      <td>14201.750000</td>\n",
              "      <td>17.000000</td>\n",
              "      <td>1.000000</td>\n",
              "    </tr>\n",
              "    <tr>\n",
              "      <th>50%</th>\n",
              "      <td>15566.000000</td>\n",
              "      <td>50.000000</td>\n",
              "      <td>2.000000</td>\n",
              "    </tr>\n",
              "    <tr>\n",
              "      <th>75%</th>\n",
              "      <td>16909.750000</td>\n",
              "      <td>138.000000</td>\n",
              "      <td>2.000000</td>\n",
              "    </tr>\n",
              "    <tr>\n",
              "      <th>max</th>\n",
              "      <td>18287.000000</td>\n",
              "      <td>371.000000</td>\n",
              "      <td>3.000000</td>\n",
              "    </tr>\n",
              "  </tbody>\n",
              "</table>\n",
              "</div>"
            ],
            "text/plain": [
              "          viewer_id      Recency  RecencyCluster\n",
              "count   3874.000000  3874.000000     3874.000000\n",
              "mean   15557.948116    90.001291        1.528653\n",
              "std     1576.054435    96.539386        1.011848\n",
              "min    12346.000000     0.000000        0.000000\n",
              "25%    14201.750000    17.000000        1.000000\n",
              "50%    15566.000000    50.000000        2.000000\n",
              "75%    16909.750000   138.000000        2.000000\n",
              "max    18287.000000   371.000000        3.000000"
            ]
          },
          "metadata": {
            "tags": []
          },
          "execution_count": 26
        }
      ]
    },
    {
      "cell_type": "code",
      "metadata": {
        "id": "QXOt6aP6wYld",
        "colab_type": "code",
        "outputId": "11be03b6-404c-494d-8c20-c18abde30567",
        "colab": {
          "base_uri": "https://localhost:8080/",
          "height": 202
        }
      },
      "source": [
        "df_user.groupby('RecencyCluster')['Recency'].describe()"
      ],
      "execution_count": 27,
      "outputs": [
        {
          "output_type": "execute_result",
          "data": {
            "text/html": [
              "<div>\n",
              "<style scoped>\n",
              "    .dataframe tbody tr th:only-of-type {\n",
              "        vertical-align: middle;\n",
              "    }\n",
              "\n",
              "    .dataframe tbody tr th {\n",
              "        vertical-align: top;\n",
              "    }\n",
              "\n",
              "    .dataframe thead th {\n",
              "        text-align: right;\n",
              "    }\n",
              "</style>\n",
              "<table border=\"1\" class=\"dataframe\">\n",
              "  <thead>\n",
              "    <tr style=\"text-align: right;\">\n",
              "      <th></th>\n",
              "      <th>count</th>\n",
              "      <th>mean</th>\n",
              "      <th>std</th>\n",
              "      <th>min</th>\n",
              "      <th>25%</th>\n",
              "      <th>50%</th>\n",
              "      <th>75%</th>\n",
              "      <th>max</th>\n",
              "    </tr>\n",
              "    <tr>\n",
              "      <th>RecencyCluster</th>\n",
              "      <th></th>\n",
              "      <th></th>\n",
              "      <th></th>\n",
              "      <th></th>\n",
              "      <th></th>\n",
              "      <th></th>\n",
              "      <th></th>\n",
              "      <th></th>\n",
              "    </tr>\n",
              "  </thead>\n",
              "  <tbody>\n",
              "    <tr>\n",
              "      <th>0</th>\n",
              "      <td>945.0</td>\n",
              "      <td>76.428571</td>\n",
              "      <td>20.669602</td>\n",
              "      <td>49.0</td>\n",
              "      <td>60.0</td>\n",
              "      <td>72.0</td>\n",
              "      <td>89.0</td>\n",
              "      <td>126.0</td>\n",
              "    </tr>\n",
              "    <tr>\n",
              "      <th>1</th>\n",
              "      <td>491.0</td>\n",
              "      <td>292.234216</td>\n",
              "      <td>40.001685</td>\n",
              "      <td>235.0</td>\n",
              "      <td>260.0</td>\n",
              "      <td>284.0</td>\n",
              "      <td>319.0</td>\n",
              "      <td>371.0</td>\n",
              "    </tr>\n",
              "    <tr>\n",
              "      <th>2</th>\n",
              "      <td>1883.0</td>\n",
              "      <td>18.497079</td>\n",
              "      <td>13.374455</td>\n",
              "      <td>0.0</td>\n",
              "      <td>7.0</td>\n",
              "      <td>17.0</td>\n",
              "      <td>29.0</td>\n",
              "      <td>47.0</td>\n",
              "    </tr>\n",
              "    <tr>\n",
              "      <th>3</th>\n",
              "      <td>555.0</td>\n",
              "      <td>176.798198</td>\n",
              "      <td>30.281036</td>\n",
              "      <td>127.0</td>\n",
              "      <td>151.5</td>\n",
              "      <td>176.0</td>\n",
              "      <td>201.0</td>\n",
              "      <td>234.0</td>\n",
              "    </tr>\n",
              "  </tbody>\n",
              "</table>\n",
              "</div>"
            ],
            "text/plain": [
              "                 count        mean        std  ...    50%    75%    max\n",
              "RecencyCluster                                 ...                     \n",
              "0                945.0   76.428571  20.669602  ...   72.0   89.0  126.0\n",
              "1                491.0  292.234216  40.001685  ...  284.0  319.0  371.0\n",
              "2               1883.0   18.497079  13.374455  ...   17.0   29.0   47.0\n",
              "3                555.0  176.798198  30.281036  ...  176.0  201.0  234.0\n",
              "\n",
              "[4 rows x 8 columns]"
            ]
          },
          "metadata": {
            "tags": []
          },
          "execution_count": 27
        }
      ]
    },
    {
      "cell_type": "code",
      "metadata": {
        "id": "fo9SUkWBwYhO",
        "colab_type": "code",
        "colab": {}
      },
      "source": [
        "#function for ordering cluster numbers\n",
        "def order_cluster(cluster_field_name, target_field_name,df,ascending):\n",
        "    df_new = df.groupby(cluster_field_name)[target_field_name].mean().reset_index()\n",
        "    df_new = df_new.sort_values(by=target_field_name,ascending=ascending).reset_index(drop=True)\n",
        "    df_new['index'] = df_new.index\n",
        "    df_final = pd.merge(df,df_new[[cluster_field_name,'index']], on=cluster_field_name)\n",
        "    df_final = df_final.drop([cluster_field_name],axis=1)\n",
        "    df_final = df_final.rename(columns={\"index\":cluster_field_name})\n",
        "    return df_final\n",
        "\n",
        "df_user = order_cluster('RecencyCluster', 'Recency',df_user,False)"
      ],
      "execution_count": 0,
      "outputs": []
    },
    {
      "cell_type": "code",
      "metadata": {
        "id": "r5hdYEFUwYd5",
        "colab_type": "code",
        "outputId": "be4b68ae-f60b-4236-e26d-dfe0a8aaf379",
        "colab": {
          "base_uri": "https://localhost:8080/",
          "height": 202
        }
      },
      "source": [
        "df_user.groupby('RecencyCluster')['Recency'].describe()"
      ],
      "execution_count": 29,
      "outputs": [
        {
          "output_type": "execute_result",
          "data": {
            "text/html": [
              "<div>\n",
              "<style scoped>\n",
              "    .dataframe tbody tr th:only-of-type {\n",
              "        vertical-align: middle;\n",
              "    }\n",
              "\n",
              "    .dataframe tbody tr th {\n",
              "        vertical-align: top;\n",
              "    }\n",
              "\n",
              "    .dataframe thead th {\n",
              "        text-align: right;\n",
              "    }\n",
              "</style>\n",
              "<table border=\"1\" class=\"dataframe\">\n",
              "  <thead>\n",
              "    <tr style=\"text-align: right;\">\n",
              "      <th></th>\n",
              "      <th>count</th>\n",
              "      <th>mean</th>\n",
              "      <th>std</th>\n",
              "      <th>min</th>\n",
              "      <th>25%</th>\n",
              "      <th>50%</th>\n",
              "      <th>75%</th>\n",
              "      <th>max</th>\n",
              "    </tr>\n",
              "    <tr>\n",
              "      <th>RecencyCluster</th>\n",
              "      <th></th>\n",
              "      <th></th>\n",
              "      <th></th>\n",
              "      <th></th>\n",
              "      <th></th>\n",
              "      <th></th>\n",
              "      <th></th>\n",
              "      <th></th>\n",
              "    </tr>\n",
              "  </thead>\n",
              "  <tbody>\n",
              "    <tr>\n",
              "      <th>0</th>\n",
              "      <td>491.0</td>\n",
              "      <td>292.234216</td>\n",
              "      <td>40.001685</td>\n",
              "      <td>235.0</td>\n",
              "      <td>260.0</td>\n",
              "      <td>284.0</td>\n",
              "      <td>319.0</td>\n",
              "      <td>371.0</td>\n",
              "    </tr>\n",
              "    <tr>\n",
              "      <th>1</th>\n",
              "      <td>555.0</td>\n",
              "      <td>176.798198</td>\n",
              "      <td>30.281036</td>\n",
              "      <td>127.0</td>\n",
              "      <td>151.5</td>\n",
              "      <td>176.0</td>\n",
              "      <td>201.0</td>\n",
              "      <td>234.0</td>\n",
              "    </tr>\n",
              "    <tr>\n",
              "      <th>2</th>\n",
              "      <td>945.0</td>\n",
              "      <td>76.428571</td>\n",
              "      <td>20.669602</td>\n",
              "      <td>49.0</td>\n",
              "      <td>60.0</td>\n",
              "      <td>72.0</td>\n",
              "      <td>89.0</td>\n",
              "      <td>126.0</td>\n",
              "    </tr>\n",
              "    <tr>\n",
              "      <th>3</th>\n",
              "      <td>1883.0</td>\n",
              "      <td>18.497079</td>\n",
              "      <td>13.374455</td>\n",
              "      <td>0.0</td>\n",
              "      <td>7.0</td>\n",
              "      <td>17.0</td>\n",
              "      <td>29.0</td>\n",
              "      <td>47.0</td>\n",
              "    </tr>\n",
              "  </tbody>\n",
              "</table>\n",
              "</div>"
            ],
            "text/plain": [
              "                 count        mean        std  ...    50%    75%    max\n",
              "RecencyCluster                                 ...                     \n",
              "0                491.0  292.234216  40.001685  ...  284.0  319.0  371.0\n",
              "1                555.0  176.798198  30.281036  ...  176.0  201.0  234.0\n",
              "2                945.0   76.428571  20.669602  ...   72.0   89.0  126.0\n",
              "3               1883.0   18.497079  13.374455  ...   17.0   29.0   47.0\n",
              "\n",
              "[4 rows x 8 columns]"
            ]
          },
          "metadata": {
            "tags": []
          },
          "execution_count": 29
        }
      ]
    },
    {
      "cell_type": "markdown",
      "metadata": {
        "id": "86vuVlcMw1o5",
        "colab_type": "text"
      },
      "source": [
        " 3 covers most recent customers whereas"
      ]
    },
    {
      "cell_type": "markdown",
      "metadata": {
        "id": "Jg-y21jsw2yS",
        "colab_type": "text"
      },
      "source": [
        "#Frequency"
      ]
    },
    {
      "cell_type": "code",
      "metadata": {
        "id": "uBub3dIHwYRH",
        "colab_type": "code",
        "colab": {}
      },
      "source": [
        "#get order counts for each user and create a dataframe with it\n",
        "df_frequency = df_us.groupby('viewer_id').start_time.count().reset_index()\n",
        "df_frequency.columns = ['viewer_id','Frequency']"
      ],
      "execution_count": 0,
      "outputs": []
    },
    {
      "cell_type": "code",
      "metadata": {
        "id": "fQxFlIylwYN2",
        "colab_type": "code",
        "colab": {}
      },
      "source": [
        "#add this data to our main dataframe\n",
        "df_user = pd.merge(df_user, df_frequency, on='viewer_id')"
      ],
      "execution_count": 0,
      "outputs": []
    },
    {
      "cell_type": "code",
      "metadata": {
        "id": "yoLT9ozZwYLZ",
        "colab_type": "code",
        "outputId": "02fc19a7-ab5c-4b9e-c0c4-27b55ab1136a",
        "colab": {
          "base_uri": "https://localhost:8080/",
          "height": 542
        }
      },
      "source": [
        "#plotting a recency histogram\n",
        "import plotly.express as px\n",
        "fig = px.histogram(df_user, x=df_user.query('Frequency < 1000')['Frequency'])\n",
        "fig.show()"
      ],
      "execution_count": 32,
      "outputs": [
        {
          "output_type": "display_data",
          "data": {
            "text/html": [
              "<html>\n",
              "<head><meta charset=\"utf-8\" /></head>\n",
              "<body>\n",
              "    <div>\n",
              "            <script src=\"https://cdnjs.cloudflare.com/ajax/libs/mathjax/2.7.5/MathJax.js?config=TeX-AMS-MML_SVG\"></script><script type=\"text/javascript\">if (window.MathJax) {MathJax.Hub.Config({SVG: {font: \"STIX-Web\"}});}</script>\n",
              "                <script type=\"text/javascript\">window.PlotlyConfig = {MathJaxConfig: 'local'};</script>\n",
              "        <script src=\"https://cdn.plot.ly/plotly-latest.min.js\"></script>    \n",
              "            <div id=\"f95e8229-7fc6-4f72-849f-4c3aed6b425e\" class=\"plotly-graph-div\" style=\"height:525px; width:100%;\"></div>\n",
              "            <script type=\"text/javascript\">\n",
              "                \n",
              "                    window.PLOTLYENV=window.PLOTLYENV || {};\n",
              "                    \n",
              "                if (document.getElementById(\"f95e8229-7fc6-4f72-849f-4c3aed6b425e\")) {\n",
              "                    Plotly.newPlot(\n",
              "                        'f95e8229-7fc6-4f72-849f-4c3aed6b425e',\n",
              "                        [{\"alignmentgroup\": \"True\", \"bingroup\": \"x\", \"hoverlabel\": {\"namelength\": 0}, \"hovertemplate\": \"x=%{x}<br>count=%{y}\", \"legendgroup\": \"\", \"marker\": {\"color\": \"#636efa\"}, \"name\": \"\", \"offsetgroup\": \"\", \"orientation\": \"v\", \"showlegend\": false, \"type\": \"histogram\", \"x\": [155, 101, 308, 60, 229, 939, 18, 464, 350, 29, 177, 83, 305, 56, 615, 64, 7, 100, 554, 81, 371, 101, 403, 15, 30, 121, 63, 55, 40, 22, 465, 705, 282, 16, 112, 16, 143, 242, 157, 132, 115, 151, 72, 50, 397, 20, 34, 229, 98, 362, 281, 165, 78, 391, 136, 68, 259, 76, 194, 111, 233, 159, 103, 228, 61, 93, 69, 62, 208, 198, 118, 402, 49, 138, 330, 477, 90, 190, 23, 58, 225, 300, 146, 698, 339, 5, 323, 1, 92, 95, 220, 43, 24, 396, 198, 134, 89, 181, 219, 139, 70, 278, 485, 132, 96, 566, 130, 116, 400, 97, 174, 360, 444, 425, 662, 385, 288, 262, 96, 864, 324, 225, 316, 255, 94, 74, 82, 140, 148, 516, 319, 211, 323, 199, 330, 972, 45, 562, 59, 292, 461, 316, 899, 98, 117, 369, 103, 213, 329, 103, 23, 314, 140, 304, 63, 328, 474, 114, 61, 89, 94, 24, 86, 47, 143, 142, 265, 201, 28, 162, 121, 270, 440, 450, 85, 48, 234, 225, 573, 402, 270, 144, 118, 296, 519, 86, 99, 237, 310, 48, 82, 274, 141, 108, 46, 50, 337, 195, 78, 165, 690, 50, 31, 167, 202, 142, 109, 156, 85, 74, 422, 97, 122, 155, 705, 135, 710, 165, 43, 191, 60, 118, 206, 158, 283, 33, 431, 51, 279, 26, 343, 211, 403, 140, 333, 247, 17, 227, 26, 293, 107, 119, 143, 382, 183, 296, 140, 460, 472, 672, 512, 235, 50, 210, 624, 157, 46, 155, 200, 100, 78, 192, 172, 78, 99, 112, 93, 135, 407, 16, 243, 12, 308, 212, 91, 199, 141, 95, 89, 551, 476, 143, 110, 190, 54, 4, 19, 55, 14, 645, 285, 268, 111, 88, 17, 270, 53, 36, 91, 133, 108, 271, 151, 411, 339, 347, 611, 626, 394, 301, 115, 25, 220, 258, 190, 206, 73, 72, 64, 160, 137, 319, 64, 176, 370, 436, 279, 111, 123, 20, 672, 123, 105, 253, 130, 94, 449, 421, 84, 702, 506, 453, 43, 20, 78, 799, 226, 32, 101, 321, 208, 193, 140, 144, 114, 753, 408, 185, 576, 541, 135, 87, 710, 56, 291, 75, 174, 142, 203, 312, 70, 202, 284, 98, 265, 127, 134, 67, 125, 77, 590, 47, 31, 423, 84, 538, 182, 224, 123, 26, 35, 54, 277, 98, 382, 103, 157, 8, 33, 35, 87, 84, 302, 204, 423, 172, 110, 169, 98, 131, 252, 120, 270, 113, 408, 124, 191, 94, 85, 92, 117, 142, 196, 125, 136, 56, 296, 214, 194, 133, 272, 256, 277, 162, 249, 32, 404, 74, 82, 473, 22, 67, 210, 101, 585, 175, 30, 250, 20, 34, 26, 63, 163, 108, 394, 42, 37, 66, 17, 10, 213, 20, 42, 78, 238, 195, 147, 193, 113, 59, 54, 4, 237, 255, 206, 242, 111, 16, 111, 937, 297, 89, 756, 87, 138, 159, 90, 94, 74, 43, 127, 237, 319, 106, 47, 104, 69, 210, 981, 38, 443, 80, 57, 851, 123, 58, 162, 94, 468, 212, 87, 71, 31, 139, 320, 46, 261, 66, 52, 383, 235, 52, 213, 411, 11, 63, 50, 121, 201, 141, 166, 510, 259, 186, 115, 197, 69, 136, 188, 470, 378, 237, 223, 171, 38, 59, 339, 218, 126, 16, 144, 72, 560, 270, 18, 15, 30, 101, 96, 589, 151, 310, 167, 382, 321, 227, 2, 15, 209, 80, 16, 43, 93, 129, 166, 35, 84, 519, 126, 131, 87, 81, 338, 39, 488, 77, 572, 232, 58, 59, 95, 267, 60, 335, 222, 54, 112, 196, 20, 168, 25, 290, 253, 114, 336, 33, 47, 102, 215, 624, 224, 130, 57, 221, 67, 197, 172, 276, 78, 81, 171, 126, 66, 45, 43, 142, 354, 145, 35, 130, 63, 27, 46, 41, 65, 13, 140, 155, 45, 209, 76, 336, 241, 5, 704, 107, 579, 145, 20, 79, 312, 104, 153, 153, 423, 87, 75, 286, 35, 86, 133, 197, 103, 105, 61, 53, 109, 46, 78, 172, 102, 27, 89, 215, 66, 81, 10, 55, 216, 117, 170, 117, 63, 118, 458, 302, 41, 74, 83, 46, 74, 26, 141, 18, 148, 284, 200, 79, 155, 28, 145, 4, 69, 113, 498, 71, 104, 187, 181, 137, 189, 23, 47, 66, 78, 86, 115, 171, 478, 176, 23, 79, 79, 22, 115, 30, 216, 53, 166, 43, 116, 86, 52, 41, 149, 137, 71, 48, 63, 226, 121, 93, 175, 20, 44, 295, 31, 43, 57, 202, 106, 41, 59, 42, 100, 163, 89, 185, 111, 97, 271, 87, 15, 71, 269, 259, 142, 12, 94, 70, 34, 61, 7, 46, 355, 194, 42, 107, 215, 418, 134, 67, 294, 33, 31, 134, 338, 501, 524, 447, 372, 97, 90, 96, 318, 9, 160, 40, 102, 237, 167, 62, 19, 80, 42, 166, 144, 27, 54, 152, 78, 127, 137, 116, 297, 218, 60, 42, 8, 100, 343, 67, 61, 28, 12, 51, 180, 245, 96, 440, 120, 134, 222, 192, 546, 126, 114, 169, 179, 11, 101, 101, 27, 102, 35, 116, 324, 84, 115, 269, 349, 16, 107, 24, 58, 33, 52, 114, 279, 110, 149, 35, 60, 48, 41, 4, 86, 43, 57, 68, 52, 32, 157, 9, 191, 92, 90, 146, 170, 41, 3, 315, 109, 90, 187, 350, 104, 28, 74, 274, 51, 150, 174, 185, 234, 208, 87, 115, 46, 88, 341, 91, 142, 276, 61, 101, 215, 412, 31, 68, 109, 58, 237, 399, 67, 6, 98, 166, 108, 27, 27, 293, 182, 23, 124, 145, 86, 19, 163, 18, 11, 96, 83, 207, 146, 280, 67, 110, 72, 2, 51, 39, 57, 75, 83, 111, 10, 229, 660, 49, 73, 87, 143, 28, 67, 235, 177, 44, 39, 39, 144, 44, 127, 115, 35, 110, 62, 50, 73, 134, 117, 79, 103, 178, 60, 152, 329, 48, 122, 144, 4, 39, 102, 31, 51, 39, 117, 95, 281, 99, 9, 102, 69, 42, 91, 117, 49, 259, 23, 55, 27, 63, 29, 135, 63, 15, 101, 73, 61, 50, 71, 26, 104, 128, 11, 38, 84, 27, 79, 385, 37, 64, 55, 29, 282, 34, 40, 87, 197, 199, 71, 11, 45, 91, 43, 199, 53, 50, 90, 64, 9, 19, 99, 249, 21, 129, 166, 159, 34, 63, 31, 106, 74, 3, 330, 188, 38, 129, 28, 45, 88, 60, 33, 52, 388, 58, 82, 75, 108, 10, 12, 54, 70, 37, 26, 16, 78, 98, 55, 45, 262, 152, 9, 118, 87, 18, 29, 15, 42, 55, 63, 20, 167, 178, 101, 44, 30, 286, 271, 54, 27, 28, 28, 20, 217, 88, 6, 109, 50, 120, 132, 115, 99, 200, 198, 44, 31, 110, 11, 111, 99, 327, 41, 44, 111, 28, 415, 285, 98, 21, 50, 164, 152, 42, 26, 20, 232, 76, 32, 107, 27, 46, 13, 9, 35, 39, 128, 63, 29, 242, 57, 93, 235, 72, 101, 57, 38, 27, 57, 50, 53, 95, 97, 19, 105, 26, 28, 118, 6, 26, 180, 179, 59, 27, 169, 123, 90, 3, 89, 33, 77, 57, 120, 94, 22, 116, 52, 50, 12, 8, 364, 82, 26, 143, 48, 29, 55, 62, 155, 88, 26, 80, 162, 360, 89, 49, 65, 82, 84, 41, 667, 119, 970, 236, 18, 18, 6, 6, 164, 55, 66, 53, 45, 97, 95, 61, 8, 47, 17, 68, 20, 27, 86, 52, 56, 79, 57, 145, 5, 35, 37, 12, 46, 102, 65, 84, 72, 125, 60, 44, 70, 29, 11, 121, 29, 35, 267, 123, 16, 25, 25, 31, 39, 237, 64, 111, 17, 140, 174, 7, 124, 31, 54, 37, 146, 100, 40, 73, 71, 34, 42, 19, 132, 4, 27, 84, 76, 35, 68, 21, 142, 118, 82, 25, 62, 44, 40, 10, 29, 547, 81, 57, 15, 9, 111, 382, 43, 83, 34, 662, 134, 39, 55, 57, 22, 76, 58, 165, 74, 32, 35, 214, 49, 104, 134, 160, 11, 48, 83, 21, 25, 176, 132, 135, 68, 34, 19, 28, 40, 50, 41, 108, 49, 57, 188, 62, 160, 73, 63, 167, 5, 79, 35, 61, 135, 18, 85, 44, 134, 179, 82, 312, 67, 45, 32, 35, 26, 23, 62, 53, 43, 16, 18, 117, 12, 36, 12, 253, 78, 69, 25, 371, 19, 31, 25, 20, 175, 54, 177, 18, 42, 6, 107, 53, 57, 59, 74, 18, 46, 60, 69, 65, 2, 19, 164, 47, 39, 91, 213, 314, 79, 342, 6, 206, 62, 142, 11, 43, 62, 13, 2, 39, 152, 111, 31, 159, 35, 139, 10, 78, 159, 70, 66, 46, 71, 29, 51, 366, 100, 14, 216, 165, 20, 6, 210, 71, 72, 109, 16, 17, 182, 37, 77, 32, 260, 40, 60, 306, 135, 30, 24, 152, 24, 12, 39, 15, 6, 1, 26, 32, 6, 64, 29, 26, 11, 72, 20, 27, 28, 47, 11, 7, 45, 15, 68, 21, 32, 48, 29, 79, 50, 36, 54, 25, 38, 552, 16, 60, 11, 21, 60, 14, 15, 26, 5, 12, 160, 145, 32, 35, 41, 19, 10, 53, 19, 26, 12, 11, 9, 14, 56, 31, 24, 46, 6, 21, 21, 201, 114, 41, 12, 3, 5, 96, 37, 6, 219, 98, 13, 8, 13, 6, 40, 65, 12, 6, 38, 23, 27, 47, 33, 2, 15, 41, 28, 26, 39, 59, 41, 93, 45, 18, 24, 21, 9, 20, 38, 96, 83, 18, 48, 10, 21, 29, 92, 28, 37, 33, 38, 29, 33, 99, 63, 28, 59, 20, 191, 19, 27, 22, 25, 37, 7, 162, 11, 20, 13, 78, 20, 66, 63, 55, 97, 59, 26, 6, 43, 49, 99, 4, 2, 72, 19, 76, 4, 33, 65, 13, 33, 28, 11, 8, 28, 66, 25, 4, 42, 36, 3, 24, 26, 7, 22, 42, 25, 34, 6, 15, 22, 37, 6, 5, 14, 5, 9, 3, 1, 11, 30, 228, 5, 29, 28, 111, 10, 7, 21, 11, 60, 28, 19, 6, 8, 76, 20, 17, 12, 92, 76, 32, 33, 21, 4, 32, 21, 17, 30, 27, 131, 27, 69, 7, 20, 57, 9, 5, 9, 73, 74, 7, 152, 19, 58, 6, 55, 86, 95, 16, 128, 44, 31, 45, 82, 19, 2, 14, 51, 11, 11, 57, 2, 61, 10, 22, 1, 19, 4, 91, 92, 23, 41, 15, 29, 7, 16, 112, 45, 38, 66, 4, 14, 8, 17, 3, 56, 46, 46, 27, 33, 19, 32, 11, 20, 3, 23, 18, 3, 7, 52, 62, 14, 4, 18, 3, 159, 47, 11, 21, 65, 18, 3, 16, 13, 129, 1, 25, 51, 13, 28, 8, 15, 125, 28, 17, 102, 1, 102, 47, 8, 18, 54, 3, 112, 21, 32, 55, 1, 6, 66, 38, 2, 22, 47, 128, 38, 36, 5, 21, 3, 166, 64, 85, 64, 105, 73, 91, 24, 20, 15, 83, 164, 43, 15, 2, 13, 16, 3, 20, 7, 14, 53, 15, 35, 74, 35, 436, 31, 3, 17, 10, 121, 39, 12, 30, 5, 2, 33, 41, 1, 1, 15, 10, 77, 31, 7, 25, 46, 7, 45, 7, 51, 3, 33, 80, 17, 5, 24, 9, 1, 69, 44, 77, 12, 18, 2, 12, 27, 55, 23, 5, 104, 21, 74, 8, 52, 11, 95, 35, 203, 4, 27, 60, 101, 128, 79, 24, 139, 40, 4, 36, 12, 237, 102, 146, 48, 35, 73, 99, 81, 130, 148, 37, 27, 93, 23, 97, 243, 251, 54, 73, 40, 180, 115, 39, 42, 166, 206, 227, 38, 115, 22, 59, 12, 28, 149, 193, 5, 46, 130, 71, 67, 9, 51, 71, 52, 77, 31, 378, 138, 110, 31, 187, 92, 9, 6, 127, 172, 31, 207, 84, 74, 25, 28, 37, 119, 235, 103, 57, 61, 124, 138, 97, 170, 35, 151, 100, 44, 28, 51, 92, 52, 307, 59, 281, 89, 26, 47, 34, 213, 57, 9, 112, 240, 38, 103, 19, 47, 214, 73, 208, 85, 32, 24, 292, 43, 128, 79, 47, 11, 125, 98, 54, 40, 136, 139, 21, 15, 214, 9, 76, 49, 73, 43, 216, 210, 56, 49, 149, 63, 30, 27, 62, 155, 72, 194, 35, 77, 68, 77, 18, 54, 118, 38, 82, 111, 8, 149, 79, 106, 30, 86, 110, 14, 27, 41, 35, 153, 72, 128, 39, 55, 34, 115, 128, 53, 109, 170, 135, 51, 117, 16, 30, 175, 357, 51, 113, 82, 24, 90, 26, 16, 44, 3, 53, 12, 23, 110, 37, 18, 149, 104, 34, 13, 148, 193, 268, 156, 42, 52, 19, 36, 16, 63, 21, 104, 316, 116, 41, 87, 26, 299, 82, 135, 60, 69, 89, 4, 5, 59, 112, 78, 125, 28, 14, 39, 81, 72, 70, 84, 29, 25, 95, 24, 2, 81, 28, 49, 83, 42, 141, 64, 83, 30, 305, 12, 47, 28, 81, 15, 12, 13, 5, 69, 53, 120, 40, 27, 3, 110, 34, 192, 82, 7, 25, 79, 58, 117, 21, 12, 12, 37, 119, 29, 61, 125, 273, 180, 123, 73, 122, 158, 34, 26, 95, 31, 127, 10, 16, 23, 28, 91, 16, 118, 60, 42, 16, 65, 102, 7, 68, 11, 11, 58, 145, 24, 80, 103, 60, 33, 55, 47, 111, 122, 23, 27, 79, 49, 53, 60, 50, 57, 34, 19, 46, 38, 123, 43, 114, 50, 155, 28, 29, 33, 43, 51, 48, 44, 26, 30, 162, 143, 13, 91, 96, 192, 176, 93, 330, 125, 34, 67, 59, 22, 69, 100, 119, 76, 46, 28, 119, 75, 82, 6, 124, 29, 24, 56, 69, 130, 42, 98, 253, 55, 58, 78, 62, 69, 41, 52, 87, 36, 2, 21, 37, 154, 64, 53, 49, 43, 23, 99, 88, 101, 39, 27, 32, 228, 14, 82, 102, 47, 40, 45, 104, 34, 212, 6, 76, 106, 78, 13, 47, 29, 127, 7, 27, 69, 45, 75, 102, 68, 62, 11, 92, 19, 28, 70, 61, 6, 63, 65, 15, 47, 12, 136, 15, 108, 63, 39, 26, 90, 29, 16, 28, 48, 37, 73, 109, 13, 200, 18, 45, 19, 7, 26, 11, 47, 87, 7, 69, 7, 54, 67, 21, 40, 70, 141, 15, 42, 127, 48, 40, 27, 98, 25, 101, 33, 150, 33, 4, 46, 6, 47, 2, 28, 97, 69, 45, 23, 6, 108, 9, 23, 60, 58, 15, 93, 47, 61, 51, 31, 49, 40, 17, 105, 28, 20, 41, 14, 33, 407, 40, 5, 13, 82, 37, 11, 10, 12, 30, 16, 10, 71, 1, 47, 6, 32, 17, 6, 69, 5, 24, 1, 7, 8, 10, 13, 19, 25, 7, 14, 44, 55, 37, 6, 10, 29, 53, 64, 16, 76, 6, 1, 14, 8, 9, 5, 229, 55, 1, 16, 12, 43, 18, 153, 21, 6, 12, 8, 1, 15, 2, 10, 9, 32, 12, 42, 49, 9, 45, 30, 23, 30, 18, 1, 29, 9, 21, 98, 58, 10, 13, 52, 50, 83, 64, 12, 26, 12, 29, 10, 2, 22, 15, 2, 19, 27, 13, 34, 21, 27, 9, 23, 6, 18, 19, 109, 13, 37, 46, 23, 7, 30, 23, 54, 14, 99, 2, 75, 46, 21, 30, 7, 16, 71, 5, 1, 11, 3, 63, 42, 28, 38, 33, 30, 20, 23, 57, 1, 28, 3, 16, 48, 23, 5, 24, 10, 3, 29, 7, 13, 15, 12, 22, 13, 2, 33, 5, 14, 17, 14, 29, 12, 42, 30, 14, 20, 14, 20, 27, 6, 15, 6, 2, 52, 20, 11, 2, 9, 19, 8, 3, 15, 29, 27, 39, 39, 51, 29, 48, 37, 29, 49, 42, 14, 53, 17, 23, 53, 19, 15, 25, 10, 11, 85, 13, 21, 9, 40, 7, 22, 2, 7, 4, 10, 9, 54, 11, 39, 9, 9, 17, 10, 6, 18, 24, 45, 2, 23, 16, 51, 58, 17, 28, 10, 45, 20, 76, 8, 5, 6, 8, 21, 23, 30, 10, 25, 46, 15, 62, 30, 21, 15, 23, 1, 47, 24, 16, 8, 31, 52, 16, 6, 10, 12, 2, 28, 24, 5, 22, 7, 6, 34, 9, 24, 17, 24, 23, 69, 22, 127, 23, 8, 16, 7, 29, 11, 28, 14, 11, 17, 2, 23, 7, 10, 8, 16, 366, 6, 15, 29, 87, 7, 85, 8, 39, 62, 29, 59, 32, 60, 19, 6, 11, 9, 56, 22, 76, 11, 24, 56, 12, 4, 25, 30, 13, 3, 9, 21, 2, 34, 41, 8, 10, 9, 11, 23, 26, 6, 16, 100, 11, 14, 31, 4, 1, 36, 62, 35, 34, 5, 7, 19, 40, 30, 20, 35, 13, 9, 36, 1, 42, 7, 13, 53, 5, 40, 31, 14, 15, 14, 12, 20, 26, 10, 6, 5, 17, 56, 16, 9, 15, 6, 30, 5, 24, 22, 13, 8, 144, 13, 18, 16, 16, 17, 16, 44, 15, 1, 11, 14, 17, 29, 40, 10, 6, 3, 61, 9, 28, 33, 2, 10, 20, 12, 146, 14, 90, 19, 11, 4, 14, 151, 30, 70, 26, 105, 45, 208, 60, 41, 153, 10, 4, 19, 19, 1, 58, 8, 49, 35, 2, 31, 63, 30, 7, 6, 7, 13, 2, 113, 4, 45, 52, 5, 30, 3, 7, 23, 1, 5, 5, 25, 14, 11, 18, 74, 2, 12, 66, 5, 66, 17, 26, 19, 29, 38, 41, 53, 29, 46, 3, 70, 39, 86, 14, 23, 40, 9, 25, 7, 29, 53, 6, 94, 21, 3, 18, 29, 15, 11, 43, 10, 69, 9, 66, 43, 5, 60, 1, 10, 33, 39, 25, 45, 4, 30, 21, 18, 62, 9, 4, 11, 59, 17, 19, 58, 54, 64, 1, 7, 21, 11, 5, 6, 157, 29, 37, 13, 13, 10, 14, 5, 19, 29, 8, 3, 17, 170, 21, 10, 6, 29, 29, 3, 5, 13, 15, 9, 14, 1, 35, 24, 39, 1, 8, 28, 43, 1, 1, 12, 12, 7, 1, 41, 10, 11, 6, 14, 11, 4, 14, 10, 41, 24, 8, 36, 6, 17, 4, 30, 67, 5, 23, 7, 1, 137, 8, 7, 10, 3, 11, 8, 17, 25, 48, 37, 8, 48, 43, 15, 28, 10, 77, 19, 19, 21, 18, 8, 28, 56, 2, 1, 4, 29, 14, 8, 23, 21, 5, 35, 29, 33, 10, 29, 88, 11, 11, 21, 1, 23, 24, 9, 19, 25, 85, 25, 1, 7, 8, 8, 11, 37, 20, 17, 130, 21, 23, 38, 15, 1, 21, 1, 5, 13, 7, 12, 50, 1, 12, 74, 8, 4, 17, 16, 1, 92, 87, 33, 9, 8, 28, 31, 27, 40, 6, 1, 3, 16, 9, 23, 19, 23, 28, 9, 20, 35, 11, 30, 9, 10, 38, 20, 14, 9, 10, 1, 6, 16, 7, 41, 10, 18, 12, 4, 1, 15, 16, 9, 15, 14, 2, 14, 15, 29, 6, 132, 13, 20, 14, 10, 11, 22, 17, 15, 14, 19, 6, 9, 7, 7, 24, 25, 13, 2, 23, 19, 7, 18, 10, 3, 34, 16, 13, 51, 5, 2, 22, 25, 45, 21, 50, 20, 29, 29, 5, 1, 4, 5, 37, 5, 2, 7, 22, 8, 13, 7, 70, 21, 5, 47, 6, 20, 5, 10, 8, 12, 34, 5, 14, 21, 31, 10, 67, 16, 1, 11, 8, 21, 9, 45, 58, 37, 1, 21, 13, 7, 3, 24, 42, 15, 8, 76, 40, 23, 3, 18, 19, 90, 19, 5, 14, 17, 54, 3, 17, 17, 54, 26, 17, 15, 7, 12, 4, 18, 19, 9, 1, 24, 2, 2, 17, 37, 8, 17, 1, 18, 8, 13, 2, 12, 20, 12, 20, 13, 12, 1, 10, 8, 20, 27, 14, 10, 28, 5, 7, 12, 27, 14, 34, 8, 20, 14, 28, 8, 12, 31, 15, 5, 8, 21, 23, 23, 10, 6, 28, 52, 20, 74, 9, 15, 9, 1, 34, 15, 19, 29, 64, 19, 21, 5, 32, 79, 95, 19, 80, 5, 138, 34, 28, 13, 9, 9, 47, 18, 22, 1, 59, 104, 159, 21, 134, 118, 4, 108, 93, 71, 327, 124, 23, 29, 83, 3, 41, 99, 183, 22, 19, 47, 75, 43, 156, 51, 6, 28, 64, 260, 2, 19, 80, 69, 14, 53, 98, 84, 61, 41, 7, 46, 30, 20, 194, 7, 31, 134, 87, 29, 36, 16, 27, 49, 35, 17, 135, 18, 5, 61, 36, 26, 31, 22, 15, 75, 9, 16, 19, 35, 52, 127, 69, 68, 21, 107, 40, 104, 10, 33, 4, 19, 93, 12, 78, 28, 2, 63, 60, 68, 9, 543, 35, 18, 90, 33, 39, 86, 4, 46, 29, 4, 94, 181, 86, 83, 24, 22, 39, 3, 25, 44, 91, 38, 17, 124, 50, 25, 30, 11, 25, 26, 89, 26, 80, 85, 38, 69, 33, 21, 28, 58, 40, 31, 63, 30, 57, 37, 76, 47, 40, 67, 44, 29, 8, 76, 41, 25, 88, 46, 80, 57, 14, 43, 11, 59, 180, 52, 89, 238, 55, 71, 20, 29, 12, 57, 35, 22, 48, 46, 65, 5, 82, 5, 12, 7, 20, 54, 10, 13, 5, 20, 38, 26, 28, 42, 17, 116, 42, 75, 40, 31, 137, 32, 82, 8, 7, 92, 15, 7, 8, 23, 9, 17, 5, 3, 23, 27, 18, 19, 6, 26, 5, 29, 13, 11, 23, 11, 24, 38, 15, 2, 26, 113, 62, 10, 5, 14, 10, 10, 6, 16, 28, 20, 17, 14, 8, 28, 18, 16, 6, 48, 19, 6, 4, 1, 7, 6, 39, 13, 9, 2, 3, 22, 5, 5, 1, 3, 4, 5, 12, 34, 17, 6, 15, 66, 14, 117, 6, 13, 17, 10, 8, 6, 55, 16, 5, 16, 57, 5, 62, 18, 1, 58, 22, 34, 40, 8, 15, 31, 28, 13, 16, 23, 30, 20, 10, 52, 6, 33, 42, 14, 9, 10, 19, 21, 1, 8, 14, 58, 7, 9, 15, 2, 30, 25, 6, 54, 28, 1, 30, 24, 5, 18, 23, 1, 20, 100, 8, 4, 22, 8, 1, 33, 31, 42, 1, 70, 24, 43, 12, 19, 26, 9, 15, 5, 11, 25, 22, 6, 30, 14, 30, 21, 8, 2, 33, 7, 3, 72, 8, 31, 10, 5, 18, 75, 32, 13, 21, 21, 16, 17, 10, 30, 8, 9, 14, 26, 3, 7, 127, 26, 70, 9, 6, 13, 33, 19, 10, 3, 118, 41, 31, 13, 6, 2, 10, 9, 7, 13, 10, 6, 99, 44, 86, 12, 49, 25, 20, 20, 1, 16, 46, 15, 18, 26, 10, 8, 8, 12, 16, 67, 8, 22, 7, 20, 9, 11, 6, 21, 12, 16, 3, 1, 3, 2, 24, 12, 13, 25, 15, 34, 9, 11, 43, 28, 12, 14, 29, 32, 12, 9, 2, 19, 19, 11, 22, 11, 47, 9, 42, 53, 37, 31, 14, 1, 32, 60, 8, 21, 16, 58, 11, 42, 11, 87, 25, 13, 6, 1, 158, 29, 2, 70, 24, 48, 3, 9, 1, 35, 5, 29, 15, 45, 19, 13, 22, 3, 30, 52, 8, 15, 26, 6, 5, 16, 27, 3, 36, 19, 25, 1, 28, 1, 14, 7, 21, 22, 23, 18, 1, 15, 35, 25, 2, 13, 2, 22, 24, 93, 46, 10, 3, 18, 40, 2, 18, 19, 5, 38], \"xaxis\": \"x\", \"yaxis\": \"y\"}],\n",
              "                        {\"barmode\": \"relative\", \"legend\": {\"tracegroupgap\": 0}, \"margin\": {\"t\": 60}, \"template\": {\"data\": {\"bar\": [{\"error_x\": {\"color\": \"#2a3f5f\"}, \"error_y\": {\"color\": \"#2a3f5f\"}, \"marker\": {\"line\": {\"color\": \"#E5ECF6\", \"width\": 0.5}}, \"type\": \"bar\"}], \"barpolar\": [{\"marker\": {\"line\": {\"color\": \"#E5ECF6\", \"width\": 0.5}}, \"type\": \"barpolar\"}], \"carpet\": [{\"aaxis\": {\"endlinecolor\": \"#2a3f5f\", \"gridcolor\": \"white\", \"linecolor\": \"white\", \"minorgridcolor\": \"white\", \"startlinecolor\": \"#2a3f5f\"}, \"baxis\": {\"endlinecolor\": \"#2a3f5f\", \"gridcolor\": \"white\", \"linecolor\": \"white\", \"minorgridcolor\": \"white\", \"startlinecolor\": \"#2a3f5f\"}, \"type\": \"carpet\"}], \"choropleth\": [{\"colorbar\": {\"outlinewidth\": 0, \"ticks\": \"\"}, \"type\": \"choropleth\"}], \"contour\": [{\"colorbar\": {\"outlinewidth\": 0, \"ticks\": \"\"}, \"colorscale\": [[0.0, \"#0d0887\"], [0.1111111111111111, \"#46039f\"], [0.2222222222222222, \"#7201a8\"], [0.3333333333333333, \"#9c179e\"], [0.4444444444444444, \"#bd3786\"], [0.5555555555555556, \"#d8576b\"], [0.6666666666666666, \"#ed7953\"], [0.7777777777777778, \"#fb9f3a\"], [0.8888888888888888, \"#fdca26\"], [1.0, \"#f0f921\"]], \"type\": \"contour\"}], \"contourcarpet\": [{\"colorbar\": {\"outlinewidth\": 0, \"ticks\": \"\"}, \"type\": \"contourcarpet\"}], \"heatmap\": [{\"colorbar\": {\"outlinewidth\": 0, \"ticks\": \"\"}, \"colorscale\": [[0.0, \"#0d0887\"], [0.1111111111111111, \"#46039f\"], [0.2222222222222222, \"#7201a8\"], [0.3333333333333333, \"#9c179e\"], [0.4444444444444444, \"#bd3786\"], [0.5555555555555556, \"#d8576b\"], [0.6666666666666666, \"#ed7953\"], [0.7777777777777778, \"#fb9f3a\"], [0.8888888888888888, \"#fdca26\"], [1.0, \"#f0f921\"]], \"type\": \"heatmap\"}], \"heatmapgl\": [{\"colorbar\": {\"outlinewidth\": 0, \"ticks\": \"\"}, \"colorscale\": [[0.0, \"#0d0887\"], [0.1111111111111111, \"#46039f\"], [0.2222222222222222, \"#7201a8\"], [0.3333333333333333, \"#9c179e\"], [0.4444444444444444, \"#bd3786\"], [0.5555555555555556, \"#d8576b\"], [0.6666666666666666, \"#ed7953\"], [0.7777777777777778, \"#fb9f3a\"], [0.8888888888888888, \"#fdca26\"], [1.0, \"#f0f921\"]], \"type\": \"heatmapgl\"}], \"histogram\": [{\"marker\": {\"colorbar\": {\"outlinewidth\": 0, \"ticks\": \"\"}}, \"type\": \"histogram\"}], \"histogram2d\": [{\"colorbar\": {\"outlinewidth\": 0, \"ticks\": \"\"}, \"colorscale\": [[0.0, \"#0d0887\"], [0.1111111111111111, \"#46039f\"], [0.2222222222222222, \"#7201a8\"], [0.3333333333333333, \"#9c179e\"], [0.4444444444444444, \"#bd3786\"], [0.5555555555555556, \"#d8576b\"], [0.6666666666666666, \"#ed7953\"], [0.7777777777777778, \"#fb9f3a\"], [0.8888888888888888, \"#fdca26\"], [1.0, \"#f0f921\"]], \"type\": \"histogram2d\"}], \"histogram2dcontour\": [{\"colorbar\": {\"outlinewidth\": 0, \"ticks\": \"\"}, \"colorscale\": [[0.0, \"#0d0887\"], [0.1111111111111111, \"#46039f\"], [0.2222222222222222, \"#7201a8\"], [0.3333333333333333, \"#9c179e\"], [0.4444444444444444, \"#bd3786\"], [0.5555555555555556, \"#d8576b\"], [0.6666666666666666, \"#ed7953\"], [0.7777777777777778, \"#fb9f3a\"], [0.8888888888888888, \"#fdca26\"], [1.0, \"#f0f921\"]], \"type\": \"histogram2dcontour\"}], \"mesh3d\": [{\"colorbar\": {\"outlinewidth\": 0, \"ticks\": \"\"}, \"type\": \"mesh3d\"}], \"parcoords\": [{\"line\": {\"colorbar\": {\"outlinewidth\": 0, \"ticks\": \"\"}}, \"type\": \"parcoords\"}], \"pie\": [{\"automargin\": true, \"type\": \"pie\"}], \"scatter\": [{\"marker\": {\"colorbar\": {\"outlinewidth\": 0, \"ticks\": \"\"}}, \"type\": \"scatter\"}], \"scatter3d\": [{\"line\": {\"colorbar\": {\"outlinewidth\": 0, \"ticks\": \"\"}}, \"marker\": {\"colorbar\": {\"outlinewidth\": 0, \"ticks\": \"\"}}, \"type\": \"scatter3d\"}], \"scattercarpet\": [{\"marker\": {\"colorbar\": {\"outlinewidth\": 0, \"ticks\": \"\"}}, \"type\": \"scattercarpet\"}], \"scattergeo\": [{\"marker\": {\"colorbar\": {\"outlinewidth\": 0, \"ticks\": \"\"}}, \"type\": \"scattergeo\"}], \"scattergl\": [{\"marker\": {\"colorbar\": {\"outlinewidth\": 0, \"ticks\": \"\"}}, \"type\": \"scattergl\"}], \"scattermapbox\": [{\"marker\": {\"colorbar\": {\"outlinewidth\": 0, \"ticks\": \"\"}}, \"type\": \"scattermapbox\"}], \"scatterpolar\": [{\"marker\": {\"colorbar\": {\"outlinewidth\": 0, \"ticks\": \"\"}}, \"type\": \"scatterpolar\"}], \"scatterpolargl\": [{\"marker\": {\"colorbar\": {\"outlinewidth\": 0, \"ticks\": \"\"}}, \"type\": \"scatterpolargl\"}], \"scatterternary\": [{\"marker\": {\"colorbar\": {\"outlinewidth\": 0, \"ticks\": \"\"}}, \"type\": \"scatterternary\"}], \"surface\": [{\"colorbar\": {\"outlinewidth\": 0, \"ticks\": \"\"}, \"colorscale\": [[0.0, \"#0d0887\"], [0.1111111111111111, \"#46039f\"], [0.2222222222222222, \"#7201a8\"], [0.3333333333333333, \"#9c179e\"], [0.4444444444444444, \"#bd3786\"], [0.5555555555555556, \"#d8576b\"], [0.6666666666666666, \"#ed7953\"], [0.7777777777777778, \"#fb9f3a\"], [0.8888888888888888, \"#fdca26\"], [1.0, \"#f0f921\"]], \"type\": \"surface\"}], \"table\": [{\"cells\": {\"fill\": {\"color\": \"#EBF0F8\"}, \"line\": {\"color\": \"white\"}}, \"header\": {\"fill\": {\"color\": \"#C8D4E3\"}, \"line\": {\"color\": \"white\"}}, \"type\": \"table\"}]}, \"layout\": {\"annotationdefaults\": {\"arrowcolor\": \"#2a3f5f\", \"arrowhead\": 0, \"arrowwidth\": 1}, \"coloraxis\": {\"colorbar\": {\"outlinewidth\": 0, \"ticks\": \"\"}}, \"colorscale\": {\"diverging\": [[0, \"#8e0152\"], [0.1, \"#c51b7d\"], [0.2, \"#de77ae\"], [0.3, \"#f1b6da\"], [0.4, \"#fde0ef\"], [0.5, \"#f7f7f7\"], [0.6, \"#e6f5d0\"], [0.7, \"#b8e186\"], [0.8, \"#7fbc41\"], [0.9, \"#4d9221\"], [1, \"#276419\"]], \"sequential\": [[0.0, \"#0d0887\"], [0.1111111111111111, \"#46039f\"], [0.2222222222222222, \"#7201a8\"], [0.3333333333333333, \"#9c179e\"], [0.4444444444444444, \"#bd3786\"], [0.5555555555555556, \"#d8576b\"], [0.6666666666666666, \"#ed7953\"], [0.7777777777777778, \"#fb9f3a\"], [0.8888888888888888, \"#fdca26\"], [1.0, \"#f0f921\"]], \"sequentialminus\": [[0.0, \"#0d0887\"], [0.1111111111111111, \"#46039f\"], [0.2222222222222222, \"#7201a8\"], [0.3333333333333333, \"#9c179e\"], [0.4444444444444444, \"#bd3786\"], [0.5555555555555556, \"#d8576b\"], [0.6666666666666666, \"#ed7953\"], [0.7777777777777778, \"#fb9f3a\"], [0.8888888888888888, \"#fdca26\"], [1.0, \"#f0f921\"]]}, \"colorway\": [\"#636efa\", \"#EF553B\", \"#00cc96\", \"#ab63fa\", \"#FFA15A\", \"#19d3f3\", \"#FF6692\", \"#B6E880\", \"#FF97FF\", \"#FECB52\"], \"font\": {\"color\": \"#2a3f5f\"}, \"geo\": {\"bgcolor\": \"white\", \"lakecolor\": \"white\", \"landcolor\": \"#E5ECF6\", \"showlakes\": true, \"showland\": true, \"subunitcolor\": \"white\"}, \"hoverlabel\": {\"align\": \"left\"}, \"hovermode\": \"closest\", \"mapbox\": {\"style\": \"light\"}, \"paper_bgcolor\": \"white\", \"plot_bgcolor\": \"#E5ECF6\", \"polar\": {\"angularaxis\": {\"gridcolor\": \"white\", \"linecolor\": \"white\", \"ticks\": \"\"}, \"bgcolor\": \"#E5ECF6\", \"radialaxis\": {\"gridcolor\": \"white\", \"linecolor\": \"white\", \"ticks\": \"\"}}, \"scene\": {\"xaxis\": {\"backgroundcolor\": \"#E5ECF6\", \"gridcolor\": \"white\", \"gridwidth\": 2, \"linecolor\": \"white\", \"showbackground\": true, \"ticks\": \"\", \"zerolinecolor\": \"white\"}, \"yaxis\": {\"backgroundcolor\": \"#E5ECF6\", \"gridcolor\": \"white\", \"gridwidth\": 2, \"linecolor\": \"white\", \"showbackground\": true, \"ticks\": \"\", \"zerolinecolor\": \"white\"}, \"zaxis\": {\"backgroundcolor\": \"#E5ECF6\", \"gridcolor\": \"white\", \"gridwidth\": 2, \"linecolor\": \"white\", \"showbackground\": true, \"ticks\": \"\", \"zerolinecolor\": \"white\"}}, \"shapedefaults\": {\"line\": {\"color\": \"#2a3f5f\"}}, \"ternary\": {\"aaxis\": {\"gridcolor\": \"white\", \"linecolor\": \"white\", \"ticks\": \"\"}, \"baxis\": {\"gridcolor\": \"white\", \"linecolor\": \"white\", \"ticks\": \"\"}, \"bgcolor\": \"#E5ECF6\", \"caxis\": {\"gridcolor\": \"white\", \"linecolor\": \"white\", \"ticks\": \"\"}}, \"title\": {\"x\": 0.05}, \"xaxis\": {\"automargin\": true, \"gridcolor\": \"white\", \"linecolor\": \"white\", \"ticks\": \"\", \"title\": {\"standoff\": 15}, \"zerolinecolor\": \"white\", \"zerolinewidth\": 2}, \"yaxis\": {\"automargin\": true, \"gridcolor\": \"white\", \"linecolor\": \"white\", \"ticks\": \"\", \"title\": {\"standoff\": 15}, \"zerolinecolor\": \"white\", \"zerolinewidth\": 2}}}, \"xaxis\": {\"anchor\": \"y\", \"domain\": [0.0, 1.0], \"title\": {\"text\": \"x\"}}, \"yaxis\": {\"anchor\": \"x\", \"domain\": [0.0, 1.0], \"title\": {\"text\": \"count\"}}},\n",
              "                        {\"responsive\": true}\n",
              "                    ).then(function(){\n",
              "                            \n",
              "var gd = document.getElementById('f95e8229-7fc6-4f72-849f-4c3aed6b425e');\n",
              "var x = new MutationObserver(function (mutations, observer) {{\n",
              "        var display = window.getComputedStyle(gd).display;\n",
              "        if (!display || display === 'none') {{\n",
              "            console.log([gd, 'removed!']);\n",
              "            Plotly.purge(gd);\n",
              "            observer.disconnect();\n",
              "        }}\n",
              "}});\n",
              "\n",
              "// Listen for the removal of the full notebook cells\n",
              "var notebookContainer = gd.closest('#notebook-container');\n",
              "if (notebookContainer) {{\n",
              "    x.observe(notebookContainer, {childList: true});\n",
              "}}\n",
              "\n",
              "// Listen for the clearing of the current output cell\n",
              "var outputEl = gd.closest('.output');\n",
              "if (outputEl) {{\n",
              "    x.observe(outputEl, {childList: true});\n",
              "}}\n",
              "\n",
              "                        })\n",
              "                };\n",
              "                \n",
              "            </script>\n",
              "        </div>\n",
              "</body>\n",
              "</html>"
            ]
          },
          "metadata": {
            "tags": []
          }
        }
      ]
    },
    {
      "cell_type": "code",
      "metadata": {
        "id": "ZBjHGZLxwYIH",
        "colab_type": "code",
        "colab": {}
      },
      "source": [
        "#k-means\n",
        "kmeans = KMeans(n_clusters=4)\n",
        "kmeans.fit(df_user[['Frequency']])\n",
        "df_user['FrequencyCluster'] = kmeans.predict(df_user[['Frequency']])"
      ],
      "execution_count": 0,
      "outputs": []
    },
    {
      "cell_type": "code",
      "metadata": {
        "id": "ILBdq5FDwYE_",
        "colab_type": "code",
        "colab": {}
      },
      "source": [
        "#order the frequency cluster\n",
        "df_user = order_cluster('FrequencyCluster', 'Frequency',df_user,True)"
      ],
      "execution_count": 0,
      "outputs": []
    },
    {
      "cell_type": "code",
      "metadata": {
        "id": "3VOM_z11wYDL",
        "colab_type": "code",
        "outputId": "d45ab593-3007-4fdd-cf7f-5edb54392b9b",
        "colab": {
          "base_uri": "https://localhost:8080/",
          "height": 202
        }
      },
      "source": [
        "#see details of each cluster\n",
        "df_user.groupby('FrequencyCluster')['Frequency'].describe()"
      ],
      "execution_count": 0,
      "outputs": [
        {
          "output_type": "execute_result",
          "data": {
            "text/html": [
              "<div>\n",
              "<style scoped>\n",
              "    .dataframe tbody tr th:only-of-type {\n",
              "        vertical-align: middle;\n",
              "    }\n",
              "\n",
              "    .dataframe tbody tr th {\n",
              "        vertical-align: top;\n",
              "    }\n",
              "\n",
              "    .dataframe thead th {\n",
              "        text-align: right;\n",
              "    }\n",
              "</style>\n",
              "<table border=\"1\" class=\"dataframe\">\n",
              "  <thead>\n",
              "    <tr style=\"text-align: right;\">\n",
              "      <th></th>\n",
              "      <th>count</th>\n",
              "      <th>mean</th>\n",
              "      <th>std</th>\n",
              "      <th>min</th>\n",
              "      <th>25%</th>\n",
              "      <th>50%</th>\n",
              "      <th>75%</th>\n",
              "      <th>max</th>\n",
              "    </tr>\n",
              "    <tr>\n",
              "      <th>FrequencyCluster</th>\n",
              "      <th></th>\n",
              "      <th></th>\n",
              "      <th></th>\n",
              "      <th></th>\n",
              "      <th></th>\n",
              "      <th></th>\n",
              "      <th></th>\n",
              "      <th></th>\n",
              "    </tr>\n",
              "  </thead>\n",
              "  <tbody>\n",
              "    <tr>\n",
              "      <th>0</th>\n",
              "      <td>3429.0</td>\n",
              "      <td>48.594051</td>\n",
              "      <td>43.712814</td>\n",
              "      <td>1.0</td>\n",
              "      <td>15.0</td>\n",
              "      <td>33.0</td>\n",
              "      <td>72.0</td>\n",
              "      <td>185.0</td>\n",
              "    </tr>\n",
              "    <tr>\n",
              "      <th>1</th>\n",
              "      <td>419.0</td>\n",
              "      <td>322.720764</td>\n",
              "      <td>129.642777</td>\n",
              "      <td>186.0</td>\n",
              "      <td>221.5</td>\n",
              "      <td>282.0</td>\n",
              "      <td>384.0</td>\n",
              "      <td>756.0</td>\n",
              "    </tr>\n",
              "    <tr>\n",
              "      <th>2</th>\n",
              "      <td>23.0</td>\n",
              "      <td>1254.260870</td>\n",
              "      <td>476.314184</td>\n",
              "      <td>799.0</td>\n",
              "      <td>954.5</td>\n",
              "      <td>1106.0</td>\n",
              "      <td>1390.5</td>\n",
              "      <td>2660.0</td>\n",
              "    </tr>\n",
              "    <tr>\n",
              "      <th>3</th>\n",
              "      <td>3.0</td>\n",
              "      <td>5647.666667</td>\n",
              "      <td>1848.422661</td>\n",
              "      <td>4569.0</td>\n",
              "      <td>4580.5</td>\n",
              "      <td>4592.0</td>\n",
              "      <td>6187.0</td>\n",
              "      <td>7782.0</td>\n",
              "    </tr>\n",
              "  </tbody>\n",
              "</table>\n",
              "</div>"
            ],
            "text/plain": [
              "                   count         mean          std  ...     50%     75%     max\n",
              "FrequencyCluster                                    ...                        \n",
              "0                 3429.0    48.594051    43.712814  ...    33.0    72.0   185.0\n",
              "1                  419.0   322.720764   129.642777  ...   282.0   384.0   756.0\n",
              "2                   23.0  1254.260870   476.314184  ...  1106.0  1390.5  2660.0\n",
              "3                    3.0  5647.666667  1848.422661  ...  4592.0  6187.0  7782.0\n",
              "\n",
              "[4 rows x 8 columns]"
            ]
          },
          "metadata": {
            "tags": []
          },
          "execution_count": 35
        }
      ]
    },
    {
      "cell_type": "markdown",
      "metadata": {
        "id": "UDgKj8RDxpBF",
        "colab_type": "text"
      },
      "source": [
        "#Engagement"
      ]
    },
    {
      "cell_type": "code",
      "metadata": {
        "id": "h9K_RC1VwYAG",
        "colab_type": "code",
        "colab": {}
      },
      "source": [
        "#calculate total engagement for each customer\n",
        "df_us['Engagement'] = df_us['duration']\n",
        "df_engagement = df_us.groupby('viewer_id').Engagement.sum().reset_index()"
      ],
      "execution_count": 0,
      "outputs": []
    },
    {
      "cell_type": "code",
      "metadata": {
        "id": "ibr2uK7wxt7p",
        "colab_type": "code",
        "colab": {}
      },
      "source": [
        "#merge it with our main dataframe\n",
        "df_user = pd.merge(df_user, df_engagement, on='viewer_id')"
      ],
      "execution_count": 0,
      "outputs": []
    },
    {
      "cell_type": "code",
      "metadata": {
        "id": "sRgfMEBlxt5O",
        "colab_type": "code",
        "outputId": "053700df-45bc-4afd-a373-e47dc555b772",
        "colab": {
          "base_uri": "https://localhost:8080/",
          "height": 542
        }
      },
      "source": [
        "#plotting a recency histogram\n",
        "import plotly.express as px\n",
        "fig = px.histogram(df_user, x=df_user.query('Engagement < 10000')['Engagement'])\n",
        "fig.show()"
      ],
      "execution_count": 0,
      "outputs": [
        {
          "output_type": "display_data",
          "data": {
            "text/html": [
              "<html>\n",
              "<head><meta charset=\"utf-8\" /></head>\n",
              "<body>\n",
              "    <div>\n",
              "            <script src=\"https://cdnjs.cloudflare.com/ajax/libs/mathjax/2.7.5/MathJax.js?config=TeX-AMS-MML_SVG\"></script><script type=\"text/javascript\">if (window.MathJax) {MathJax.Hub.Config({SVG: {font: \"STIX-Web\"}});}</script>\n",
              "                <script type=\"text/javascript\">window.PlotlyConfig = {MathJaxConfig: 'local'};</script>\n",
              "        <script src=\"https://cdn.plot.ly/plotly-latest.min.js\"></script>    \n",
              "            <div id=\"72cd4ca6-a894-4973-ae38-c59bc28f319b\" class=\"plotly-graph-div\" style=\"height:525px; width:100%;\"></div>\n",
              "            <script type=\"text/javascript\">\n",
              "                \n",
              "                    window.PLOTLYENV=window.PLOTLYENV || {};\n",
              "                    \n",
              "                if (document.getElementById(\"72cd4ca6-a894-4973-ae38-c59bc28f319b\")) {\n",
              "                    Plotly.newPlot(\n",
              "                        '72cd4ca6-a894-4973-ae38-c59bc28f319b',\n",
              "                        [{\"alignmentgroup\": \"True\", \"bingroup\": \"x\", \"hoverlabel\": {\"namelength\": 0}, \"hovertemplate\": \"x=%{x}<br>count=%{y}\", \"legendgroup\": \"\", \"marker\": {\"color\": \"#636efa\"}, \"name\": \"\", \"offsetgroup\": \"\", \"orientation\": \"v\", \"showlegend\": false, \"type\": \"histogram\", \"x\": [2870.9100000000003, 4339.500000000002, 5377.110000000001, 393.72, 2683.5000000000005, 3095.4100000000017, 478.64999999999986, 2613.38, 292.34000000000003, 173.81, 2828.100000000001, 1034.13, 713.0400000000001, 1741.8400000000001, 511.98999999999955, 1624.9099999999996, 1003.38, 2723.7000000000003, 124.83000000000001, 115.05000000000001, 1784.3299999999997, 640.1000000000001, 6932.700000000002, 2432.649999999999, 6368.190000000001, 8750.220000000001, 6172.999999999999, 1215.8400000000001, 1021.69, 4017.8400000000006, 3895.71, 2900.040000000002, 1217.14, 3272.9, 1278.9799999999998, 1864.6599999999994, 950.1900000000002, 4482.769999999995, 782.79, 378.17999999999995, 209.94000000000003, 1892.65, 2739.0099999999998, 769.16, 3813.529999999999, 2062.1400000000003, 460.58, 1060.76, 2751.6600000000008, 323.52000000000004, 15.0, 3973.2899999999972, 1659.6, 924.15, 6933.3, 577.44, 529.9399999999999, 1018.4299999999998, 2415.9100000000003, 692.2200000000001, 1303.5199999999995, 7354.620000000002, 691.7299999999999, 3726.400000000001, 6675.709999999997, 2202.99, 697.9000000000002, 734.94, 1931.2499999999998, 214.65, 2633.85, 1659.3799999999999, 2424.939999999999, 4196.010000000001, 1474.3200000000002, 467.04, 1451.2800000000002, 1095.08, 2069.7700000000004, 1046.5599999999993, 1415.7499999999995, 1680.7199999999998, 1927.3199999999993, 1388.8799999999999, 939.32, 639.89, 977.2099999999992, 1126.37, 508.8099999999997, 2226.909999999998, 971.76, 627.13, 1196.3300000000002, 2474.3300000000004, 1604.7500000000005, 799.4800000000001, 2044.8699999999997, 1844.0200000000002, 732.1600000000001, 1789.7200000000005, 1297.8700000000001, 2483.6299999999997, 1125.0700000000002, 3501.0999999999976, 1195.94, 496.21, 5189.519999999995, 3558.8700000000003, 3729.3400000000042, 373.74999999999994, 1736.3999999999994, 864.86, 845.6399999999999, 1661.3300000000006, 2796.5099999999993, 3219.7700000000004, 353.65000000000003, 3902.28, 2248.99, 1695.660000000002, 504.7999999999998, 1540.4200000000005, 502.8, 2566.31, 789.0, 1099.98, 2603.43, 9817.120000000003, 2975.5900000000006, 2099.6399999999994, 990.2300000000002, 2781.2299999999977, 2119.4099999999994, 1528.0900000000006, 2004.9800000000002, 1387.6800000000005, 3964.8800000000006, 1333.6800000000003, 729.27, 382.05999999999995, 2473.37, 920.5100000000001, 250.14999999999998, 2638.9400000000023, 2588.769999999999, 1856.6299999999994, 9068.260000000002, 3965.6199999999953, 8109.5199999999995, 326.4, 1195.8999999999999, 2357.6800000000003, 265.76, 1871.81, 2306.519999999999, 36.55999999999999, 1572.7100000000003, 1690.2599999999995, 1474.7199999999993, 2218.6199999999994, 3627.769999999998, 981.6500000000001, 2285.710000000001, 841.08, 8625.800000000001, 3630.330000000001, 1153.619999999999, 3786.2399999999984, 2392.830000000001, 6924.109999999996, 3784.230000000002, 1483.56, 375.35, 859.7100000000011, 916.1300000000002, 804.4899999999994, 341.2799999999999, 2474.23, 4301.22, 1785.1499999999999, 971.5800000000002, 6463.840000000002, 2314.6499999999996, 2974.6499999999974, 5398.300000000002, 2024.4500000000007, 1382.0200000000013, 1875.1100000000006, 423.8899999999998, 1197.4199999999998, 7121.949999999994, 616.79, 2611.7500000000005, 1081.5700000000002, 522.3799999999997, 2088.599999999999, 5180.52, 1266.9699999999993, 1281.5599999999997, 1244.5900000000001, 2791.35, 700.7300000000001, 1535.5299999999997, 4051.4799999999987, 1814.1200000000008, 658.6400000000001, 653.3299999999999, 2085.080000000001, 1765.509999999999, 2735.3700000000003, 3641.3199999999974, 317.53, 885.4699999999999, 618.0900000000001, 1227.4300000000005, 2062.6999999999994, 3347.7100000000014, 1883.8099999999995, 3989.5700000000006, 2616.3799999999997, 5464.120000000001, 1400.4399999999998, 1485.5400000000006, 1260.03, 2183.54, 1788.36, 2352.530000000001, 1419.7300000000012, 1936.0700000000006, 2322.3999999999996, 841.4099999999997, 1429.2399999999998, 2552.2100000000005, 1079.61, 2237.7700000000013, 1651.0299999999995, 726.0500000000001, 471.50999999999965, 2567.0599999999995, 604.51, 1098.48, 1840.4200000000005, 1379.8999999999999, 2043.950000000001, 2429.779999999999, 2697.7999999999997, 870.1200000000001, 1456.96, 8631.310000000003, 1164.55, 1247.5, 3515.6800000000003, 1021.48, 1555.3199999999993, 2702.49, 859.27, 7792.36, 709.42, 6748.8, 1912.6700000000008, 553.44, 1592.12, 1611.5899999999995, 3711.7699999999995, 5425.560000000003, 1793.1700000000008, 3957.7800000000016, 1324.159999999999, 1591.4500000000003, 808.6199999999997, 483.25999999999993, 1106.5299999999997, 1199.01, 1515.8999999999992, 240.22000000000006, 1319.9099999999996, 1116.4699999999996, 1530.749999999999, 1531.6200000000003, 5360.63, 2386.0500000000006, 2073.4300000000003, 1197.2700000000002, 2462.79, 2209.360000000001, 867.3099999999996, 1750.9199999999994, 837.1, 574.8399999999999, 400.85999999999996, 1064.0700000000004, 954.0899999999996, 3466.3599999999997, 1987.3000000000009, 2993.099999999999, 911.9999999999992, 1119.4900000000005, 1835.9099999999994, 2736.4600000000005, 201.11999999999998, 942.3399999999999, 848.22, 920.0999999999998, 1244.8300000000004, 1132.0300000000002, 291.99999999999994, 289.99, 463.4600000000001, 2575.380000000001, 2647.5900000000015, 452.23999999999995, 981.5099999999999, 344.0, 1262.2, 1618.6899999999998, 1267.6499999999999, 1360.9899999999998, 2206.9500000000003, 2160.6999999999994, 5756.890000000001, 996.0999999999999, 418.8299999999999, 2067.1999999999994, 1319.19, 639.0199999999998, 2003.8500000000008, 773.9900000000002, 834.1200000000001, 1219.4, 1226.89, 1599.5200000000002, 1286.27, 1314.4499999999998, 2380.8500000000017, 1936.3199999999997, 771.1700000000003, 1280.85, 2314.32, 523.11, 554.65, 1740.6000000000001, 2493.27, 646.9200000000001, 472.15999999999985, 2126.9300000000017, 1706.57, 1714.5900000000001, 3738.4000000000005, 1187.6599999999999, 568.55, 280.53999999999996, 1827.7999999999984, 1488.6700000000012, 4199.85, 3122.0400000000013, 1016.1399999999999, 564.6199999999999, 1698.9399999999998, 2379.49, 2054.3599999999997, 409.50000000000006, 2429.0300000000007, 2520.0199999999995, 996.26, 843.0, 1456.7899999999993, 2824.69, 345.46, 1135.6299999999999, 1715.4599999999996, 1056.44, 1593.2000000000003, 1981.9199999999994, 897.6200000000003, 515.7699999999999, 2810.199999999999, 2711.5599999999995, 1823.5199999999993, 2924.990000000001, 575.63, 510.7099999999999, 1522.2500000000005, 468.4099999999999, 298.40999999999997, 3639.3100000000004, 1445.0100000000002, 414.76, 1852.0000000000002, 1428.0200000000002, 747.7800000000003, 1309.6000000000001, 1366.38, 6287.770000000002, 5900.250000000002, 1979.37, 1443.6900000000003, 2337.6300000000006, 638.0500000000001, 5126.76, 2328.9700000000003, 348.09999999999997, 1348.2200000000005, 332.6399999999999, 2364.2500000000023, 614.66, 1603.4600000000007, 1454.579999999999, 3158.1300000000006, 1003.0600000000001, 662.3799999999999, 270.59999999999997, 2222.56, 1874.5599999999993, 2001.04, 1851.0799999999992, 1701.2900000000009, 2635.7900000000004, 385.1, 911.2599999999999, 664.2600000000001, 1461.1399999999996, 1676.0599999999997, 2495.870000000001, 4582.639999999999, 3442.15, 398.7, 1197.1000000000004, 1197.8099999999995, 389.2699999999999, 2770.9400000000005, 745.5200000000001, 1072.3600000000001, 3090.7399999999984, 461.19000000000005, 1869.8200000000004, 1802.9099999999999, 792.11, 708.2200000000001, 2758.26, 768.0800000000002, 2031.7800000000002, 432.88000000000017, 949.1199999999999, 2263.12, 1614.31, 3350.9600000000014, 306.71999999999997, 979.7200000000001, 578.9399999999999, 684.59, 621.6800000000001, 607.5299999999999, 690.34, 787.6000000000001, 2548.24, 4871.9299999999985, 3109.990000000001, 1880.22, 3709.5600000000018, 668.14, 1879.0500000000002, 1421.6900000000003, 1418.0300000000002, 697.79, 2534.64, 231.86, 2971.4299999999994, 1163.2300000000005, 584.0600000000001, 233.23000000000002, 126.25, 1183.0199999999998, 600.07, 673.2599999999995, 1096.32, 1004.3799999999997, 387.67999999999995, 784.5799999999999, 684.4100000000003, 1614.9100000000005, 1383.1799999999992, 420.29999999999995, 2915.1499999999974, 975.3599999999998, 597.5000000000002, 3285.310000000001, 1305.3299999999997, 388.52000000000004, 1353.7400000000002, 499.41999999999996, 2707.329999999999, 2467.350000000001, 587.15, 478.08999999999986, 1026.4200000000003, 2657.1300000000006, 2812.3399999999997, 536.99, 1159.11, 287.62, 1422.5200000000002, 2232.19, 974.42, 609.85, 965.6099999999999, 1050.8899999999999, 4757.159999999999, 1836.3399999999997, 1504.2700000000002, 2621.379999999999, 4885.89, 8134.94, 950.2599999999999, 4413.100000000002, 283.15000000000003, 2481.129999999999, 719.81, 4892.240000000001, 1735.18, 629.31, 2064.95, 654.6700000000003, 2048.0700000000006, 247.95999999999998, 2606.53, 466.70000000000005, 538.73, 684.34, 977.9300000000002, 2148.6299999999997, 1797.78, 914.69, 692.1899999999998, 974.52, 1022.1300000000003, 778.9399999999999, 2560.0, 942.2599999999998, 384.52, 1098.43, 1123.86, 646.3000000000001, 2895.6399999999994, 178.96000000000004, 1772.259999999999, 2504.129999999999, 757.71, 5064.940000000003, 1341.5999999999997, 204.0, 1804.5599999999993, 1413.660000000001, 553.3599999999998, 511.34999999999985, 1341.4199999999994, 1712.8900000000008, 1567.6900000000014, 2478.949999999998, 3000.2000000000007, 5977.730000000001, 1991.009999999999, 745.0600000000001, 317.20000000000016, 2178.67, 2674.479999999998, 1213.16, 507.04999999999995, 584.0699999999998, 3406.7200000000003, 899.6099999999999, 939.7800000000003, 1194.7300000000002, 628.78, 1044.3800000000003, 3078.5800000000004, 1502.3500000000001, 604.1200000000001, 632.97, 650.4300000000004, 212.54000000000002, 746.8299999999999, 671.7699999999994, 1393.6899999999996, 357.20000000000005, 2975.88, 594.24, 169.55, 405.6199999999999, 1356.3300000000004, 2121.27, 981.8600000000001, 1661.44, 1205.12, 1231.5, 918.1999999999997, 774.8999999999999, 869.4599999999999, 3075.0400000000013, 1687.5999999999988, 692.85, 882.24, 1387.99, 291.4099999999999, 2618.230000000001, 2154.9700000000007, 1720.3, 1132.13, 563.2299999999998, 701.3999999999999, 1740.4799999999998, 2068.150000000001, 1389.4100000000003, 3651.969999999997, 2235.2999999999997, 1066.1499999999996, 1624.0499999999997, 1094.59, 1257.5099999999998, 408.57, 889.2499999999999, 2188.0499999999997, 1678.1200000000001, 1771.78, 2566.699999999998, 1041.68, 2883.1000000000004, 1429.6399999999999, 2791.2699999999995, 2953.590000000002, 596.0999999999999, 837.4999999999998, 1625.9699999999993, 529.41, 797.96, 528.33, 885.04, 623.93, 1412.320000000001, 216.30000000000004, 675.2700000000002, 1154.4700000000003, 890.3400000000005, 806.5699999999998, 1233.3599999999997, 1932.23, 787.4399999999999, 308.31999999999977, 680.18, 1078.2299999999998, 450.84000000000003, 5203.51, 1101.9699999999996, 336.4, 2102.0899999999997, 1070.71, 1015.2900000000002, 843.4799999999997, 2043.7200000000005, 698.4100000000003, 2073.090000000001, 2225.3700000000013, 3742.2, 980.3100000000002, 2874.7200000000007, 800.5900000000001, 1551.7800000000002, 990.8799999999998, 1214.7199999999996, 834.57, 582.6, 658.88, 895.1300000000002, 2612.960000000001, 2114.3299999999995, 252.49, 380.02, 4777.180000000001, 604.64, 761.5900000000001, 1134.28, 1331.5699999999997, 1041.6100000000001, 475.79999999999995, 595.42, 693.3200000000002, 668.5600000000002, 2234.729999999999, 1570.8099999999993, 853.7199999999998, 688.33, 1766.7199999999996, 635.41, 2199.309999999999, 1824.3700000000001, 698.5799999999999, 1625.0500000000004, 640.83, 1352.7500000000002, 1870.9699999999996, 1186.35, 478.7800000000001, 761.74, 1353.739999999999, 1422.4, 1612.6900000000003, 2639.1700000000037, 186.23000000000002, 206.33999999999997, 1385.51, 1837.2799999999997, 566.5800000000002, 471.7799999999999, 382.13999999999993, 1316.0700000000004, 626.9899999999999, 1041.4800000000002, 723.2099999999998, 617.9900000000001, 176.63, 1553.66, 537.7399999999999, 68.84, 304.46999999999986, 184.19, 650.4100000000001, 883.1500000000001, 406.76, 681.9100000000001, 3408.0599999999995, 1519.0800000000004, 3809.89, 1073.2999999999997, 1027.9999999999998, 1043.4099999999999, 598.1999999999998, 775.1800000000001, 519.44, 666.0999999999999, 784.4600000000004, 778.0, 2027.4999999999986, 1071.9899999999998, 2294.7800000000007, 585.7900000000002, 1791.5599999999984, 525.5399999999997, 740.7800000000001, 3204.16, 781.2799999999999, 1717.36, 780.4300000000003, 1358.8800000000003, 213.26999999999998, 544.18, 944.4100000000004, 408.90000000000003, 761.38, 379.65000000000003, 448.89999999999986, 3543.2600000000016, 4151.929999999999, 1621.7299999999998, 546.2, 251.69999999999996, 2092.3199999999997, 1699.3000000000002, 1509.5800000000004, 1910.0100000000004, 732.0699999999997, 319.0, 144.91, 260.16999999999996, 254.10999999999996, 825.4199999999997, 1122.3799999999997, 507.29, 669.1100000000001, 974.0399999999995, 509.57999999999976, 1538.88, 1049.6999999999998, 6814.640000000001, 221.26999999999992, 360.00999999999993, 1335.1899999999998, 918.1999999999997, 834.9899999999998, 238.85000000000002, 411.40999999999997, 2273.1800000000007, 352.69, 2686.42, 2593.069999999999, 1692.27, 460.63999999999993, 1631.54, 1080.6199999999992, 1247.6899999999998, 1445.0000000000002, 1593.3800000000008, 725.1099999999999, 992.7099999999999, 95.85, 651.8200000000002, 500.42000000000013, 1295.3900000000006, 827.83, 2383.2400000000002, 1415.2899999999997, 380.34999999999997, 363.8799999999999, 524.88, 371.7, 1133.25, 250.26, 1031.41, 598.57, 1391.6100000000001, 841.2, 498.79999999999995, 329.6799999999999, 1048.4900000000002, 2313.140000000001, 1952.4499999999998, 866.3099999999998, 310.63999999999993, 2479.159999999999, 1501.3799999999997, 839.1400000000002, 791.3300000000002, 658.5699999999999, 855.9699999999999, 223.65, 1843.75, 280.52, 330.45, 3166.4, 220.09999999999997, 979.2600000000004, 798.7399999999999, 1421.6100000000004, 707.0399999999997, 776.8510000000002, 572.5599999999997, 1966.4700000000003, 987.0999999999998, 258.4, 348.7299999999999, 343.45, 1314.8099999999997, 372.21999999999997, 464.56999999999994, 3766.5999999999985, 325.9599999999999, 1018.7100000000003, 1575.8900000000003, 1842.1400000000003, 2420.8400000000024, 192.6, 1242.3000000000004, 663.8100000000003, 178.04999999999998, 870.09, 1521.8700000000001, 1166.7700000000002, 1511.9499999999996, 1382.7400000000002, 1299.230000000001, 1093.68, 1207.5600000000002, 1324.8399999999997, 247.14999999999998, 251.87, 1437.8500000000006, 260.68, 547.06, 531.35, 266.39, 377.4399999999999, 917.07, 503.76, 251.91, 1063.9499999999998, 1863.4699999999993, 285.89, 1770.5600000000013, 1446.09, 179.33999999999997, 1937.2500000000002, 439.4300000000001, 746.3600000000001, 1384.86, 2624.260000000001, 1721.4, 915.1300000000002, 3347.309999999999, 725.7, 597.9100000000001, 1079.6600000000003, 239.76000000000002, 450.95, 712.8, 383.03000000000003, 1418.3199999999993, 1747.66, 734.94, 1286.7000000000005, 324.24, 2122.4799999999996, 2128.23, 1255.5900000000006, 380.59999999999997, 264.44000000000005, 1412.9399999999996, 957.6600000000001, 573.22, 1127.7100000000003, 734.7699999999996, 276.41999999999996, 276.55999999999995, 2600.34, 1904.0500000000002, 2614.7400000000007, 807.5699999999997, 453.4000000000001, 2308.0599999999986, 642.8000000000001, 912.1800000000002, 398.84, 372.79999999999995, 1245.9000000000003, 417.23, 2876.010000000001, 1107.4600000000003, 595.2500000000001, 703.3599999999998, 679.45, 607.45, 2373.8200000000006, 909.2300000000001, 215.47999999999996, 984.5699999999998, 846.7499999999998, 787.8499999999999, 501.12, 874.7099999999997, 798.3499999999997, 814.7199999999996, 1131.5600000000002, 541.4599999999999, 712.5000000000001, 243.45999999999998, 979.1199999999999, 815.7699999999999, 763.2800000000003, 2157.400000000001, 780.59, 650.43, 1063.9000000000003, 1374.8700000000003, 1345.5299999999997, 2919.809999999999, 2740.4300000000017, 293.1, 1387.7900000000004, 330.8799999999998, 1086.9200000000003, 3718.800000000001, 303.75, 1822.9700000000003, 781.7800000000001, 2463.170000000001, 3448.2899999999986, 397.3499999999998, 1006.8000000000001, 694.0499999999998, 517.36, 659.4599999999999, 563.94, 484.82000000000005, 775.9400000000002, 758.2899999999998, 770.0300000000001, 423.35999999999996, 656.6899999999999, 1838.8500000000001, 1372.8, 541.5300000000001, 230.21999999999997, 719.77, 1212.6600000000005, 659.4099999999999, 364.7199999999999, 621.75, 439.92, 486.69, 605.0599999999998, 380.55000000000007, 1095.5600000000006, 306.46, 836.0600000000001, 363.9, 700.8599999999999, 778.5, 1160.07, 2089.8500000000004, 586.3299999999998, 728.16, 851.0100000000001, 994.8599999999998, 556.9499999999997, 1191.1299999999999, 6.9, 486.72, 570.4599999999998, 982.3800000000003, 641.94, 1711.9199999999992, 887.1100000000005, 195.15, 570.96, 788.0799999999998, 1771.2, 759.1699999999995, 1260.8600000000001, 714.9599999999998, 144.0, 3119.4400000000014, 3563.8499999999995, 657.3, 511.12000000000006, 2780.1499999999996, 606.91, 606.1300000000002, 168.23999999999998, 2879.7000000000003, 775.4600000000004, 1059.3900000000003, 1311.3800000000006, 1441.4199999999996, 1051.3999999999999, 426.8500000000001, 409.09999999999974, 3609.330000000001, 277.05000000000007, 719.7799999999997, 342.45, 148.86, 1286.0700000000002, 1945.3300000000004, 823.9699999999996, 274.15000000000003, 183.44, 705.3899999999996, 616.26, 490.52, 211.87999999999994, 180.1700000000001, 249.71999999999989, 905.0399999999995, 248.60999999999999, 110.21000000000001, 959.0100000000001, 388.58, 255.9, 731.5, 62.43, 278.3, 464.9, 498.73999999999995, 160.56999999999994, 422.58000000000004, 290.1600000000001, 547.6600000000001, 415.81999999999994, 130.74, 492.8400000000001, 393.54, 656.6300000000001, 470.7600000000001, 189.39999999999995, 121.17999999999999, 401.40000000000003, 661.32, 196.78999999999996, 664.85, 326.24, 537.48, 765.6200000000001, 522.91, 1360.2800000000002, 221.97000000000003, 267.13, 210.34999999999985, 430.1499999999999, 575.4100000000001, 97.99999999999997, 955.24, 306.45000000000005, 399.19, 992.5000000000002, 335.8599999999999, 239.41, 379.45000000000005, 389.64, 193.44, 1116.5699999999993, 645.9599999999999, 236.09000000000006, 874.5899999999999, 225.77000000000012, 328.4, 183.70000000000002, 730.4000000000001, 290.65999999999997, 580.26, 169.48000000000002, 219.39, 230.64999999999995, 490.22, 338.80000000000007, 244.79999999999995, 1662.3, 542.73, 114.11, 149.30999999999995, 1352.0000000000002, 302.09999999999997, 507.66000000000014, 316.88, 90.30000000000001, 166.2, 632.0000000000001, 396.33000000000015, 215.07999999999998, 678.0099999999996, 427.92999999999995, 243.94, 301.32, 94.2, 656.2500000000002, 1054.7299999999996, 151.3, 108.98000000000002, 558.9599999999999, 325.91, 497.56, 165.75000000000003, 3192.54, 43.5, 347.75, 357.20999999999987, 494.44, 429.84, 576.0, 1839.3, 615.1399999999999, 1545.6199999999997, 940.6700000000001, 113.48000000000002, 399.65000000000003, 114.39, 176.68, 640.76, 754.6400000000002, 217.3799999999999, 388.7900000000001, 364.22, 365.76000000000005, 151.04999999999998, 147.34999999999997, 436.05999999999995, 887.65, 524.14, 326.75, 281.62000000000006, 208.45999999999995, 528.0799999999999, 626.4499999999999, 1083.71, 335.13, 378.2000000000001, 1129.14, 308.94000000000005, 328.15, 111.98000000000003, 324.57, 190.88, 194.88, 71.66, 2949.7500000000014, 589.7, 125.58000000000003, 1463.0399999999995, 784.11, 333.4800000000001, 210.30999999999983, 230.51000000000002, 961.4899999999999, 367.92999999999984, 193.42000000000007, 134.46, 152.2, 676.9900000000001, 396.47999999999996, 637.89, 148.44000000000003, 35.4, 377.01, 712.78, 354.08999999999986, 45.599999999999994, 527.05, 396.9199999999999, 151.04, 852.15, 151.81, 223.88, 180.48000000000002, 603.7499999999998, 935.0499999999996, 114.23, 777.6, 428.88999999999993, 589.4399999999999, 537.0, 2328.8399999999997, 481.75, 71.0, 329.24999999999994, 789.79, 1764.7199999999998, 188.14, 102.45000000000002, 270.9, 112.40000000000003, 147.59, 101.7, 125.80000000000001, 168.12, 76.8, 163.62, 1873.2, 20.8, 175.92, 429.84, 1138.0, 1013.0100000000001, 439.66, 757.4599999999996, 106.1, 126.14, 288.14, 266.76000000000005, 373.24, 689.0999999999998, 110.38000000000001, 197.64000000000001, 139.10000000000002, 1239.38, 473.65, 184.26000000000002, 191.04000000000002, 413.75000000000006, 497.4299999999998, 166.42000000000002, 491.86, 345.82, 107.95, 116.01000000000002, 922.5300000000001, 228.91, 679.4399999999998, 164.34, 626.07, 155.23999999999998, 1025.4399999999998, 139.56, 332.66, 262.68, 114.14, 106.56, 98.42000000000002, 703.3699999999997, 320.71999999999997, 161.64, 901.2100000000007, 394.38, 323.03999999999996, 948.48, 289.82, 484.3799999999998, 669.22, 1531.4, 598.7300000000001, 382.79999999999995, 279.77, 388.1399999999999, 380.4699999999999, 291.88, 408.8, 202.11, 351.1099999999999, 184.4, 223.85000000000002, 405.71000000000004, 256.32, 350.63999999999993, 171.19, 444.68, 30.0, 314.69, 91.80000000000001, 871.5399999999998, 696.4099999999999, 634.9499999999999, 161.20000000000002, 209.49000000000004, 149.29000000000005, 110.46000000000001, 1293.0300000000002, 422.8800000000001, 153.92000000000004, 191.66999999999993, 197.6300000000001, 446.94000000000005, 228.99, 166.07999999999996, 255.4, 107.6, 225.35999999999993, 236.3, 167.61999999999998, 158.03000000000003, 652.7400000000001, 371.2, 118.98, 170.32, 285.55999999999995, 52.2, 307.0899999999999, 327.3, 43.2, 186.01000000000002, 612.0099999999998, 163.07, 297.0, 97.5, 178.26, 216.9, 8438.339999999997, 716.5700000000003, 195.35999999999999, 340.11, 971.7399999999999, 309.6499999999999, 75.0, 308.74, 161.67, 493.28, 322.08, 199.48, 131.78000000000006, 320.46, 164.23000000000002, 95.34, 243.55, 987.0100000000007, 547.0699999999999, 138.6, 604.7499999999999, 90.48, 525.2399999999998, 370.47999999999996, 122.64, 220.61999999999998, 316.49999999999994, 77.4, 272.44000000000005, 271.2, 415.25000000000006, 282.18999999999994, 49.8, 93.78, 1060.25, 738.9599999999999, 35.4, 318.1699999999999, 261.11000000000007, 360.9299999999999, 191.3199999999999, 421.5200000000001, 137.0, 350.9, 100.9, 697.04, 251.23999999999992, 336.16999999999985, 190.18999999999997, 442.8499999999999, 1237.8500000000001, 507.0799999999998, 114.34, 361.62, 213.3, 404.66, 1201.4900000000002, 546.0399999999998, 127.85999999999999, 114.6, 279.04999999999995, 247.31999999999996, 336.4, 301.28999999999996, 213.95999999999998, 246.3, 182.76999999999998, 706.1299999999999, 300.83, 218.46999999999994, 220.84999999999997, 133.5, 170.16, 329.84999999999997, 160.17999999999998, 303.0899999999999, 366.23, 353.27, 164.68, 80.8, 77.5, 174.37000000000003, 538.46, 204.0, 104.0, 486.21999999999997, 635.6800000000001, 389.8399999999999, 593.75, 126.12, 248.07999999999996, 120.03, 90.04000000000002, 348.79999999999995, 89.94, 199.29000000000002, 41.989999999999995, 312.62, 336.4299999999999, 244.41000000000003, 124.2, 168.63, 3861.0, 194.42, 161.02999999999994, 469.47999999999985, 196.88999999999996, 343.49999999999994, 360.0, 227.39, 744.25, 1575.0300000000002, 467.98, 1333.35, 1788.1899999999996, 84.39999999999998, 231.98000000000002, 155.95000000000002, 913.1300000000001, 598.49, 1370.9699999999996, 1644.0100000000007, 196.8, 552.1299999999999, 1390.2700000000002, 1645.1600000000005, 1184.84, 1116.9199999999998, 422.19999999999993, 639.2999999999997, 605.3399999999999, 2672.0, 631.8900000000001, 301.56000000000006, 1905.8400000000001, 2494.4600000000005, 3704.869999999999, 725.1800000000001, 487.99, 1841.1800000000005, 292.7199999999999, 705.4899999999997, 3159.9999999999995, 642.7699999999999, 551.0400000000001, 1420.2000000000005, 694.4000000000002, 384.04999999999984, 2059.45, 1200.6199999999997, 428.1799999999999, 1459.8600000000008, 1641.7599999999998, 1121.3899999999999, 1178.56, 2225.9700000000007, 684.42, 2424.039999999999, 536.68, 555.8899999999999, 1253.3600000000001, 1268.2, 3679.9700000000003, 1255.0, 423.71999999999997, 1060.6799999999994, 1256.5000000000002, 663.6500000000001, 243.36, 1044.3200000000004, 482.2, 894.4099999999999, 1406.5900000000004, 534.8499999999999, 8099.489999999998, 2403.4200000000005, 309.04, 598.1999999999999, 254.1, 543.0500000000001, 3099.1200000000017, 2984.4900000000025, 1317.6200000000003, 1431.9300000000003, 1171.8000000000002, 477.83, 1030.14, 747.4399999999999, 1887.2000000000005, 1069.12, 987.8599999999999, 384.3999999999999, 2273.679999999999, 3295.7599999999993, 1496.9800000000005, 762.39, 749.78, 2938.9100000000008, 1553.18, 602.51, 417.06000000000006, 901.2, 1638.4700000000003, 889.9300000000001, 411.6, 1824.23, 6912.0, 924.8500000000001, 575.4, 1797.0600000000006, 913.6800000000001, 2095.53, 1544.1299999999997, 843.0499999999997, 1224.0600000000004, 814.86, 922.1199999999999, 1647.2599999999998, 605.1200000000001, 2037.0800000000008, 1688.2899999999995, 255.9, 2300.559999999999, 884.1400000000002, 1231.3099999999997, 1547.2, 2965.690000000001, 2332.149999999999, 422.64, 355.11, 778.0999999999999, 6115.009999999999, 594.7499999999999, 1055.35, 925.3499999999998, 1351.6300000000003, 675.8000000000001, 3222.3000000000006, 537.0599999999998, 933.7000000000003, 330.0299999999999, 859.3500000000001, 2881.0200000000013, 790.8599999999997, 5976.79, 2920.1600000000003, 801.7599999999999, 1268.9799999999998, 404.58, 245.81, 1050.1200000000001, 784.3299999999998, 743.11, 1461.6499999999999, 2207.3999999999996, 2867.2, 1201.0600000000004, 3099.72, 2116.19, 574.0699999999998, 1324.5000000000007, 656.6800000000001, 572.4509999999999, 1801.14, 1462.7200000000005, 890.2899999999997, 278.74, 1068.8199999999997, 705.1199999999998, 1384.8500000000001, 1592.06, 1693.26, 796.0300000000002, 1140.9299999999996, 3740.070000000001, 1496.8300000000004, 2388.749999999999, 348.5999999999999, 2538.299999999999, 240.0, 962.1899999999999, 2612.8599999999988, 972.2299999999999, 1627.1300000000006, 2849.88, 203.2, 1835.7000000000003, 854.9500000000002, 434.34, 709.7099999999996, 523.0, 950.3599999999996, 173.73999999999998, 389.6, 3178.17, 631.3400000000001, 379.35, 1223.8999999999999, 1980.5600000000004, 1118.99, 1268.7, 2580.909999999999, 1225.4100000000003, 925.8499999999999, 1405.7799999999993, 4106.4400000000005, 2106.52, 934.62, 1264.1899999999998, 324.14000000000004, 1786.7900000000004, 2055.5099999999993, 1006.9799999999998, 1741.2199999999991, 830.7599999999999, 1633.779999999999, 2048.4499999999994, 1021.5800000000002, 1341.6499999999999, 1391.9799999999998, 601.5600000000001, 1759.5, 695.42, 2241.1000000000004, 1624.2099999999998, 3386.7100000000005, 6617.650000000001, 449.52000000000004, 688.8600000000002, 618.0899999999998, 1156.36, 3017.2999999999993, 3447.4, 488.2, 371.62000000000006, 2748.3100000000004, 381.2, 4055.7200000000003, 678.4900000000001, 908.4599999999999, 1493.7299999999998, 1340.7000000000003, 663.6099999999998, 689.1300000000003, 1119.7399999999998, 1555.3400000000006, 501.55999999999995, 455.59000000000003, 706.1900000000002, 457.71999999999997, 2651.46, 1259.56, 84.65000000000002, 195.54999999999995, 483.4, 1220.2600000000002, 570.1299999999998, 4405.879999999999, 484.32000000000016, 675.6899999999998, 136.0, 1756.4400000000007, 1382.07, 1744.7600000000004, 234.34, 724.7599999999999, 3029.870000000001, 1237.5300000000002, 1778.9599999999994, 323.69, 716.2, 307.47999999999996, 709.3800000000002, 2543.720000000002, 813.4800000000002, 469.0, 1777.7800000000007, 3279.9700000000003, 1905.45, 2157.7299999999996, 2369.5499999999984, 3312.2500000000005, 473.02, 982.0699999999997, 1877.5899999999992, 2106.84, 2759.8300000000004, 217.16, 245.93999999999997, 288.42, 544.3, 2107.6600000000008, 612.0800000000002, 6773.970000000001, 482.0099999999998, 853.3900000000002, 689.48, 1313.5500000000006, 668.3599999999996, 518.28, 1090.24, 561.57, 3070.42, 1117.1300000000003, 826.5200000000003, 425.0, 2354.2500000000005, 1702.26, 991.13, 584.4999999999999, 758.9199999999994, 1465.3200000000002, 473.0299999999997, 3450.8400000000015, 711.41, 921.88, 3144.8599999999997, 2100.6000000000004, 897.7600000000001, 425.19, 226.35000000000005, 286.78999999999996, 588.1300000000001, 388.2499999999999, 637.5, 653.3799999999999, 3683.8599999999988, 799.8999999999999, 2446.6, 993.1799999999995, 597.4799999999999, 936.0799999999999, 913.1900000000004, 437.96000000000004, 2398.8599999999997, 817.86, 657.8, 1770.3400000000004, 294.4, 1212.8400000000001, 2836.6899999999982, 712.88, 1797.5, 1295.3000000000004, 3346.2800000000016, 579.7700000000002, 1885.0499999999995, 631.57, 283.4699999999997, 891.1200000000002, 339.44, 1236.5400000000002, 548.9399999999999, 2634.450000000001, 1186.2800000000002, 2262.62, 458.57, 699.0800000000002, 1474.0600000000004, 1799.3299999999988, 763.64, 682.4099999999999, 559.9700000000001, 671.96, 932.9700000000004, 1140.21, 3189.8099999999995, 706.5700000000002, 1793.58, 922.3900000000002, 1037.5899999999997, 3506.540000000001, 1179.8899999999999, 1800.0700000000006, 1266.0799999999997, 2445.9100000000008, 628.4099999999995, 605.0600000000001, 716.0, 819.29, 1142.42, 3100.0900000000015, 1534.26, 1019.7600000000003, 621.2900000000002, 700.63, 1240.2000000000003, 5232.229999999999, 1807.1299999999994, 810.4999999999998, 731.8999999999999, 621.83, 1314.45, 237.89999999999998, 1378.4, 1471.0000000000007, 939.37, 605.63, 714.4200000000001, 1796.48, 668.43, 149.05, 1214.41, 1548.7000000000003, 2232.49, 270.40000000000003, 1010.5999999999999, 376.64, 2607.6099999999997, 498.95, 813.11, 3717.349999999999, 1158.7900000000002, 818.8200000000002, 654.5999999999998, 1654.31, 383.67999999999995, 380.64000000000004, 1560.379999999999, 444.74, 152.06, 1120.8800000000003, 861.8899999999998, 529.6199999999999, 911.9400000000002, 1100.9, 307.76, 1370.5999999999997, 225.57999999999996, 4149.2800000000025, 190.25000000000009, 1649.5000000000011, 1531.8900000000006, 638.0600000000002, 1339.45, 1520.5800000000002, 122.13999999999996, 831.5, 558.7, 810.5699999999999, 592.97, 3877.520000000002, 662.5900000000001, 272.06999999999994, 272.04, 1043.46, 414.2, 356.85, 465.6799999999999, 234.60000000000002, 804.02, 353.8599999999999, 93.66, 1080.7600000000004, 680.02, 835.7800000000004, 1240.11, 414.04, 1135.0399999999997, 1070.65, 2128.42, 322.41, 559.4100000000001, 465.55, 661.5200000000001, 712.2900000000002, 355.56, 526.6699999999996, 415.79999999999995, 1537.95, 446.18, 1846.3400000000017, 459.2399999999999, 260.25, 801.5100000000001, 173.76, 786.5400000000001, 137.02, 244.10000000000002, 3610.96, 1122.4099999999999, 1610.1499999999994, 137.7, 2155.95, 218.55, 608.7899999999998, 1173.1199999999997, 1174.3499999999997, 467.65999999999997, 412.0499999999998, 318.76000000000005, 1000.1599999999997, 636.14, 612.0600000000001, 777.5300000000001, 1033.0000000000002, 337.3399999999999, 1858.9599999999998, 462.65999999999997, 645.6500000000001, 678.2499999999999, 290.82000000000005, 1530.3600000000006, 689.9, 1117.9, 924.5999999999999, 1674.69, 653.2399999999999, 375.09999999999997, 498.42, 327.7, 193.64, 1175.2199999999998, 175.2, 789.8899999999996, 356.0, 674.7, 302.25, 123.8, 318.65000000000003, 252.1, 538.55, 15.0, 138.32, 156.75, 193.75, 640.14, 213.85, 411.7000000000001, 508.46000000000004, 234.17, 1706.88, 1060.56, 570.5, 877.44, 165.0, 85.13000000000002, 650.51, 312.13999999999993, 138.97999999999996, 371.56, 313.61999999999995, 71.4, 288.17999999999995, 128.5, 139.26, 135.95, 548.97, 52.0, 167.61, 241.09, 589.1500000000001, 213.55, 549.0699999999998, 439.22999999999996, 335.52, 156.50999999999996, 120.0, 17.0, 628.38, 284.55, 725.64, 138.14000000000001, 163.8, 231.1, 748.8700000000002, 162.2899999999999, 178.7, 230.52999999999994, 285.73999999999995, 566.3799999999999, 590.93, 305.28, 207.36, 387.52, 89.05999999999999, 115.30999999999999, 319.61000000000007, 363.78999999999996, 534.24, 316.61999999999995, 374.69999999999993, 135.17999999999995, 598.9999999999999, 417.72999999999985, 205.29999999999998, 497.61000000000007, 82.75, 303.93, 151.73999999999998, 64.0, 353.47999999999996, 416.8999999999999, 91.32, 442.99999999999994, 121.74000000000001, 296.64000000000004, 482.47, 337.74, 252.72999999999996, 1070.48, 378.64, 103.3, 305.62, 291.63, 771.9099999999996, 299.34000000000003, 778.6499999999997, 1269.0999999999995, 547.02, 309.05000000000007, 620.3999999999999, 1304.04, 303.16, 266.96999999999997, 913.5400000000001, 96.6, 1267.3199999999995, 948.8799999999999, 364.5, 563.1499999999999, 117.35, 4314.719999999999, 1010.1799999999997, 621.6600000000001, 228.96, 567.3599999999999, 117.23999999999998, 721.9399999999998, 679.68, 494.24999999999994, 659.4399999999998, 2093.3199999999997, 1992.1100000000006, 1025.4400000000005, 655.7499999999999, 334.53000000000014, 2033.1, 508.8000000000001, 211.32, 788.3800000000001, 842.5, 410.48, 419.58, 371.01000000000005, 412.00999999999993, 13.3, 1708.2400000000002, 973.8399999999999, 422.59999999999997, 115.46000000000002, 675.3, 344.99999999999994, 52.83000000000001, 358.0, 701.2300000000001, 75.75000000000001, 228.06, 2020.52, 242.35, 1631.7700000000002, 168.31, 768.2400000000001, 779.9, 507.8399999999999, 322.8, 194.36999999999995, 311.69, 447.67999999999995, 1862.0, 317.75999999999993, 159.0, 48.480000000000004, 1163.4499999999998, 432.1999999999999, 394.72, 118.8, 137.75, 301.71999999999997, 122.74999999999999, 34.8, 259.16999999999996, 511.82, 773.0300000000002, 344.33, 505.18000000000006, 795.12, 114.18000000000002, 903.9000000000001, 583.7499999999999, 454.10999999999984, 1098.7800000000002, 363.65, 302.2, 769.2899999999996, 272.21999999999997, 329.34000000000003, 181.08999999999997, 420.5, 400.681, 349.70000000000005, 318.0, 193.39000000000001, 296.41999999999996, 544.0799999999999, 348.99, 277.79999999999995, 1033.3400000000001, 104.35, 316.67999999999995, 74.9, 145.67, 152.2, 512.31, 173.89999999999998, 869.8700000000001, 305.54, 395.7999999999999, 144.2, 158.03999999999996, 2062.06, 248.60999999999999, 513.2, 379.14000000000004, 518.4200000000001, 957.9699999999999, 100.8, 224.14000000000007, 243.56000000000003, 743.5300000000003, 1323.1800000000003, 216.84999999999997, 451.43999999999977, 134.96, 667.6499999999999, 300.02000000000004, 1290.7, 173.16, 199.8, 74.4, 341.36, 310.62000000000006, 443.0500000000001, 618.59, 213.5, 270.8, 1064.2800000000002, 415.2, 1071.0300000000002, 480.71, 426.63000000000005, 338.7100000000001, 324.79999999999995, 432.0, 890.8499999999999, 452.89, 373.94, 449.12, 111.67999999999998, 135.31000000000003, 406.53, 108.38, 140.34000000000003, 235.90000000000003, 65.4, 354.15, 332.29999999999995, 90.6, 369.34, 133.06, 92.46000000000001, 97.97000000000004, 312.98, 391.97999999999996, 282.45, 508.58, 428.88999999999993, 219.13999999999996, 295.93, 2626.3000000000006, 393.74000000000007, 287.4, 174.37, 145.35000000000002, 176.97, 315.05999999999995, 496.4399999999999, 233.75999999999996, 146.87, 363.34000000000003, 6.2, 439.5599999999999, 122.69999999999999, 256.38, 712.4, 221.05999999999995, 910.0, 1714.9599999999996, 302.36, 292.3199999999999, 152.94000000000003, 360.1600000000003, 557.6200000000001, 167.66999999999996, 324.24, 117.88000000000001, 193.1399999999999, 1780.5900000000001, 169.79000000000005, 499.32, 104.82000000000002, 215.83, 202.65000000000003, 206.83000000000007, 384.05999999999995, 388.2799999999999, 200.14000000000001, 397.9800000000001, 437.22999999999985, 181.09, 81.44, 397.1199999999999, 1309.1399999999999, 225.85, 73.19999999999999, 172.25, 704.25, 96.11999999999999, 223.92, 674.6800000000002, 110.38, 355.56000000000006, 187.82999999999998, 279.94, 1090.1399999999999, 171.59, 300.84999999999997, 243.83999999999997, 390.0699999999999, 216.16999999999996, 161.0, 262.20000000000005, 81.57, 20.8, 1281.5299999999997, 950.9299999999998, 427.07000000000005, 362.06000000000006, 119.62, 165.05, 1077.74, 342.63, 546.8100000000001, 351.13, 151.83, 384.08, 223.36, 173.97000000000003, 417.6, 893.59, 204.24, 131.94, 161.94, 109.36, 197.13, 954.8999999999999, 240.67999999999998, 223.35999999999999, 281.42, 352.70000000000005, 917.34, 396.96999999999997, 208.75000000000003, 125.79, 521.2, 216.39000000000001, 202.6800000000001, 307.78, 124.88000000000001, 337.04, 112.46, 110.80000000000001, 38.45, 467.5099999999999, 341.70000000000005, 298.4, 415.81999999999994, 502.08999999999975, 157.7, 1035.45, 443.6, 1393.06, 386.42999999999995, 430.5, 749.0999999999998, 331.95, 56.16, 214.32000000000002, 321.91999999999996, 311.15999999999997, 157.05, 259.34999999999997, 137.37, 463.8, 240.55, 155.3700000000001, 154.88, 413.59, 657.23, 525.5999999999999, 163.29999999999998, 386.0499999999999, 284.44, 7033.069999999999, 234.46999999999997, 806.6899999999999, 487.75, 203.5, 292.5, 230.25000000000003, 781.0200000000003, 155.42999999999998, 538.37, 458.52000000000004, 343.2799999999999, 623.7500000000002, 299.59999999999997, 263.54999999999995, 934.5200000000001, 375.69, 56.25, 290.4, 348.04999999999995, 76.32, 252.79999999999998, 123.24, 426.78999999999985, 664.54, 816.0, 576.9, 777.0199999999999, 181.11999999999998, 230.4, 87.5, 112.6, 289.34999999999997, 48.8, 2200.42, 307.82, 145.93000000000004, 4959.0999999999985, 403.25, 692.9399999999999, 129.75, 168.6, 346.6000000000001, 590.0, 201.59999999999997, 63.0, 453.0, 308.28000000000003, 174.4, 316.24999999999994, 372.0900000000001, 181.0, 300.92, 414.88000000000005, 103.7, 599.9699999999998, 249.85999999999999, 458.9199999999999, 365.45, 182.24999999999997, 311.01000000000005, 203.10000000000002, 969.06, 501.38999999999993, 272.81999999999994, 173.7, 147.09000000000003, 283.28, 407.49999999999994, 322.0799999999999, 122.7, 169.46999999999994, 135.4, 179.10000000000002, 418.9200000000001, 630.84, 250.03999999999994, 145.0, 602.0900000000005, 1047.1100000000004, 101.99999999999999, 365.27, 262.62, 479.3500000000001, 293.0, 663.9300000000004, 201.20000000000002, 3638.4100000000003, 422.70000000000005, 847.4100000000001, 306.84, 74.4, 447.2200000000001, 80.64, 271.04999999999995, 514.1500000000001, 855.0200000000001, 351.3, 215.72000000000003, 76.55, 476.3499999999999, 632.4, 540.45, 457.91, 316.58000000000004, 158.16, 190.54999999999998, 365.84999999999985, 193.63999999999996, 290.51, 216.75999999999996, 1141.2399999999996, 932.8499999999997, 134.55, 172.24999999999997, 300.4199999999999, 168.29999999999998, 309.8, 119.30000000000001, 1048.8500000000006, 623.4, 236.01999999999995, 104.76, 178.96000000000006, 135.9, 765.55, 157.09, 73.5, 332.40999999999997, 311.71, 153.9, 110.94999999999999, 252.42, 1269.9900000000002, 580.05, 186.39, 344.13999999999993, 492.6499999999999, 197.65, 1289.5, 201.19, 386.5299999999999, 155.17, 226.37, 250.0, 534.5700000000002, 328.34999999999997, 430.6999999999999, 165.0, 146.85, 201.15999999999997, 248.4199999999999, 440.0, 280.55, 155.93, 702.0, 107.45, 76.32, 386.1499999999999, 178.95000000000002, 330.9, 97.7, 229.47000000000003, 135.75, 94.36, 301.99999999999994, 153.0, 162.99999999999997, 265.85, 155.00000000000003, 1140.35, 200.1, 206.98000000000002, 91.80000000000001, 215.78, 483.85999999999996, 585.0, 417.6900000000001, 106.82999999999998, 99.5, 846.7200000000007, 302.58, 120.95, 157.02, 406.08000000000004, 249.0, 268.79999999999995, 1308.48, 1489.5, 806.4100000000005, 289.7800000000001, 112.75, 572.8099999999998, 403.30000000000007, 382.5, 494.64000000000004, 177.5, 218.52000000000004, 219.52, 178.21999999999997, 325.75, 316.25999999999993, 117.85000000000001, 433.53, 289.2399999999999, 901.2, 35.8, 113.64, 478.53, 1063.0, 154.41, 362.95000000000005, 349.27000000000004, 167.25, 312.22999999999996, 331.24000000000007, 558.3199999999997, 117.99999999999999, 475.3699999999999, 605.5799999999999, 307.02, 153.94000000000003, 393.48999999999995, 550.8, 381.32000000000005, 142.40000000000003, 131.9, 108.07, 393.32999999999987, 409.9299999999999, 148.21, 79.2, 109.79999999999998, 133.35, 118.95, 314.1, 205.48000000000002, 330.78999999999996, 470.35999999999996, 1058.6200000000008, 302.69999999999993, 530.1500000000002, 436.17999999999995, 321.05, 3.75, 821.1, 122.4, 89.2, 363.7, 142.4, 173.05, 826.5299999999999, 76.32, 306.55, 1257.8700000000003, 152.65, 100.5, 311.54999999999995, 307.4, 34.0, 535.32, 1078.9600000000005, 560.4700000000001, 53.5, 113.44000000000001, 220.1, 574.02, 354.09000000000003, 622.88, 94.0, 101.7, 1276.0, 224.90999999999997, 116.19999999999997, 462.95, 363.6499999999999, 584.3199999999999, 127.86, 296.24999999999994, 389.50000000000006, 741.26, 264.7, 67.23000000000002, 944.1, 145.05, 626.6499999999999, 109.95000000000002, 154.98999999999998, 241.06, 158.68, 79.2, 133.25, 204.49999999999997, 317.15, 417.19999999999993, 162.3, 312.37999999999994, 110.38, 374.0, 207.5, 304.25, 416.64, 137.10000000000002, 306.94, 348.2000000000001, 76.1, 225.9, 222.99, 218.0599999999999, 96.8, 411.5300000000001, 164.39999999999998, 136.76999999999998, 217.2, 180.6, 328.8, 117.55, 162.70000000000005, 149.64000000000001, 197.00000000000003, 237.35999999999996, 325.09999999999997, 391.5200000000001, 108.5, 298.0, 380.5, 122.53999999999999, 223.94999999999996, 660.0, 333.08, 310.46999999999997, 101.33999999999999, 282.92999999999995, 268.58000000000004, 121.17000000000002, 1145.6, 108.21000000000001, 516.4200000000001, 296.87999999999994, 126.7, 590.0, 343.61999999999995, 170.75, 221.19000000000005, 138.28, 283.7299999999999, 301.90000000000003, 1829.0399999999997, 439.03000000000003, 142.5, 71.4, 62.85, 333.74, 914.9300000000002, 676.2, 251.51999999999998, 177.14999999999998, 409.9800000000001, 183.59999999999997, 752.4300000000002, 152.55, 265.9999999999999, 141.41, 234.23999999999998, 854.9899999999999, 118.75, 344.9000000000001, 211.5, 138.68, 172.9, 320.62, 267.17999999999995, 113.5, 226.21, 300.52, 922.0999999999997, 158.95000000000002, 1005.1, 298.10999999999996, 15.0, 200.29000000000002, 114.55999999999999, 517.5499999999998, 215.05, 200.16000000000003, 237.07000000000002, 292.46999999999997, 25.5, 329.56, 327.24999999999994, 207.8, 77.3, 396.87000000000006, 775.85, 251.20999999999998, 154.95000000000002, 628.2800000000001, 380.38999999999993, 335.32000000000005, 40.5, 409.57, 171.8, 609.9500000000002, 215.7, 88.19999999999999, 174.79999999999998, 277.07000000000005, 283.71, 56.4, 383.34, 271.0, 836.7899999999998, 229.32999999999993, 388.44999999999993, 307.53, 125.65, 58.49000000000001, 226.85, 364.80000000000007, 257.22999999999996, 151.5, 85.0, 417.95000000000005, 37.4, 136.8, 127.84000000000002, 535.3400000000001, 183.4, 304.24999999999994, 12.75, 328.2, 463.95, 336.96, 594.0, 374.57, 305.78, 123.10000000000001, 465.32, 206.21, 72.9, 175.2, 228.83999999999997, 102.11999999999998, 394.43999999999994, 487.51, 266.4, 310.05, 484.95, 129.45, 104.9, 110.97, 239.49000000000004, 112.55, 560.67, 185.65, 310.26, 309.52, 390.53999999999996, 183.85, 416.8600000000001, 136.04, 246.04000000000005, 101.8, 313.79999999999995, 112.75000000000001, 350.75000000000006, 429.59999999999997, 185.05, 110.25000000000001, 623.5, 1345.6200000000003, 328.1599999999999, 1266.2300000000002, 116.01, 579.0, 139.04999999999998, 30.6, 168.4, 232.48, 314.45000000000005, 175.27, 229.58999999999997, 338.95000000000005, 406.4800000000001, 151.85000000000002, 257.34000000000003, 150.3, 101.18999999999998, 409.40000000000003, 113.5, 400.71, 1403.7600000000004, 362.56999999999994, 1299.9500000000005, 99.1, 2168.01, 717.9000000000001, 466.11999999999995, 213.73000000000002, 164.0, 156.01999999999998, 326.59999999999997, 257.84, 312.95, 53.1, 1123.5100000000002, 906.64, 1240.3200000000002, 148.69999999999996, 1865.1899999999996, 1118.8100000000004, 154.83, 1110.52, 446.8699999999998, 889.9300000000002, 603.3699999999998, 516.3599999999999, 601.2699999999999, 1749.0200000000004, 571.2, 632.2700000000001, 451.80999999999966, 781.36, 483.80000000000007, 356.7, 895.61, 683.9000000000001, 468.77, 1046.5700000000004, 1008.3899999999999, 856.6, 147.20000000000002, 1124.8199999999997, 343.23, 70.02, 711.79, 400.09999999999985, 228.2, 899.63, 460.58999999999986, 5719.819999999999, 517.5300000000002, 642.41, 121.0, 740.9399999999999, 811.4499999999999, 7374.900000000001, 253.04, 693.8100000000001, 2643.2000000000003, 296.7499999999999, 475.28000000000003, 1737.6999999999998, 1030.3999999999999, 195.74, 3613.6300000000006, 720.52, 379.65000000000003, 865.5999999999999, 2139.7599999999998, 1578.6700000000005, 316.11, 152.39999999999998, 710.2800000000001, 605.8, 477.79, 437.69999999999993, 284.46, 536.3999999999999, 842.6500000000001, 435.02, 267.08000000000004, 876.4199999999997, 2997.0300000000007, 1065.3500000000001, 591.5500000000001, 203.87, 3006.1500000000005, 483.25, 1573.2000000000007, 251.20999999999998, 816.7299999999999, 652.8, 271.24, 1161.5299999999993, 282.6, 1957.1, 605.6399999999999, 750.0, 309.36, 4599.420000000001, 1396.9900000000007, 120.9, 730.8599999999998, 611.8800000000001, 665.7800000000004, 322.96, 258.8799999999998, 1277.7500000000014, 295.0, 1106.4000000000003, 982.4199999999998, 216.5, 1703.41, 710.2900000000001, 1431.7800000000009, 642.81, 1390.5, 416.08000000000004, 674.4499999999998, 331.0, 289.36000000000007, 845.5500000000002, 1327.1600000000008, 653.3499999999999, 356.98, 2083.2700000000013, 925.71, 588.8500000000001, 636.5100000000002, 218.25, 486.82, 412.78, 1448.2099999999994, 457.80999999999995, 291.04999999999984, 2375.4100000000008, 1143.2699999999995, 1027.44, 664.0000000000002, 662.08, 495.7699999999999, 1238.4699999999998, 707.6899999999999, 211.76999999999998, 1110.3399999999997, 597.0899999999999, 1009.5999999999999, 632.0699999999999, 1619.7300000000005, 1078.96, 334.2300000000001, 1121.59, 1062.7499999999998, 622.8499999999999, 596.85, 270.79000000000013, 533.2999999999998, 657.3499999999999, 233.81000000000006, 350.3899999999999, 712.2399999999997, 1564.56, 1689.5, 740.9499999999996, 617.05, 385.64, 2103.059999999999, 747.81, 2515.8400000000006, 1516.2399999999998, 1484.0599999999995, 149.58, 336.13, 735.6600000000001, 371.87999999999994, 674.5199999999999, 631.9000000000001, 881.07, 683.4600000000002, 408.35999999999996, 354.12, 1705.8000000000004, 1998.0, 188.01999999999998, 1011.9999999999998, 755.7500000000001, 873.7399999999998, 657.9, 771.8499999999999, 186.42, 1475.8100000000002, 610.5899999999999, 513.7, 455.8799999999999, 499.6799999999999, 333.9700000000001, 2242.0100000000007, 267.16000000000014, 429.8699999999999, 1303.9099999999999, 885.1899999999998, 3251.0709999999995, 871.5800000000005, 1506.1200000000001, 255.11999999999998, 814.0, 1000.2700000000002, 300.95, 616.1500000000002, 103.3, 157.2, 454.2400000000001, 267.03000000000003, 307.46, 264.62, 139.35, 503.5999999999999, 163.20000000000002, 734.1299999999999, 225.14999999999995, 184.64000000000001, 275.28, 205.7, 413.46000000000004, 358.37999999999994, 311.26, 305.28, 201.19000000000003, 2726.769999999999, 524.52, 203.95, 93.35, 259.45, 160.95, 112.32000000000002, 314.22, 112.25000000000004, 440.0, 331.18, 383.45, 329.6, 134.8, 446.62000000000006, 288.59999999999997, 266.1, 83.7, 220.94999999999996, 557.3, 75.66, 203.86999999999998, 179.0, 306.72, 134.7, 524.9200000000001, 252.06, 208.36, 185.39999999999998, 265.2, 188.60999999999996, 67.94999999999999, 143.45999999999998, 76.32, 404.40000000000003, 59.9, 93.75, 199.15000000000003, 623.1600000000001, 90.12, 199.85000000000002, 1019.5199999999999, 354.7999999999999, 141.86, 2293.6199999999994, 90.6, 239.40000000000003, 111.14999999999999, 3276.3999999999996, 109.12999999999998, 92.72, 2044.3700000000003, 426.6, 370.79999999999995, 311.3, 977.7699999999999, 85.0, 833.7799999999996, 348.15, 931.5, 1031.0699999999995, 738.6, 612.7800000000001, 334.54, 101.4, 635.6600000000001, 582.5899999999999, 519.68, 112.80000000000001, 1028.56, 63.440000000000005, 463.38000000000005, 369.2, 357.9800000000001, 1145.84, 157.9, 1384.25, 695.6099999999999, 214.06, 171.45000000000005, 155.89999999999998, 349.54999999999995, 397.29, 59.8, 131.7, 388.5, 600.07, 172.29000000000002, 257.7, 306.13, 52.0, 243.21999999999994, 180.93999999999997, 143.10000000000002, 860.1200000000002, 506.80000000000007, 326.4, 339.6, 327.97, 135.93, 315.06000000000006, 611.8500000000001, 179.0, 188.89, 1042.2599999999995, 144.8, 271.85, 160.71, 134.04, 3096.0, 559.8699999999999, 588.2199999999999, 626.77, 207.5, 321.4299999999999, 222.05, 247.14, 207.15, 139.35000000000002, 457.3400000000001, 228.8, 309.53999999999996, 133.56, 346.98, 404.30000000000007, 119.93000000000002, 112.19999999999999, 455.25, 296.7, 232.21, 319.0199999999999, 349.1, 39.12, 554.3800000000001, 110.55, 59.5, 473.80999999999983, 124.57, 394.14000000000004, 129.49, 103.25000000000001, 247.44, 257.67999999999995, 298.89, 198.57, 307.72, 320.58, 298.48, 307.90000000000003, 213.70000000000002, 161.38000000000002, 72.0, 105.84, 149.89, 506.18999999999994, 80.82, 562.8999999999997, 376.58, 1109.5300000000007, 110.75, 58.08, 189.47, 151.42, 353.43000000000006, 302.46000000000004, 76.5, 428.6799999999998, 683.17, 455.30000000000007, 323.00000000000006, 810.5999999999999, 46.95, 189.5, 305.75, 191.94, 177.34, 137.89999999999998, 178.52, 351.6699999999999, 192.85000000000005, 696.6799999999996, 134.1, 880.8500000000003, 336.03000000000003, 170.04, 532.94, 500.0, 113.12, 492.35999999999996, 290.35999999999996, 353.59999999999997, 73.77999999999999, 190.53000000000003, 135.75, 159.85, 237.61, 114.56, 180.35000000000002, 142.50000000000003, 330.11, 137.45, 371.89000000000004, 158.85, 1516.0, 131.45, 216.21, 163.29999999999998, 243.76000000000002, 339.3, 51.0, 508.8, 32.65, 110.92000000000003, 311.65000000000003, 127.1, 300.04, 100.97000000000001, 203.85999999999993, 345.29999999999995, 207.73999999999998, 752.5999999999998, 405.38, 99.14000000000001, 644.3, 384.7999999999999, 155.79999999999998, 156.91, 289.96000000000004, 101.10000000000001, 487.02, 160.42000000000002, 214.80000000000004, 642.0199999999999, 197.22, 529.7299999999999, 39.24, 361.10999999999996, 781.0300000000002, 1837.9199999999996, 187.29000000000002, 308.58, 63.75, 673.1000000000001, 167.49999999999997, 1740.0, 389.78000000000003, 1009.5500000000001, 232.60000000000005, 165.07000000000002, 179.17, 610.0100000000001, 311.92, 305.0199999999998, 574.7, 309.4, 98.45, 358.56, 1246.3199999999995, 187.91999999999996, 80.7, 783.8999999999999, 417.37999999999994, 152.68000000000006, 90.0, 329.65, 451.42, 102.82999999999998, 120.0, 145.79, 283.12000000000006, 196.0, 301.03, 149.48, 361.2199999999999, 147.12, 501.14000000000004, 868.49, 197.90000000000003, 449.7299999999999, 194.9, 101.15, 87.4, 200.47, 2007.4, 60.7, 259.0099999999998, 254.82000000000002, 425.31999999999994, 244.8, 196.87999999999997, 25.5, 337.44, 115.8, 358.8199999999999, 375.0, 520.8, 241.62000000000003, 76.5, 765.3199999999998, 677.1000000000001, 156.57999999999998, 304.56, 498.47999999999996, 1487.6, 919.61, 406.0899999999999, 1595.4799999999996, 122.46999999999997, 111.35, 168.0, 114.77000000000002, 208.65, 594.0, 300.36000000000007, 168.31000000000003, 62.64, 317.61999999999995, 233.22000000000003, 205.10000000000002, 5185.89, 3689.6899999999946, 7574.699999999996, 3877.019999999996, 2529.949999999999, 5344.919999999999, 4381.150000000001, 2377.7300000000027, 7816.940000000003, 6008.179999999998, 5504.190000000001, 3754.449999999999, 4429.120000000003, 5800.579999999998, 3192.169999999995, 4546.769999999999, 696.8600000000002, 3699.2600000000025, 1722.7900000000013, 5345.889999999994, 3199.0299999999993, 1168.8900000000008, 3728.099999999997, 2848.0299999999997, 4810.9400000000005, 1158.2999999999997, 2332.7200000000007, 3744.65, 8676.849999999997, 6784.1900000000005, 8052.9699999999975, 4436.119999999994, 2607.8700000000067, 4339.739999999999, 3364.2399999999984, 6509.100000000003, 1960.110000000001, 5346.23, 2087.879999999999, 3095.0399999999995, 3844.22, 2317.220000000001, 4165.52, 5155.659999999998, 3046.2100000000014, 6802.759999999989, 1447.39, 3812.6399999999985, 2012.1700000000012, 2622.569999999998, 2817.0300000000007, 5575.559999999998, 4654.079999999998, 1790.4200000000008, 2827.929999999999, 9743.110000000022, 4448.539999999997, 1272.6100000000013, 4730.81, 9241.200000000004, 2483.04, 2837.6700000000005, 4552.140000000004, 2766.499999999999, 2095.1300000000015, 7616.529999999996, 1960.7200000000003, 3827.760000000002, 9585.909999999998, 8968.309999999996, 3754.2699999999986, 1438.8500000000008, 4226.57, 5083.000000000005, 1894.3500000000017, 4521.490000000001, 5836.86, 5153.669999999998, 2633.0099999999984, 2465.479999999999, 4488.810000000001, 8338.490000000013, 1914.8200000000024, 3995.2299999999973, 1508.7600000000014, 6923.130000000008, 4799.900000000001, 2360.0899999999997, 5076.550000000002, 3362.7100000000023, 3858.379999999999, 8347.199999999992, 2279.9, 6086.710000000001, 2400.4100000000017, 2619.91, 5509.12, 3622.679999999998, 2666.36, 3292.139999999998, 2806.9700000000007, 9053.940000000002, 2385.0000000000023, 5528.479999999997, 1995.460000000001, 5447.000000000003, 1965.5500000000013, 1058.0600000000002, 3707.120000000001, 2904.4700000000025, 7123.619999999998, 7247.60999999998, 1342.6800000000012, 5885.079999999989, 1236.2800000000013, 4954.839999999991, 3089.969999999999, 7700.229999999997, 3401.239999999997, 5891.609999999999, 3901.8100000000036, 1957.3200000000004, 6643.929999999995, 3055.9299999999967, 3984.2199999999993, 3174.3200000000024, 4332.199999999996, 1867.6800000000007, 7044.680000000002, 3482.7400000000002, 6217.960000000002, 5725.470000000003, 5900.279999999999, 6010.419999999994, 4036.819999999996, 3799.4899999999957, 2520.8599999999997, 9646.570000000002, 5178.960000000001, 7943.22, 4095.9000000000024, 5900.3400000000065, 2238.0900000000006, 4921.040000000007, 5870.080000000015, 4076.910000000003, 6065.69, 6484.540000000004, 1580.9300000000032, 4345.500000000007, 5655.91, 6292.259999999996, 4190.999999999999, 3062.8299999999986, 3104.1700000000005, 4308.609999999998, 3927.3399999999997, 4017.5400000000027, 3722.4200000000014, 3432.7999999999993, 1947.5499999999995, 2246.8100000000013, 5213.770000000001, 5228.050000000004, 2361.9700000000034, 2094.880000000003, 1337.7200000000007, 3110.960000000004, 4352.990000000002, 2976.149999999999, 4801.559999999999, 1721.7800000000022, 3794.519999999997, 1601.1400000000008, 3614.9199999999996, 4481.179999999996, 1610.460000000001, 2586.670000000001, 5014.840000000004, 4098.319999999999, 2265.119999999999, 1575.1600000000003, 2036.6700000000003, 1112.2200000000005, 2287.5100000000007, 9818.820000000012, 5298.479999999997, 5102.969999999997, 2832.840000000001, 3997.979999999999, 3236.909999999999, 3131.020000000001, 1629.1200000000017, 1853.6500000000003, 4447.049999999999, 5681.719999999997, 2028.8800000000017, 1232.1799999999996, 2549.369999999999, 5580.599999999999, 1142.989999999999, 9418.470000000007, 2529.930000000001, 6328.050000000004, 1896.410000000002, 2470.6699999999996, 4481.67, 2861.5500000000006, 5884.200000000004, 2124.9900000000025, 1337.4800000000016, 652.8199999999993, 6403.250000000004, 2736.380000000001, 3650.409999999999, 4559.15, 5074.769999999998, 5739.460000000007, 2760.5599999999977, 1159.5200000000011, 2925.910000000001, 7277.699999999997, 5955.709999999999, 1667.9700000000016, 921.0700000000006, 2709.1200000000003, 7561.68, 4113.679999999999, 1131.8800000000006, 6911.439999999999, 3435.7599999999998, 5037.259999999998, 6893.420000000002, 4867.7199999999975, 2810.63, 815.32, 2552.86, 3603.210000000001, 2526.2799999999993, 2005.0600000000063, 9261.520000000006, 3645.4299999999957, 1908.2500000000002, 5659.980000000006, 3883.249999999998, 2001.800000000005, 615.389999999999, 5314.469999999995, 5655.990000000002, 3214.6899999999996, 4263.64, 3439.0800000000004, 3165.360000000001, 1438.820000000003, 1054.6699999999996, 7060.130000000006, 2316.3800000000006, 731.8999999999999, 2047.0000000000011, 3834.26, 6688.460000000006, 5396.040000000004, 4147.960000000001, 933.6199999999995, 2092.32, 5493.460000000006, 4167.220000000001, 3456.7000000000025, 1602.1300000000008, 2578.0900000000024, 1039.5800000000008, 1357.6000000000015, 4628.749999999998, 3518.0299999999993, 7239.919999999984, 1469.4500000000005, 1122.5300000000007, 1920.5900000000017, 4684.760000000001, 1701.939999999998, 3640.669999999999, 1447.140000000001, 4090.880000000001, 1417.2899999999997, 967.4499999999998, 1052.5500000000004, 3349.57, 1504.4399999999994, 4206.389999999997, 1388.370000000001, 4745.69, 1842.5599999999995, 3586.030000000001, 1487.8000000000013, 1620.93, 1546.9099999999999, 1222.7100000000012, 3945.000000000001, 1304.7599999999993, 2741.169999999997, 1826.2100000000016, 1871.5000000000025, 2626.2900000000036, 1314.6800000000003, 4932.2000000000035, 1542.14, 1510.060000000002, 2255.5099999999984, 3512.5299999999997, 945.5799999999999, 3594.3099999999995, 1111.7899999999993, 3628.5000000000014, 1770.8800000000026, 911.1500000000001, 2179.9300000000007, 2161.3500000000013, 948.0500000000001, 4007.539999999999, 2381.040000000002, 1250.7600000000014, 2531.579999999998, 1483.1399999999999, 2797.5699999999983, 1479.22, 1418.2600000000016, 668.1100000000002, 2007.4399999999994, 1093.6500000000003, 2731.349999999998, 5070.3499999999985, 2298.9699999999984, 3385.619999999999, 2806.9000000000005, 1119.8100000000004, 1418.0300000000013, 1566.65, 3313.79, 3866.3299999999977, 3104.9500000000035, 1936.8400000000013, 2004.0200000000004, 1133.0700000000004, 1521.7600000000002, 1652.580000000002, 1942.4500000000012, 1931.4200000000028, 1486.9000000000003, 3672.8599999999997, 7194.300000000006, 1105.0699999999986, 3536.819999999998, 3228.8399999999992, 1498.5100000000014, 3049.880000000001, 3984.3199999999993, 2233.749999999999, 532.9599999999995, 2864.190000000005, 2404.170000000001, 1320.5600000000004, 867.1099999999998, 1993.7, 4481.349999999996, 620.0399999999998, 6115.140000000001, 3734.970000000001, 2596.4499999999994, 1004.7499999999999, 3703.2899999999995, 2129.9600000000023, 2027.8700000000033, 812.9999999999998, 8816.399999999987, 4488.609999999991, 5653.819999999971, 8508.81999999996, 4805.169999999989, 8022.489999999978, 6316.569999999991, 4693.00999999999, 5905.639999999987, 5045.609999999998, 4154.639999999994, 7837.72999999999, 7196.209999999959, 8214.64999999998, 3062.3999999999983], \"xaxis\": \"x\", \"yaxis\": \"y\"}],\n",
              "                        {\"barmode\": \"relative\", \"legend\": {\"tracegroupgap\": 0}, \"margin\": {\"t\": 60}, \"template\": {\"data\": {\"bar\": [{\"error_x\": {\"color\": \"#2a3f5f\"}, \"error_y\": {\"color\": \"#2a3f5f\"}, \"marker\": {\"line\": {\"color\": \"#E5ECF6\", \"width\": 0.5}}, \"type\": \"bar\"}], \"barpolar\": [{\"marker\": {\"line\": {\"color\": \"#E5ECF6\", \"width\": 0.5}}, \"type\": \"barpolar\"}], \"carpet\": [{\"aaxis\": {\"endlinecolor\": \"#2a3f5f\", \"gridcolor\": \"white\", \"linecolor\": \"white\", \"minorgridcolor\": \"white\", \"startlinecolor\": \"#2a3f5f\"}, \"baxis\": {\"endlinecolor\": \"#2a3f5f\", \"gridcolor\": \"white\", \"linecolor\": \"white\", \"minorgridcolor\": \"white\", \"startlinecolor\": \"#2a3f5f\"}, \"type\": \"carpet\"}], \"choropleth\": [{\"colorbar\": {\"outlinewidth\": 0, \"ticks\": \"\"}, \"type\": \"choropleth\"}], \"contour\": [{\"colorbar\": {\"outlinewidth\": 0, \"ticks\": \"\"}, \"colorscale\": [[0.0, \"#0d0887\"], [0.1111111111111111, \"#46039f\"], [0.2222222222222222, \"#7201a8\"], [0.3333333333333333, \"#9c179e\"], [0.4444444444444444, \"#bd3786\"], [0.5555555555555556, \"#d8576b\"], [0.6666666666666666, \"#ed7953\"], [0.7777777777777778, \"#fb9f3a\"], [0.8888888888888888, \"#fdca26\"], [1.0, \"#f0f921\"]], \"type\": \"contour\"}], \"contourcarpet\": [{\"colorbar\": {\"outlinewidth\": 0, \"ticks\": \"\"}, \"type\": \"contourcarpet\"}], \"heatmap\": [{\"colorbar\": {\"outlinewidth\": 0, \"ticks\": \"\"}, \"colorscale\": [[0.0, \"#0d0887\"], [0.1111111111111111, \"#46039f\"], [0.2222222222222222, \"#7201a8\"], [0.3333333333333333, \"#9c179e\"], [0.4444444444444444, \"#bd3786\"], [0.5555555555555556, \"#d8576b\"], [0.6666666666666666, \"#ed7953\"], [0.7777777777777778, \"#fb9f3a\"], [0.8888888888888888, \"#fdca26\"], [1.0, \"#f0f921\"]], \"type\": \"heatmap\"}], \"heatmapgl\": [{\"colorbar\": {\"outlinewidth\": 0, \"ticks\": \"\"}, \"colorscale\": [[0.0, \"#0d0887\"], [0.1111111111111111, \"#46039f\"], [0.2222222222222222, \"#7201a8\"], [0.3333333333333333, \"#9c179e\"], [0.4444444444444444, \"#bd3786\"], [0.5555555555555556, \"#d8576b\"], [0.6666666666666666, \"#ed7953\"], [0.7777777777777778, \"#fb9f3a\"], [0.8888888888888888, \"#fdca26\"], [1.0, \"#f0f921\"]], \"type\": \"heatmapgl\"}], \"histogram\": [{\"marker\": {\"colorbar\": {\"outlinewidth\": 0, \"ticks\": \"\"}}, \"type\": \"histogram\"}], \"histogram2d\": [{\"colorbar\": {\"outlinewidth\": 0, \"ticks\": \"\"}, \"colorscale\": [[0.0, \"#0d0887\"], [0.1111111111111111, \"#46039f\"], [0.2222222222222222, \"#7201a8\"], [0.3333333333333333, \"#9c179e\"], [0.4444444444444444, \"#bd3786\"], [0.5555555555555556, \"#d8576b\"], [0.6666666666666666, \"#ed7953\"], [0.7777777777777778, \"#fb9f3a\"], [0.8888888888888888, \"#fdca26\"], [1.0, \"#f0f921\"]], \"type\": \"histogram2d\"}], \"histogram2dcontour\": [{\"colorbar\": {\"outlinewidth\": 0, \"ticks\": \"\"}, \"colorscale\": [[0.0, \"#0d0887\"], [0.1111111111111111, \"#46039f\"], [0.2222222222222222, \"#7201a8\"], [0.3333333333333333, \"#9c179e\"], [0.4444444444444444, \"#bd3786\"], [0.5555555555555556, \"#d8576b\"], [0.6666666666666666, \"#ed7953\"], [0.7777777777777778, \"#fb9f3a\"], [0.8888888888888888, \"#fdca26\"], [1.0, \"#f0f921\"]], \"type\": \"histogram2dcontour\"}], \"mesh3d\": [{\"colorbar\": {\"outlinewidth\": 0, \"ticks\": \"\"}, \"type\": \"mesh3d\"}], \"parcoords\": [{\"line\": {\"colorbar\": {\"outlinewidth\": 0, \"ticks\": \"\"}}, \"type\": \"parcoords\"}], \"pie\": [{\"automargin\": true, \"type\": \"pie\"}], \"scatter\": [{\"marker\": {\"colorbar\": {\"outlinewidth\": 0, \"ticks\": \"\"}}, \"type\": \"scatter\"}], \"scatter3d\": [{\"line\": {\"colorbar\": {\"outlinewidth\": 0, \"ticks\": \"\"}}, \"marker\": {\"colorbar\": {\"outlinewidth\": 0, \"ticks\": \"\"}}, \"type\": \"scatter3d\"}], \"scattercarpet\": [{\"marker\": {\"colorbar\": {\"outlinewidth\": 0, \"ticks\": \"\"}}, \"type\": \"scattercarpet\"}], \"scattergeo\": [{\"marker\": {\"colorbar\": {\"outlinewidth\": 0, \"ticks\": \"\"}}, \"type\": \"scattergeo\"}], \"scattergl\": [{\"marker\": {\"colorbar\": {\"outlinewidth\": 0, \"ticks\": \"\"}}, \"type\": \"scattergl\"}], \"scattermapbox\": [{\"marker\": {\"colorbar\": {\"outlinewidth\": 0, \"ticks\": \"\"}}, \"type\": \"scattermapbox\"}], \"scatterpolar\": [{\"marker\": {\"colorbar\": {\"outlinewidth\": 0, \"ticks\": \"\"}}, \"type\": \"scatterpolar\"}], \"scatterpolargl\": [{\"marker\": {\"colorbar\": {\"outlinewidth\": 0, \"ticks\": \"\"}}, \"type\": \"scatterpolargl\"}], \"scatterternary\": [{\"marker\": {\"colorbar\": {\"outlinewidth\": 0, \"ticks\": \"\"}}, \"type\": \"scatterternary\"}], \"surface\": [{\"colorbar\": {\"outlinewidth\": 0, \"ticks\": \"\"}, \"colorscale\": [[0.0, \"#0d0887\"], [0.1111111111111111, \"#46039f\"], [0.2222222222222222, \"#7201a8\"], [0.3333333333333333, \"#9c179e\"], [0.4444444444444444, \"#bd3786\"], [0.5555555555555556, \"#d8576b\"], [0.6666666666666666, \"#ed7953\"], [0.7777777777777778, \"#fb9f3a\"], [0.8888888888888888, \"#fdca26\"], [1.0, \"#f0f921\"]], \"type\": \"surface\"}], \"table\": [{\"cells\": {\"fill\": {\"color\": \"#EBF0F8\"}, \"line\": {\"color\": \"white\"}}, \"header\": {\"fill\": {\"color\": \"#C8D4E3\"}, \"line\": {\"color\": \"white\"}}, \"type\": \"table\"}]}, \"layout\": {\"annotationdefaults\": {\"arrowcolor\": \"#2a3f5f\", \"arrowhead\": 0, \"arrowwidth\": 1}, \"coloraxis\": {\"colorbar\": {\"outlinewidth\": 0, \"ticks\": \"\"}}, \"colorscale\": {\"diverging\": [[0, \"#8e0152\"], [0.1, \"#c51b7d\"], [0.2, \"#de77ae\"], [0.3, \"#f1b6da\"], [0.4, \"#fde0ef\"], [0.5, \"#f7f7f7\"], [0.6, \"#e6f5d0\"], [0.7, \"#b8e186\"], [0.8, \"#7fbc41\"], [0.9, \"#4d9221\"], [1, \"#276419\"]], \"sequential\": [[0.0, \"#0d0887\"], [0.1111111111111111, \"#46039f\"], [0.2222222222222222, \"#7201a8\"], [0.3333333333333333, \"#9c179e\"], [0.4444444444444444, \"#bd3786\"], [0.5555555555555556, \"#d8576b\"], [0.6666666666666666, \"#ed7953\"], [0.7777777777777778, \"#fb9f3a\"], [0.8888888888888888, \"#fdca26\"], [1.0, \"#f0f921\"]], \"sequentialminus\": [[0.0, \"#0d0887\"], [0.1111111111111111, \"#46039f\"], [0.2222222222222222, \"#7201a8\"], [0.3333333333333333, \"#9c179e\"], [0.4444444444444444, \"#bd3786\"], [0.5555555555555556, \"#d8576b\"], [0.6666666666666666, \"#ed7953\"], [0.7777777777777778, \"#fb9f3a\"], [0.8888888888888888, \"#fdca26\"], [1.0, \"#f0f921\"]]}, \"colorway\": [\"#636efa\", \"#EF553B\", \"#00cc96\", \"#ab63fa\", \"#FFA15A\", \"#19d3f3\", \"#FF6692\", \"#B6E880\", \"#FF97FF\", \"#FECB52\"], \"font\": {\"color\": \"#2a3f5f\"}, \"geo\": {\"bgcolor\": \"white\", \"lakecolor\": \"white\", \"landcolor\": \"#E5ECF6\", \"showlakes\": true, \"showland\": true, \"subunitcolor\": \"white\"}, \"hoverlabel\": {\"align\": \"left\"}, \"hovermode\": \"closest\", \"mapbox\": {\"style\": \"light\"}, \"paper_bgcolor\": \"white\", \"plot_bgcolor\": \"#E5ECF6\", \"polar\": {\"angularaxis\": {\"gridcolor\": \"white\", \"linecolor\": \"white\", \"ticks\": \"\"}, \"bgcolor\": \"#E5ECF6\", \"radialaxis\": {\"gridcolor\": \"white\", \"linecolor\": \"white\", \"ticks\": \"\"}}, \"scene\": {\"xaxis\": {\"backgroundcolor\": \"#E5ECF6\", \"gridcolor\": \"white\", \"gridwidth\": 2, \"linecolor\": \"white\", \"showbackground\": true, \"ticks\": \"\", \"zerolinecolor\": \"white\"}, \"yaxis\": {\"backgroundcolor\": \"#E5ECF6\", \"gridcolor\": \"white\", \"gridwidth\": 2, \"linecolor\": \"white\", \"showbackground\": true, \"ticks\": \"\", \"zerolinecolor\": \"white\"}, \"zaxis\": {\"backgroundcolor\": \"#E5ECF6\", \"gridcolor\": \"white\", \"gridwidth\": 2, \"linecolor\": \"white\", \"showbackground\": true, \"ticks\": \"\", \"zerolinecolor\": \"white\"}}, \"shapedefaults\": {\"line\": {\"color\": \"#2a3f5f\"}}, \"ternary\": {\"aaxis\": {\"gridcolor\": \"white\", \"linecolor\": \"white\", \"ticks\": \"\"}, \"baxis\": {\"gridcolor\": \"white\", \"linecolor\": \"white\", \"ticks\": \"\"}, \"bgcolor\": \"#E5ECF6\", \"caxis\": {\"gridcolor\": \"white\", \"linecolor\": \"white\", \"ticks\": \"\"}}, \"title\": {\"x\": 0.05}, \"xaxis\": {\"automargin\": true, \"gridcolor\": \"white\", \"linecolor\": \"white\", \"ticks\": \"\", \"title\": {\"standoff\": 15}, \"zerolinecolor\": \"white\", \"zerolinewidth\": 2}, \"yaxis\": {\"automargin\": true, \"gridcolor\": \"white\", \"linecolor\": \"white\", \"ticks\": \"\", \"title\": {\"standoff\": 15}, \"zerolinecolor\": \"white\", \"zerolinewidth\": 2}}}, \"xaxis\": {\"anchor\": \"y\", \"domain\": [0.0, 1.0], \"title\": {\"text\": \"x\"}}, \"yaxis\": {\"anchor\": \"x\", \"domain\": [0.0, 1.0], \"title\": {\"text\": \"count\"}}},\n",
              "                        {\"responsive\": true}\n",
              "                    ).then(function(){\n",
              "                            \n",
              "var gd = document.getElementById('72cd4ca6-a894-4973-ae38-c59bc28f319b');\n",
              "var x = new MutationObserver(function (mutations, observer) {{\n",
              "        var display = window.getComputedStyle(gd).display;\n",
              "        if (!display || display === 'none') {{\n",
              "            console.log([gd, 'removed!']);\n",
              "            Plotly.purge(gd);\n",
              "            observer.disconnect();\n",
              "        }}\n",
              "}});\n",
              "\n",
              "// Listen for the removal of the full notebook cells\n",
              "var notebookContainer = gd.closest('#notebook-container');\n",
              "if (notebookContainer) {{\n",
              "    x.observe(notebookContainer, {childList: true});\n",
              "}}\n",
              "\n",
              "// Listen for the clearing of the current output cell\n",
              "var outputEl = gd.closest('.output');\n",
              "if (outputEl) {{\n",
              "    x.observe(outputEl, {childList: true});\n",
              "}}\n",
              "\n",
              "                        })\n",
              "                };\n",
              "                \n",
              "            </script>\n",
              "        </div>\n",
              "</body>\n",
              "</html>"
            ]
          },
          "metadata": {
            "tags": []
          }
        }
      ]
    },
    {
      "cell_type": "code",
      "metadata": {
        "id": "whuaKiD9xt3H",
        "colab_type": "code",
        "colab": {}
      },
      "source": [
        "#apply clustering\n",
        "kmeans = KMeans(n_clusters=4)\n",
        "kmeans.fit(df_user[['Engagement']])\n",
        "df_user['EngagementCluster'] = kmeans.predict(df_user[['Engagement']])"
      ],
      "execution_count": 0,
      "outputs": []
    },
    {
      "cell_type": "code",
      "metadata": {
        "id": "Oq8EEO3Axt04",
        "colab_type": "code",
        "colab": {}
      },
      "source": [
        "#order the cluster numbers\n",
        "df_user = order_cluster('EngagementCluster', 'Engagement',df_user,True)"
      ],
      "execution_count": 0,
      "outputs": []
    },
    {
      "cell_type": "code",
      "metadata": {
        "id": "Kx4GuZ8axty3",
        "colab_type": "code",
        "outputId": "c70e2bae-473c-4746-faca-beaed6fdeb15",
        "colab": {
          "base_uri": "https://localhost:8080/",
          "height": 202
        }
      },
      "source": [
        "#show details of the dataframe\n",
        "df_user.groupby('EngagementCluster')['Engagement'].describe()"
      ],
      "execution_count": 0,
      "outputs": [
        {
          "output_type": "execute_result",
          "data": {
            "text/html": [
              "<div>\n",
              "<style scoped>\n",
              "    .dataframe tbody tr th:only-of-type {\n",
              "        vertical-align: middle;\n",
              "    }\n",
              "\n",
              "    .dataframe tbody tr th {\n",
              "        vertical-align: top;\n",
              "    }\n",
              "\n",
              "    .dataframe thead th {\n",
              "        text-align: right;\n",
              "    }\n",
              "</style>\n",
              "<table border=\"1\" class=\"dataframe\">\n",
              "  <thead>\n",
              "    <tr style=\"text-align: right;\">\n",
              "      <th></th>\n",
              "      <th>count</th>\n",
              "      <th>mean</th>\n",
              "      <th>std</th>\n",
              "      <th>min</th>\n",
              "      <th>25%</th>\n",
              "      <th>50%</th>\n",
              "      <th>75%</th>\n",
              "      <th>max</th>\n",
              "    </tr>\n",
              "    <tr>\n",
              "      <th>EngagementCluster</th>\n",
              "      <th></th>\n",
              "      <th></th>\n",
              "      <th></th>\n",
              "      <th></th>\n",
              "      <th></th>\n",
              "      <th></th>\n",
              "      <th></th>\n",
              "      <th></th>\n",
              "    </tr>\n",
              "  </thead>\n",
              "  <tbody>\n",
              "    <tr>\n",
              "      <th>0</th>\n",
              "      <td>3672.0</td>\n",
              "      <td>999.569105</td>\n",
              "      <td>1048.375791</td>\n",
              "      <td>3.75</td>\n",
              "      <td>284.2625</td>\n",
              "      <td>601.825</td>\n",
              "      <td>1341.4650</td>\n",
              "      <td>5314.47</td>\n",
              "    </tr>\n",
              "    <tr>\n",
              "      <th>1</th>\n",
              "      <td>176.0</td>\n",
              "      <td>9574.363807</td>\n",
              "      <td>4866.050827</td>\n",
              "      <td>5344.92</td>\n",
              "      <td>6158.5350</td>\n",
              "      <td>7804.650</td>\n",
              "      <td>10897.9025</td>\n",
              "      <td>28882.44</td>\n",
              "    </tr>\n",
              "    <tr>\n",
              "      <th>2</th>\n",
              "      <td>23.0</td>\n",
              "      <td>51026.210435</td>\n",
              "      <td>15334.865065</td>\n",
              "      <td>31833.68</td>\n",
              "      <td>38523.5500</td>\n",
              "      <td>50491.810</td>\n",
              "      <td>59277.4400</td>\n",
              "      <td>89236.64</td>\n",
              "    </tr>\n",
              "    <tr>\n",
              "      <th>3</th>\n",
              "      <td>3.0</td>\n",
              "      <td>207560.196667</td>\n",
              "      <td>46963.820480</td>\n",
              "      <td>168472.50</td>\n",
              "      <td>181511.6450</td>\n",
              "      <td>194550.790</td>\n",
              "      <td>227104.0450</td>\n",
              "      <td>259657.30</td>\n",
              "    </tr>\n",
              "  </tbody>\n",
              "</table>\n",
              "</div>"
            ],
            "text/plain": [
              "                    count           mean  ...          75%        max\n",
              "EngagementCluster                         ...                        \n",
              "0                  3672.0     999.569105  ...    1341.4650    5314.47\n",
              "1                   176.0    9574.363807  ...   10897.9025   28882.44\n",
              "2                    23.0   51026.210435  ...   59277.4400   89236.64\n",
              "3                     3.0  207560.196667  ...  227104.0450  259657.30\n",
              "\n",
              "[4 rows x 8 columns]"
            ]
          },
          "metadata": {
            "tags": []
          },
          "execution_count": 41
        }
      ]
    },
    {
      "cell_type": "markdown",
      "metadata": {
        "id": "SlG9hUw-x317",
        "colab_type": "text"
      },
      "source": [
        "#Overall Score"
      ]
    },
    {
      "cell_type": "markdown",
      "metadata": {
        "id": "l_fEpE7mx9-c",
        "colab_type": "text"
      },
      "source": [
        "Overall Score is the addition of individual R, F, E Scores \n"
      ]
    },
    {
      "cell_type": "code",
      "metadata": {
        "id": "PWHE3JlAxtv_",
        "colab_type": "code",
        "colab": {}
      },
      "source": [
        "df_user['OverallScore'] = df_user['RecencyCluster'] + df_user['FrequencyCluster'] + df_user['EngagementCluster']"
      ],
      "execution_count": 0,
      "outputs": []
    },
    {
      "cell_type": "code",
      "metadata": {
        "id": "FoyS8dgExtuW",
        "colab_type": "code",
        "outputId": "01081094-25fd-472c-f5d5-6e4cf5db1d7a",
        "colab": {
          "base_uri": "https://localhost:8080/",
          "height": 425
        }
      },
      "source": [
        "df_user.groupby('OverallScore')['Recency', 'Frequency', 'Engagement'].mean()"
      ],
      "execution_count": 0,
      "outputs": [
        {
          "output_type": "stream",
          "text": [
            "/usr/local/lib/python3.6/dist-packages/ipykernel_launcher.py:1: FutureWarning:\n",
            "\n",
            "Indexing with multiple keys (implicitly converted to a tuple of keys) will be deprecated, use a list instead.\n",
            "\n"
          ],
          "name": "stderr"
        },
        {
          "output_type": "execute_result",
          "data": {
            "text/html": [
              "<div>\n",
              "<style scoped>\n",
              "    .dataframe tbody tr th:only-of-type {\n",
              "        vertical-align: middle;\n",
              "    }\n",
              "\n",
              "    .dataframe tbody tr th {\n",
              "        vertical-align: top;\n",
              "    }\n",
              "\n",
              "    .dataframe thead th {\n",
              "        text-align: right;\n",
              "    }\n",
              "</style>\n",
              "<table border=\"1\" class=\"dataframe\">\n",
              "  <thead>\n",
              "    <tr style=\"text-align: right;\">\n",
              "      <th></th>\n",
              "      <th>Recency</th>\n",
              "      <th>Frequency</th>\n",
              "      <th>Engagement</th>\n",
              "    </tr>\n",
              "    <tr>\n",
              "      <th>OverallScore</th>\n",
              "      <th></th>\n",
              "      <th></th>\n",
              "      <th></th>\n",
              "    </tr>\n",
              "  </thead>\n",
              "  <tbody>\n",
              "    <tr>\n",
              "      <th>0</th>\n",
              "      <td>291.582150</td>\n",
              "      <td>22.858012</td>\n",
              "      <td>351.529148</td>\n",
              "    </tr>\n",
              "    <tr>\n",
              "      <th>1</th>\n",
              "      <td>176.339416</td>\n",
              "      <td>32.357664</td>\n",
              "      <td>563.324381</td>\n",
              "    </tr>\n",
              "    <tr>\n",
              "      <th>2</th>\n",
              "      <td>77.338870</td>\n",
              "      <td>45.949059</td>\n",
              "      <td>1006.218031</td>\n",
              "    </tr>\n",
              "    <tr>\n",
              "      <th>3</th>\n",
              "      <td>22.008136</td>\n",
              "      <td>68.767458</td>\n",
              "      <td>1188.518401</td>\n",
              "    </tr>\n",
              "    <tr>\n",
              "      <th>4</th>\n",
              "      <td>14.900000</td>\n",
              "      <td>276.519355</td>\n",
              "      <td>4025.053516</td>\n",
              "    </tr>\n",
              "    <tr>\n",
              "      <th>5</th>\n",
              "      <td>10.377193</td>\n",
              "      <td>406.903509</td>\n",
              "      <td>10666.000439</td>\n",
              "    </tr>\n",
              "    <tr>\n",
              "      <th>6</th>\n",
              "      <td>7.045455</td>\n",
              "      <td>872.863636</td>\n",
              "      <td>31903.746818</td>\n",
              "    </tr>\n",
              "    <tr>\n",
              "      <th>7</th>\n",
              "      <td>3.333333</td>\n",
              "      <td>1243.500000</td>\n",
              "      <td>118746.253333</td>\n",
              "    </tr>\n",
              "    <tr>\n",
              "      <th>8</th>\n",
              "      <td>1.666667</td>\n",
              "      <td>5647.666667</td>\n",
              "      <td>43351.156667</td>\n",
              "    </tr>\n",
              "  </tbody>\n",
              "</table>\n",
              "</div>"
            ],
            "text/plain": [
              "                 Recency    Frequency     Engagement\n",
              "OverallScore                                        \n",
              "0             291.582150    22.858012     351.529148\n",
              "1             176.339416    32.357664     563.324381\n",
              "2              77.338870    45.949059    1006.218031\n",
              "3              22.008136    68.767458    1188.518401\n",
              "4              14.900000   276.519355    4025.053516\n",
              "5              10.377193   406.903509   10666.000439\n",
              "6               7.045455   872.863636   31903.746818\n",
              "7               3.333333  1243.500000  118746.253333\n",
              "8               1.666667  5647.666667   43351.156667"
            ]
          },
          "metadata": {
            "tags": []
          },
          "execution_count": 43
        }
      ]
    },
    {
      "cell_type": "markdown",
      "metadata": {
        "id": "5q4jBG48yN22",
        "colab_type": "text"
      },
      "source": [
        "The scoring above clearly shows us that customers with score 8 is our best customers whereas 0 is the worst."
      ]
    },
    {
      "cell_type": "markdown",
      "metadata": {
        "id": "vCBfduA8ySfF",
        "colab_type": "text"
      },
      "source": [
        "#Segmenting customers"
      ]
    },
    {
      "cell_type": "markdown",
      "metadata": {
        "id": "UZ8w37WVyWlV",
        "colab_type": "text"
      },
      "source": [
        "To keep things simple, better we name these scores:\n",
        "0 to 2: Low Value\n",
        "3 to 4: Mid Value\n",
        "5+: High Value\n",
        "We can easily apply this naming on our dataframe:\n"
      ]
    },
    {
      "cell_type": "code",
      "metadata": {
        "id": "HkhVmzDfxtrF",
        "colab_type": "code",
        "colab": {}
      },
      "source": [
        "df_user['Segment'] = 'Low-Value'\n",
        "df_user.loc[df_user['OverallScore']>2,'Segment'] = 'Mid-Value' \n",
        "df_user.loc[df_user['OverallScore']>4,'Segment'] = 'High-Value' "
      ],
      "execution_count": 0,
      "outputs": []
    },
    {
      "cell_type": "code",
      "metadata": {
        "id": "ccVyFBvVxtot",
        "colab_type": "code",
        "outputId": "3318059b-8fac-4eba-d3cf-409b9ead4ee4",
        "colab": {
          "base_uri": "https://localhost:8080/",
          "height": 415
        }
      },
      "source": [
        "df_user"
      ],
      "execution_count": 0,
      "outputs": [
        {
          "output_type": "execute_result",
          "data": {
            "text/html": [
              "<div>\n",
              "<style scoped>\n",
              "    .dataframe tbody tr th:only-of-type {\n",
              "        vertical-align: middle;\n",
              "    }\n",
              "\n",
              "    .dataframe tbody tr th {\n",
              "        vertical-align: top;\n",
              "    }\n",
              "\n",
              "    .dataframe thead th {\n",
              "        text-align: right;\n",
              "    }\n",
              "</style>\n",
              "<table border=\"1\" class=\"dataframe\">\n",
              "  <thead>\n",
              "    <tr style=\"text-align: right;\">\n",
              "      <th></th>\n",
              "      <th>viewer_id</th>\n",
              "      <th>Recency</th>\n",
              "      <th>RecencyCluster</th>\n",
              "      <th>Frequency</th>\n",
              "      <th>FrequencyCluster</th>\n",
              "      <th>Engagement</th>\n",
              "      <th>EngagementCluster</th>\n",
              "      <th>OverallScore</th>\n",
              "      <th>Segment</th>\n",
              "    </tr>\n",
              "  </thead>\n",
              "  <tbody>\n",
              "    <tr>\n",
              "      <th>0</th>\n",
              "      <td>13047.0</td>\n",
              "      <td>31</td>\n",
              "      <td>3</td>\n",
              "      <td>155</td>\n",
              "      <td>0</td>\n",
              "      <td>2870.91</td>\n",
              "      <td>0</td>\n",
              "      <td>3</td>\n",
              "      <td>Mid-Value</td>\n",
              "    </tr>\n",
              "    <tr>\n",
              "      <th>1</th>\n",
              "      <td>15291.0</td>\n",
              "      <td>25</td>\n",
              "      <td>3</td>\n",
              "      <td>101</td>\n",
              "      <td>0</td>\n",
              "      <td>4339.50</td>\n",
              "      <td>0</td>\n",
              "      <td>3</td>\n",
              "      <td>Mid-Value</td>\n",
              "    </tr>\n",
              "    <tr>\n",
              "      <th>2</th>\n",
              "      <td>13705.0</td>\n",
              "      <td>7</td>\n",
              "      <td>3</td>\n",
              "      <td>18</td>\n",
              "      <td>0</td>\n",
              "      <td>393.72</td>\n",
              "      <td>0</td>\n",
              "      <td>3</td>\n",
              "      <td>Mid-Value</td>\n",
              "    </tr>\n",
              "    <tr>\n",
              "      <th>3</th>\n",
              "      <td>17924.0</td>\n",
              "      <td>11</td>\n",
              "      <td>3</td>\n",
              "      <td>29</td>\n",
              "      <td>0</td>\n",
              "      <td>2683.50</td>\n",
              "      <td>0</td>\n",
              "      <td>3</td>\n",
              "      <td>Mid-Value</td>\n",
              "    </tr>\n",
              "    <tr>\n",
              "      <th>4</th>\n",
              "      <td>13448.0</td>\n",
              "      <td>16</td>\n",
              "      <td>3</td>\n",
              "      <td>177</td>\n",
              "      <td>0</td>\n",
              "      <td>3095.41</td>\n",
              "      <td>0</td>\n",
              "      <td>3</td>\n",
              "      <td>Mid-Value</td>\n",
              "    </tr>\n",
              "    <tr>\n",
              "      <th>...</th>\n",
              "      <td>...</td>\n",
              "      <td>...</td>\n",
              "      <td>...</td>\n",
              "      <td>...</td>\n",
              "      <td>...</td>\n",
              "      <td>...</td>\n",
              "      <td>...</td>\n",
              "      <td>...</td>\n",
              "      <td>...</td>\n",
              "    </tr>\n",
              "    <tr>\n",
              "      <th>3869</th>\n",
              "      <td>17841.0</td>\n",
              "      <td>1</td>\n",
              "      <td>3</td>\n",
              "      <td>7782</td>\n",
              "      <td>3</td>\n",
              "      <td>40454.19</td>\n",
              "      <td>2</td>\n",
              "      <td>8</td>\n",
              "      <td>High-Value</td>\n",
              "    </tr>\n",
              "    <tr>\n",
              "      <th>3870</th>\n",
              "      <td>14096.0</td>\n",
              "      <td>4</td>\n",
              "      <td>3</td>\n",
              "      <td>4569</td>\n",
              "      <td>3</td>\n",
              "      <td>56739.25</td>\n",
              "      <td>2</td>\n",
              "      <td>8</td>\n",
              "      <td>High-Value</td>\n",
              "    </tr>\n",
              "    <tr>\n",
              "      <th>3871</th>\n",
              "      <td>16446.0</td>\n",
              "      <td>0</td>\n",
              "      <td>3</td>\n",
              "      <td>3</td>\n",
              "      <td>0</td>\n",
              "      <td>168472.50</td>\n",
              "      <td>3</td>\n",
              "      <td>6</td>\n",
              "      <td>High-Value</td>\n",
              "    </tr>\n",
              "    <tr>\n",
              "      <th>3872</th>\n",
              "      <td>17450.0</td>\n",
              "      <td>8</td>\n",
              "      <td>3</td>\n",
              "      <td>337</td>\n",
              "      <td>1</td>\n",
              "      <td>194550.79</td>\n",
              "      <td>3</td>\n",
              "      <td>7</td>\n",
              "      <td>High-Value</td>\n",
              "    </tr>\n",
              "    <tr>\n",
              "      <th>3873</th>\n",
              "      <td>18102.0</td>\n",
              "      <td>0</td>\n",
              "      <td>3</td>\n",
              "      <td>431</td>\n",
              "      <td>1</td>\n",
              "      <td>259657.30</td>\n",
              "      <td>3</td>\n",
              "      <td>7</td>\n",
              "      <td>High-Value</td>\n",
              "    </tr>\n",
              "  </tbody>\n",
              "</table>\n",
              "<p>3874 rows × 9 columns</p>\n",
              "</div>"
            ],
            "text/plain": [
              "      viewer_id  Recency  ...  OverallScore     Segment\n",
              "0       13047.0       31  ...             3   Mid-Value\n",
              "1       15291.0       25  ...             3   Mid-Value\n",
              "2       13705.0        7  ...             3   Mid-Value\n",
              "3       17924.0       11  ...             3   Mid-Value\n",
              "4       13448.0       16  ...             3   Mid-Value\n",
              "...         ...      ...  ...           ...         ...\n",
              "3869    17841.0        1  ...             8  High-Value\n",
              "3870    14096.0        4  ...             8  High-Value\n",
              "3871    16446.0        0  ...             6  High-Value\n",
              "3872    17450.0        8  ...             7  High-Value\n",
              "3873    18102.0        0  ...             7  High-Value\n",
              "\n",
              "[3874 rows x 9 columns]"
            ]
          },
          "metadata": {
            "tags": []
          },
          "execution_count": 45
        }
      ]
    },
    {
      "cell_type": "code",
      "metadata": {
        "id": "QOccY5XKxtmp",
        "colab_type": "code",
        "outputId": "3a3947ff-8014-4b3a-e4ad-0e6f3ff99179",
        "colab": {
          "base_uri": "https://localhost:8080/",
          "height": 121
        }
      },
      "source": [
        "# Calculate average values for each RFM_Level, and return a size of each segment \n",
        "rfm_level_agg = df_user.groupby('Segment').agg({\n",
        "    'Recency': 'mean',\n",
        "    'Frequency': 'mean',\n",
        "    'Engagement': ['mean', 'count']\n",
        "}).round(1)\n",
        "# Print the aggregated dataset\n",
        "print(rfm_level_agg)"
      ],
      "execution_count": 0,
      "outputs": [
        {
          "output_type": "stream",
          "text": [
            "           Recency Frequency Engagement      \n",
            "              mean      mean       mean count\n",
            "Segment                                      \n",
            "High-Value     9.4     620.6    19036.8   145\n",
            "Low-Value    159.6      36.3      715.3  1944\n",
            "Mid-Value     20.8     104.8     1681.1  1785\n"
          ],
          "name": "stdout"
        }
      ]
    },
    {
      "cell_type": "code",
      "metadata": {
        "id": "yDYnAQ0KxtkY",
        "colab_type": "code",
        "colab": {}
      },
      "source": [
        "rfm_level_agg.columns = rfm_level_agg.columns.droplevel()\n",
        "rfm_level_agg.columns = ['RecencyMean','FrequencyMean','EngagementMean', 'Count']"
      ],
      "execution_count": 0,
      "outputs": []
    },
    {
      "cell_type": "code",
      "metadata": {
        "id": "Fs8QnIBfxtgv",
        "colab_type": "code",
        "outputId": "d7bb2c40-8685-4da3-b5a7-a7f2208a669c",
        "colab": {
          "base_uri": "https://localhost:8080/",
          "height": 171
        }
      },
      "source": [
        "rfm_level_agg"
      ],
      "execution_count": 0,
      "outputs": [
        {
          "output_type": "execute_result",
          "data": {
            "text/html": [
              "<div>\n",
              "<style scoped>\n",
              "    .dataframe tbody tr th:only-of-type {\n",
              "        vertical-align: middle;\n",
              "    }\n",
              "\n",
              "    .dataframe tbody tr th {\n",
              "        vertical-align: top;\n",
              "    }\n",
              "\n",
              "    .dataframe thead th {\n",
              "        text-align: right;\n",
              "    }\n",
              "</style>\n",
              "<table border=\"1\" class=\"dataframe\">\n",
              "  <thead>\n",
              "    <tr style=\"text-align: right;\">\n",
              "      <th></th>\n",
              "      <th>RecencyMean</th>\n",
              "      <th>FrequencyMean</th>\n",
              "      <th>EngagementMean</th>\n",
              "      <th>Count</th>\n",
              "    </tr>\n",
              "    <tr>\n",
              "      <th>Segment</th>\n",
              "      <th></th>\n",
              "      <th></th>\n",
              "      <th></th>\n",
              "      <th></th>\n",
              "    </tr>\n",
              "  </thead>\n",
              "  <tbody>\n",
              "    <tr>\n",
              "      <th>High-Value</th>\n",
              "      <td>9.4</td>\n",
              "      <td>620.6</td>\n",
              "      <td>19036.8</td>\n",
              "      <td>145</td>\n",
              "    </tr>\n",
              "    <tr>\n",
              "      <th>Low-Value</th>\n",
              "      <td>159.6</td>\n",
              "      <td>36.3</td>\n",
              "      <td>715.3</td>\n",
              "      <td>1944</td>\n",
              "    </tr>\n",
              "    <tr>\n",
              "      <th>Mid-Value</th>\n",
              "      <td>20.8</td>\n",
              "      <td>104.8</td>\n",
              "      <td>1681.1</td>\n",
              "      <td>1785</td>\n",
              "    </tr>\n",
              "  </tbody>\n",
              "</table>\n",
              "</div>"
            ],
            "text/plain": [
              "            RecencyMean  FrequencyMean  EngagementMean  Count\n",
              "Segment                                                      \n",
              "High-Value          9.4          620.6         19036.8    145\n",
              "Low-Value         159.6           36.3           715.3   1944\n",
              "Mid-Value          20.8          104.8          1681.1   1785"
            ]
          },
          "metadata": {
            "tags": []
          },
          "execution_count": 48
        }
      ]
    },
    {
      "cell_type": "code",
      "metadata": {
        "id": "tV1PNHEHxtea",
        "colab_type": "code",
        "outputId": "c2677a99-7ec2-4957-ff6c-d21b0938096d",
        "colab": {
          "base_uri": "https://localhost:8080/",
          "height": 540
        }
      },
      "source": [
        "#Create our plot and resize it.\n",
        "fig = plt.gcf()\n",
        "ax = fig.add_subplot()\n",
        "fig.set_size_inches(16, 9)\n",
        "squarify.plot(sizes=rfm_level_agg['Count'], \n",
        "              label=['High-Value',\n",
        "                     'Mid-Value', \n",
        "                     'Low-Value'], alpha=.6 )\n",
        "plt.title(\"RFM Segments\",fontsize=18,fontweight=\"bold\")\n",
        "plt.axis('off')\n",
        "plt.show()"
      ],
      "execution_count": 0,
      "outputs": [
        {
          "output_type": "display_data",
          "data": {
            "image/png": "[encoded data removed]",
            "text/plain": [
              "<Figure size 1152x648 with 1 Axes>"
            ]
          },
          "metadata": {
            "tags": [],
            "needs_background": "light"
          }
        }
      ]
    },
    {
      "cell_type": "code",
      "metadata": {
        "id": "iHTJW__-xtcS",
        "colab_type": "code",
        "colab": {}
      },
      "source": [
        "#Engagement vs Frequency\n",
        "df_graph = df_user.query(\"Engagement < 50000 and Frequency < 2000\")\n",
        "\n",
        "plot_data = [\n",
        "    go.Scatter(\n",
        "        x=df_graph.query(\"Segment == 'Low-Value'\")['Frequency'],\n",
        "        y=df_graph.query(\"Segment == 'Low-Value'\")['Engagement'],\n",
        "        mode='markers',\n",
        "        name='Low',\n",
        "        marker= dict(size= 7,\n",
        "            line= dict(width=1),\n",
        "            color= 'blue',\n",
        "            opacity= 0.8\n",
        "           )\n",
        "    ),\n",
        "        go.Scatter(\n",
        "        x=df_graph.query(\"Segment == 'Mid-Value'\")['Frequency'],\n",
        "        y=df_graph.query(\"Segment == 'Mid-Value'\")['Engagement'],\n",
        "        mode='markers',\n",
        "        name='Mid',\n",
        "        marker= dict(size= 9,\n",
        "            line= dict(width=1),\n",
        "            color= 'green',\n",
        "            opacity= 0.8\n",
        "           )\n",
        "    ),\n",
        "        go.Scatter(\n",
        "        x=df_graph.query(\"Segment == 'High-Value'\")['Frequency'],\n",
        "        y=df_graph.query(\"Segment == 'High-Value'\")['Engagement'],\n",
        "        mode='markers',\n",
        "        name='High',\n",
        "        marker= dict(size= 11,\n",
        "            line= dict(width=1),\n",
        "            color= 'red',\n",
        "            opacity= 0.9\n",
        "           )\n",
        "    ),\n",
        "]\n",
        "\n",
        "plot_layout = go.Layout(\n",
        "        yaxis= {'title': \"Engagement\"},\n",
        "        xaxis= {'title': \"Frequency\"},\n",
        "        title='Segments'\n",
        "    )\n",
        "fig = go.Figure(data=plot_data, layout=plot_layout)\n",
        "pyoff.iplot(fig)#Engagement  Recency\n",
        "\n",
        "df_graph = df_user.query(\"Engagement  < 50000 and Frequency < 2000\")\n",
        "\n",
        "plot_data = [\n",
        "    go.Scatter(\n",
        "        x=df_graph.query(\"Segment == 'Low-Value'\")['Recency'],\n",
        "        y=df_graph.query(\"Segment == 'Low-Value'\")['Engagement'],\n",
        "        mode='markers',\n",
        "        name='Low',\n",
        "        marker= dict(size= 7,\n",
        "            line= dict(width=1),\n",
        "            color= 'blue',\n",
        "            opacity= 0.8\n",
        "           )\n",
        "    ),\n",
        "        go.Scatter(\n",
        "        x=df_graph.query(\"Segment == 'Mid-Value'\")['Recency'],\n",
        "        y=df_graph.query(\"Segment == 'Mid-Value'\")['Engagement'],\n",
        "        mode='markers',\n",
        "        name='Mid',\n",
        "        marker= dict(size= 9,\n",
        "            line= dict(width=1),\n",
        "            color= 'green',\n",
        "            opacity= 0.5\n",
        "           )\n",
        "    ),\n",
        "        go.Scatter(\n",
        "        x=df_graph.query(\"Segment == 'High-Value'\")['Recency'],\n",
        "        y=df_graph.query(\"Segment == 'High-Value'\")['Engagement'],\n",
        "        mode='markers',\n",
        "        name='High',\n",
        "        marker= dict(size= 11,\n",
        "            line= dict(width=1),\n",
        "            color= 'red',\n",
        "            opacity= 0.9\n",
        "           )\n",
        "    ),\n",
        "]\n",
        "\n",
        "plot_layout = go.Layout(\n",
        "        yaxis= {'title': \"Engagement\"},\n",
        "        xaxis= {'title': \"Recency\"},\n",
        "        title='Segments'\n",
        "    )\n",
        "fig = go.Figure(data=plot_data, layout=plot_layout)\n",
        "pyoff.iplot(fig)"
      ],
      "execution_count": 0,
      "outputs": []
    },
    {
      "cell_type": "code",
      "metadata": {
        "id": "jGJGrD-MCnra",
        "colab_type": "code",
        "colab": {}
      },
      "source": [
        "# Engagement  vs Frequency\n",
        "df_graph = df_user.query(\"Engagement < 50000 and Frequency < 2000\")\n",
        "\n",
        "plot_data = [\n",
        "    go.Scatter(\n",
        "        x=df_graph.query(\"Segment == 'Low-Value'\")['Recency'],\n",
        "        y=df_graph.query(\"Segment == 'Low-Value'\")['Frequency'],\n",
        "        mode='markers',\n",
        "        name='Low',\n",
        "        marker= dict(size= 7,\n",
        "            line= dict(width=1),\n",
        "            color= 'blue',\n",
        "            opacity= 0.8\n",
        "           )\n",
        "    ),\n",
        "        go.Scatter(\n",
        "        x=df_graph.query(\"Segment == 'Mid-Value'\")['Recency'],\n",
        "        y=df_graph.query(\"Segment == 'Mid-Value'\")['Frequency'],\n",
        "        mode='markers',\n",
        "        name='Mid',\n",
        "        marker= dict(size= 9,\n",
        "            line= dict(width=1),\n",
        "            color= 'green',\n",
        "            opacity= 0.5\n",
        "           )\n",
        "    ),\n",
        "        go.Scatter(\n",
        "        x=df_graph.query(\"Segment == 'High-Value'\")['Recency'],\n",
        "        y=df_graph.query(\"Segment == 'High-Value'\")['Frequency'],\n",
        "        mode='markers',\n",
        "        name='High',\n",
        "        marker= dict(size= 11,\n",
        "            line= dict(width=1),\n",
        "            color= 'red',\n",
        "            opacity= 0.9\n",
        "           )\n",
        "    ),\n",
        "]\n",
        "\n",
        "plot_layout = go.Layout(\n",
        "        yaxis= {'title': \"Frequency\"},\n",
        "        xaxis= {'title': \"Recency\"},\n",
        "        title='Segments'\n",
        "    )\n",
        "fig = go.Figure(data=plot_data, layout=plot_layout)\n",
        "pyoff.iplot(fig)"
      ],
      "execution_count": 0,
      "outputs": []
    }
  ]
}